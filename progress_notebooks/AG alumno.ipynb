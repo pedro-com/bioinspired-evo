{
 "cells": [
  {
   "cell_type": "markdown",
   "id": "17975d08",
   "metadata": {},
   "source": [
    "### Algotimos genéticos\n",
    "\n",
    "Para los ejemplos utilizaremos el problema del viajante de comercio (TSP)"
   ]
  },
  {
   "cell_type": "code",
   "execution_count": null,
   "id": "7967f3de-c656-4425-b2cb-1ae6a4469a7f",
   "metadata": {
    "tags": []
   },
   "outputs": [],
   "source": [
    "# definición del TSP\n",
    "\n",
    "import random\n",
    "import matplotlib.pyplot as plt\n",
    "import numpy as np\n",
    "\n",
    "def draw(solution, pad:float=0.1):\n",
    "\tplt.ion()\n",
    "\tfig = plt.figure()\n",
    "\taxes = fig.add_subplot(111)\n",
    "\tcircle = np.array(list(solution) + [solution[0]])\n",
    "\tmin_v = np.min(circle, axis=0)\n",
    "\tmax_v = np.max(circle, axis=0)\n",
    "\txlim = axes.set_xlim(min_v[0] - pad, max_v[0] + pad)\n",
    "\tylim = axes.set_ylim(min_v[1] - pad, max_v[1] + pad)\n",
    "\tl1, = axes.plot(circle[:, 0], circle[:, 1],'g')\n",
    "\tl2, = axes.plot(circle[:, 0], circle[:, 1],'ro')\n",
    "\ts = 'Length=%5.3f' % globaldist(circle)\n",
    "\tplt.title(s)\n",
    "\n",
    "N = 10\n",
    "\n",
    "# cities = []\n",
    "# \n",
    "# for i in range(N):\n",
    "# \tc = [random.random(), random.random()]\n",
    "# \tcities.append(c)\n",
    "# \n",
    "# print(cities)\n",
    "\n",
    "cities = [[0.8744058793117488, 0.30207179832703746], [0.6901572276474558, 0.8203362566663311], [0.7793458478083026, 0.09728979746351918], [0.7483358474304422, 0.4563419482458657], [0.4556164527790729, 0.12863149772605698], [0.1837236688553453, 0.23773749495644914], [0.806151832654163, 0.3288366900529254], [0.6222702185205219, 0.6019431085670109], [0.21886861543988367, 0.6980104036528004], [0.9706096813038716, 0.054871876245520146], [0.13881496219356027, 0.048489530185603646], [0.08511086492841424, 0.9123075505436051], [0.45436952164297595, 0.4731540740573398], [0.8986352255038935, 0.5116579750591849], [0.9539248970461742, 0.7530784036308166], [0.6321102985156373, 0.13575967095580344], [0.31130918313591205, 0.8545457319320597], [0.025897479791937017, 0.7854526665590987], [0.31414095045738066, 0.051421702103483846], [0.2739561013272712, 0.1970964027924862], [0.22762328443470214, 0.627414210742153], [0.44920042912037383, 0.18835427573438068], [0.2793138301174244, 0.9103956650199608], [0.005128451667189338, 0.4655718085045638], [0.9222718335261915, 0.8613103704784812], [0.49352498279326595, 0.28652416807644077], [0.5560886356057152, 0.034564925228364185], [0.0048939219846825255, 0.8635350555457212], [0.7824462381771976, 0.09355415747424733], [0.2973635133076785, 0.037580527218207815], [0.659068210692151, 0.5602321147981546], [0.43549418718677035, 0.6241289474799954], [0.25580657871099755, 0.519726015381631], [0.5950780852425872, 0.3193476592023645], [0.15763623266223903, 0.18210618406479095], [0.3434173147566393, 0.32992255868483356], [0.06451313705472006, 0.12606114349173192], [0.23212286400737547, 0.3945559700824013], [0.955507285594692, 0.02296933408938162], [0.7459955912073274, 0.1385374827130177], [0.46365765315595475, 0.6132297411379687], [0.20196772698059162, 0.046358747430397584], [0.2980093518214506, 0.36041197123227897], [0.7533459401199348, 0.6610562232191091], [0.323433933838161, 0.5068337090138902], [0.062138830138457, 0.7177455044259695], [0.47467832142010535, 0.17692718986260936], [0.2415634321550142, 0.500852093941769], [0.3441878827094532, 0.2604351258948506], [0.5445252142594251, 0.7295590645635646], [0.25391391610860914, 0.7641244059389684], [0.2630560480211699, 0.010670642241309536], [0.2092202940037915, 0.7415775443241935], [0.0031474687633804566, 0.6974574785842637], [0.4952329615559806, 0.9311775894780175], [0.1978488658972426, 0.8872693649066419], [0.1705364411799497, 0.8846808176103278], [0.7634962513234275, 0.4358457309207533], [0.9259752834140167, 0.0056226911773098465], [0.22090405091557253, 0.14500040130773872], [0.4636205151855679, 0.19249574424477278], [0.8057632881682811, 0.250168118157608], [0.6785236695642043, 0.39119477830554505], [0.4837264739606879, 0.23045417711558214], [0.8786721718893166, 0.015853186240832207], [0.1263309724872509, 0.9185321014517236], [0.24969404380600335, 0.9600467657522086], [0.5886119367943214, 0.10948123668473264], [0.13373527735293878, 0.5336853876899833], [0.5642696742735989, 0.9801384844337597], [0.646401605512568, 0.3338636388089157], [0.05603526365085032, 0.3149530712641142], [0.387141492676661, 0.5792852545912592], [0.8634070619751958, 0.8206820685065667], [0.4662474858565825, 0.32647667516764145], [0.01801973379815025, 0.12175434785651695], [0.6218125565554127, 0.07860046445444713], [0.6573938922925594, 0.5023092428939168], [0.2837581848186974, 0.02576704782244421], [0.3044774374252185, 0.7310313422019327], [0.33131673439274434, 0.693896434962478], [0.8523694048117944, 0.2805224723356823], [0.6200019812032047, 0.03989814578273998], [0.5437394088109648, 0.3258031129949792], [0.4386079860370994, 0.6142798815693052], [0.7430581106897977, 0.49260737229959284], [0.3913628378102181, 0.3185830750836698], [0.9065498976196814, 0.02381958527497441], [0.6874236611131453, 0.18642068590773597], [0.6946411585627993, 0.36991609629423117], [0.3784063098306413, 0.01018756575849844], [0.43806374889930155, 0.2268325586117821], [0.7411632641820634, 0.35513151640087337], [0.3884706603234591, 0.34043302784114093], [0.08674110453583683, 0.4491174987265194], [0.9794883193315694, 0.11207520940235804], [0.7496156619797683, 0.23845386610980834], [0.4423888847621813, 0.17212722421686055], [0.2276570035864689, 0.6515924491551327], [0.836939257954547, 0.0499933914625984]] # Length=8.587\n",
    "\n",
    "def dist (x, y): # distancia euclídea\n",
    "\treturn ( (x[0]-y[0])**2 + (x[1]-y[1])**2 ) ** 0.5\n",
    "\n",
    "def globaldist (cities): # calcula la ditancia global de una solución\n",
    "\tacum = 0.0\n",
    "\tfor i in range(len(cities)):\n",
    "\t\tacum += dist(cities[i-1],cities[i]) # -1 is the last element\n",
    "\treturn acum\n",
    "\n",
    "def fit_cities (cities): # fitness para TSP\n",
    "\treturn 1 / (1+globaldist(cities))\n",
    "\n",
    "from src.evolutive import PermutationEvolutive\n",
    "draw(cities)\n",
    "evolution = PermutationEvolutive(\n",
    "    alphabet=cities,\n",
    "    n_individuals=100,\n",
    "    mutation=[\"to-opt\", \"insert-gene\", \"swap-gene\"],\n",
    "    crossover= \"half-fixed\",\n",
    "\tT_selection=10,\n",
    "\tp_crossover=0.7,\n",
    "\taverage_mutation_rate=1.,\n",
    "\telitism=True,\n",
    "\tuse_multithread=False\n",
    ")\n",
    "\n",
    "results = evolution.evolve(fit=fit_cities, n_generations=1000, obtain_metrics=True, trace=100)\n",
    "evolution.plot_metrics(results[\"evolution_metrics\"])\n",
    "draw(results[\"best\"])"
   ]
  },
  {
   "cell_type": "code",
   "execution_count": null,
   "id": "91e55e4e",
   "metadata": {},
   "outputs": [],
   "source": [
    "fit_cities(results[\"best\"])"
   ]
  },
  {
   "cell_type": "code",
   "execution_count": null,
   "id": "54cbe93d",
   "metadata": {
    "tags": []
   },
   "outputs": [],
   "source": [
    "# draw a TSP solution\n",
    "\n",
    "import matplotlib.pyplot as plt\n",
    "import numpy as np\n",
    "\n",
    "def draw (solution):\n",
    "    plt.ion()\n",
    "    fig = plt.figure()\n",
    "    axes = fig.add_subplot(111)\n",
    "    xlim = axes.set_xlim(0.0,1.0)\n",
    "    ylim = axes.set_ylim(0.0,1.0)\n",
    "    x = []\n",
    "    y = []\n",
    "\n",
    "    bucle = solution + [solution[0]] # añade al final la vuelta a la primera\n",
    "\n",
    "    c = np.array(bucle)\n",
    "    x = c[:,0]\n",
    "    y = c[:,1]\n",
    "\n",
    "    l1, = axes.plot(x, y,'g')\n",
    "    l2, = axes.plot(x, y,'ro')\n",
    "    \n",
    "    s = 'Length=%5.3f' % globaldist(bucle)\n",
    "    plt.title(s)\n",
    "\n",
    "draw(cities)"
   ]
  },
  {
   "cell_type": "markdown",
   "id": "62b7345f",
   "metadata": {},
   "source": [
    "Haremos una implementación funcional, aunque sería más apropiado definir una clase"
   ]
  },
  {
   "cell_type": "code",
   "execution_count": null,
   "id": "27f20ed6",
   "metadata": {},
   "outputs": [],
   "source": [
    "import random\n",
    "import copy\n",
    "\n",
    "def create (alphabet, N=100): # crea y devuelve población\n",
    "    pop = []\n",
    "    for _ in range(N):\n",
    "        ind = [*alphabet]\n",
    "        random.shuffle(ind)\n",
    "        pop.append(ind)\n",
    "    return pop\n",
    "\n",
    "def sort_pop (pop, fit): # devuelve una tupla: la población ordenada por fitness, y la lista de fitness\n",
    "    fitness_list = []\n",
    "    for i, ind in enumerate(pop):\n",
    "        fitness_list.append(fit(ind))\n",
    "    \n",
    "\n",
    "def select (pop, T): # devuelve un individuo seleccionado por torneo, devuelve una copia para evitar efectos laterales\n",
    "    # pop se supone ya ordenada por fitness\n",
    "    pass\n",
    "\n",
    "def crossover (ind1, ind2, pcross): # devuelve el cruce (emparejamiento) de dos individuos\n",
    "    pass\n",
    "\n",
    "def mutate (ind, pmut): # devuelve individuo mutado; la mutación consistirá en intercambiar elementos\n",
    "    pass\n",
    "\n",
    "def evolve (pop, fit, pmut, pcross=0.7, ngen=100, T=2, trace=0, elitism=False):\n",
    "    pass"
   ]
  },
  {
   "cell_type": "code",
   "execution_count": null,
   "id": "3f7f4d53",
   "metadata": {},
   "outputs": [],
   "source": [
    "# Prueba simple (ordenar una lista de 10 elementos)\n",
    "\n",
    "alphabet = list(range(10))\n",
    "\n",
    "pop = create(alphabet)\n",
    "print(pop)\n",
    "\n",
    "def fit (ind):\n",
    "    # cuenta los mal colocados\n",
    "    distance = 0\n",
    "    for i in range(len(ind)):\n",
    "        distance += abs(i-ind[i])\n",
    "    return distance # mejor cuanto más colocados\n",
    "\n",
    "_, pop = sort_pop(pop, fit)\n",
    "print(pop)\n",
    "\n",
    "for _ in range(3):\n",
    "    ind = select(pop, 5)\n",
    "    print(ind)\n",
    "\n",
    "i2 = mutate(pop[0],0.5,10)\n",
    "print(i2)\n",
    "\n",
    "i1 = list(range(10))\n",
    "i2 = list(reversed(i1))\n",
    "i1, i2 = crossover(i1,i2,1.0)\n",
    "print(i1,i2)\n"
   ]
  },
  {
   "cell_type": "code",
   "execution_count": null,
   "id": "ec7adb0e",
   "metadata": {},
   "outputs": [],
   "source": [
    "pop = create(alphabet)\n",
    "evolve(pop, fit, 1/10, pcross=0.7, ngen=100, T=8, maximize=False) # por qué T=8?\n"
   ]
  },
  {
   "cell_type": "markdown",
   "id": "88063996",
   "metadata": {},
   "source": [
    "### Vamos con el TSP\n",
    "\n",
    "Creamos la población"
   ]
  },
  {
   "cell_type": "code",
   "execution_count": null,
   "id": "416894e0",
   "metadata": {},
   "outputs": [],
   "source": [
    "pop = create(cities)\n",
    "pop\n"
   ]
  },
  {
   "cell_type": "markdown",
   "id": "21e8ca25",
   "metadata": {},
   "source": [
    "### Evolucionamos y pintamos resultados"
   ]
  },
  {
   "cell_type": "code",
   "execution_count": null,
   "id": "0ab2364c",
   "metadata": {},
   "outputs": [],
   "source": [
    "pop = evolve(pop, globaldist, 1/100, ngen=1000, trace=100)\n",
    "draw(pop[0])"
   ]
  },
  {
   "cell_type": "markdown",
   "id": "12d63855",
   "metadata": {},
   "source": [
    "No llega a una solución suficientemente buena. Puede ser por varios motivos:\n",
    "  * Pocas generaciones. Continuar a ver.\n",
    "  * pmut incorrecta: demasiado baja: convergencia muy lenta; demasiado alta: mucha aleatoriedad, la optimización no pregresa debido al ruido.\n",
    "  * T incorrecto: demasiado bajo, pocas opciones a los mejores; demasiado alto: se cae en minimo local.\n",
    "  * El mejor individuo se pierde: probar elitismo.\n",
    "  * Hemos caído en un mínimo local: volver a empezar (multiarranque)."
   ]
  },
  {
   "cell_type": "code",
   "execution_count": null,
   "id": "04731993",
   "metadata": {},
   "outputs": [],
   "source": [
    "# aumentamos generaciones\n",
    "\n",
    "pop = evolve(pop, globaldist, 1/100, ngen=10000, trace=500)"
   ]
  },
  {
   "cell_type": "code",
   "execution_count": null,
   "id": "c35b605a",
   "metadata": {},
   "outputs": [],
   "source": [
    "# la optimización se estanca, quizá es que T es demasiado bajo\n",
    "\n",
    "pop = create(cities)\n",
    "pop = evolve(pop, globaldist, 1/100, ngen=10000, trace=500, T=6)\n",
    "draw(pop[0])"
   ]
  },
  {
   "cell_type": "code",
   "execution_count": null,
   "id": "f13e8623",
   "metadata": {},
   "outputs": [],
   "source": [
    "# hay otras estrategias de mutación mejores para este problema, por ejemplo borrar e insertar\n",
    "\n",
    "def mutate (ind, pmut, L): # la mutación consistirá en borrar un elemento e insertarlo en otro lado\n",
    "    pass"
   ]
  },
  {
   "cell_type": "code",
   "execution_count": null,
   "id": "55d517c6",
   "metadata": {},
   "outputs": [],
   "source": [
    "pop = create(cities)\n",
    "pop = evolve(pop, globaldist, 1/100, ngen=10000, trace=500, T=6, pcross=0.0)\n",
    "draw(pop[0])"
   ]
  },
  {
   "cell_type": "code",
   "execution_count": null,
   "id": "47b69123",
   "metadata": {},
   "outputs": [],
   "source": [
    "# continuamos, pero parece estancarse\n",
    "\n",
    "pop = evolve(pop, globaldist, 1/100, ngen=10000, trace=500, T=4, pcross=0.0)\n",
    "\n",
    "draw(pop[0])"
   ]
  },
  {
   "cell_type": "code",
   "execution_count": null,
   "id": "61371b5b",
   "metadata": {},
   "outputs": [],
   "source": [
    "import numpy as np\n",
    "import random\n",
    "\n",
    "# pero el azar siempre es nuestro aliado\n",
    "# el uso de varios operadores de mutación ayuda a salir de mínimos locales\n",
    "\n",
    "def mutate_swap (ind, pmut): # la mutación consistirá en intercambiar elementos\n",
    "    if random.random() >= pmut:\n",
    "        return  # NO mutation\n",
    "    print('Swap!')\n",
    "    idx1, idx2 = np.random.choice(range(len(ind)), size=2)\n",
    "    ind[idx1], ind[idx2] = ind[idx2], ind[idx1]\n",
    "\n",
    "def mutate_insert (ind, pmut): # la mutación consistirá en borrar un elemento e insertarlo en otro lado\n",
    "    if random.random() >= pmut:\n",
    "        print('No mutation')\n",
    "        return  # NO mutation\n",
    "    print('Insert!')\n",
    "    idx1 = np.random.choice(range(len(ind)))\n",
    "    gene = ind.pop(idx1)\n",
    "    idx2 = np.random.choice(range(len(ind)))\n",
    "    ind.insert(idx2, gene)\n",
    "\n",
    "def mutate_reverse (ind, pmut): # selecciona dos puntos e invierte la secuencia entre ellos\n",
    "    if random.random() >= pmut:\n",
    "        return  # NO mutation\n",
    "    print('Reverse!')\n",
    "    idx1, idx2 = np.random.choice(range(len(ind)), size=2)\n",
    "    if idx1 > idx2:\n",
    "        idx1, idx2 = idx2, idx1\n",
    "    ind[idx1+1:idx2] = ind[idx1+1:idx2][::-1]\n",
    "\n",
    "mutations = [mutate_swap, mutate_insert, mutate_reverse]\n",
    "def mutate (ind, pmut):\n",
    "    operator = random.choice(mutations)\n",
    "    return operator(ind, pmut)"
   ]
  },
  {
   "cell_type": "code",
   "execution_count": null,
   "id": "3dca41ba",
   "metadata": {},
   "outputs": [],
   "source": [
    "ind = [4, 6, 3, 1, 7, 5, 0, 9, 8, 2]\n",
    "mutate_reverse(ind, 0.5)\n",
    "print(ind)"
   ]
  },
  {
   "cell_type": "code",
   "execution_count": null,
   "id": "ad32d1dc",
   "metadata": {},
   "outputs": [],
   "source": [
    "pop = create(cities)\n",
    "pop = evolve(pop, globaldist, 1/100, ngen=10000, trace=500, T=4, pcross=0.0)\n",
    "draw(pop[0])"
   ]
  },
  {
   "cell_type": "code",
   "execution_count": null,
   "id": "0197698e",
   "metadata": {},
   "outputs": [],
   "source": [
    "# parece que ahora vamos por buen camino; continuamos un poco más\n",
    "\n",
    "pop = evolve(pop, globaldist, 1/100, ngen=10000, trace=500, T=4, pcross=0.0)\n",
    "draw(pop[0])"
   ]
  },
  {
   "cell_type": "markdown",
   "metadata": {},
   "source": [
    "### Optimización de números reales"
   ]
  },
  {
   "cell_type": "code",
   "execution_count": null,
   "metadata": {},
   "outputs": [],
   "source": [
    "# Función himmelblau\n",
    "# si se pone onlyone a True \n",
    "\n",
    "onlyone = False\n",
    "def himmelblau (ch):\n",
    "\tx = ch[0]\n",
    "\ty = ch[1]\n",
    "\tfxy = (x**2 + y - 11)**2 + (x + y**2 -7)**2\n",
    "\tif onlyone and (x>0 or y>0): # himmelblau modified to have only one global minimum (-3.77, -3.28)\n",
    "\t\tfxy += 0.5\n",
    "\treturn fxy"
   ]
  },
  {
   "cell_type": "code",
   "execution_count": null,
   "metadata": {},
   "outputs": [],
   "source": [
    "# Define operadores de números reales\n",
    "\n",
    "rang = (-5, 5) # al no hacerlo con clases, debemos definir el rango como variable global\n",
    "\n",
    "def create (alphabet=None, N=100): # crea y devuelve población; alphabet aquí no se usa\n",
    "    pass\n",
    "\n",
    "def crossover (ind1, ind2, pcross): # devuelve el cruce (emparejamiento) de dos individuos\n",
    "    pass\n",
    "\n",
    "def mutate (ind, pmut): # devuelve individuo mutado; la mutación consistirá en intercambiar elementos\n",
    "    pass"
   ]
  },
  {
   "cell_type": "code",
   "execution_count": null,
   "metadata": {},
   "outputs": [],
   "source": [
    "# fitness para himmelblau: valor mínimo de la función\n",
    "\n",
    "def fitness_himmel (ch):\n",
    "\treturn 1 / (1 + himmelblau(ch))"
   ]
  },
  {
   "cell_type": "code",
   "execution_count": null,
   "metadata": {},
   "outputs": [],
   "source": [
    "# crea y evoluiona\n",
    "pop = create()\n",
    "pop = evolve(pop, fitness_himmel, 1/100, ngen=1000, trace=100, T=4, pcross=0.7)\n",
    "print(pop(0))"
   ]
  },
  {
   "cell_type": "markdown",
   "metadata": {},
   "source": [
    "### Otras sugenrencias opcionales\n",
    "  * *Ampliar el TSP a 3 dimensiones*, incluyendo el dibujo con matplotlib.\n",
    "  * *Cuadrado mágico de 8x8*: deben sumar lo mismo filas, columnas y diagonales principales.\n",
    "  * *n-reinas*: colocar n reinas en un tablero de modo que ninguna se coma a otra.\n",
    "  * *mochila*: llenar una mochila con objetos de una tabla de modo que se maximice la supervivencia y no se exceda la capacidad.\n",
    "  * *Probar con otras funciones numéricas con convexas* (ver la celda siguiente).\n",
    "\n",
    "Ejemplo de cuadrado mágico de 8x8:\n",
    "\n",
    "[[63 54 14 44 13 57  7  8]  \n",
    " [20  2 45  9 17 64 51 52]  \n",
    " [38 47 21 62 27 29  4 32]  \n",
    " [18 36 33 40 28 23 34 48]  \n",
    " [39  3 50  5 42 24 56 41]  \n",
    " [12 26 43 30 53 16 22 58]  \n",
    " [11 37 35 60 49  1 61  6]  \n",
    " [59 55 19 10 31 46 25 15]]  "
   ]
  },
  {
   "cell_type": "code",
   "execution_count": null,
   "metadata": {},
   "outputs": [],
   "source": [
    "# otras funciones\n",
    "\n",
    "import math\n",
    "def ackley (ch): # min in (0,0); huge set of local minima\n",
    "\tx = ch[0]\n",
    "\ty = ch[1]\n",
    "\tfxy = -20 * math.exp( -0.2 * (0.5 * (x**2 + y**2)) ** 0.5 ) \\\n",
    "\t\t- math.exp (0.5 * (math.cos(2 * math.pi * x) + math.cos(2 * math.pi * y))) + math.e + 20\n",
    "\treturn fxy\n",
    "\n",
    "def beale (ch):\n",
    "\tx = ch[0]\n",
    "\ty = ch[1]\n",
    "\tterm1 = (1.5 - x + x * y) ** 2\n",
    "\tterm2 = (2.25 - x + x * y ** 2) ** 2\n",
    "\tterm3 = (2.625 - x + x * y ** 3) ** 2\n",
    "\treturn term1 + term2 + term3\n",
    "\n",
    "def easom (ch):\n",
    "\tx = ch[0]\n",
    "\ty = ch[1]\n",
    "\treturn -math.cos(x) * math.cos(y) * math.exp(-(x - math.pi)**2 - (y - math.pi)**2)\n",
    "\n",
    "def goldstein_price_function(ch):\n",
    "\tx = ch[0]\n",
    "\ty = ch[1]\n",
    "\tterm1 = (1 + (x + y + 1) ** 2 * (19 - 14 * x + 3 * x ** 2 - 14 * y + 6 * x * y + 3 * y ** 2))\n",
    "\tterm2 = (30 + (2 * x - 3 * y) ** 2 * (18 - 32 * x + 12 * x ** 2 + 48 * y - 36 * x * y + 27 * y ** 2))\n",
    "\treturn term1 * term2\n",
    "\n",
    "def rosenbrock (ch):\n",
    "\tx = ch[0]\n",
    "\ty = ch[1]\n",
    "\ta = 1\n",
    "\tb = 100\n",
    "\tterm1 = (a - x) ** 2\n",
    "\tterm2 = b * (y - x ** 2) ** 2\n",
    "\treturn term1 + term2\n",
    "\n",
    "def rosenbrock_ndim (x):\n",
    "    a = 1\n",
    "    b = 100\n",
    "    sum = 0\n",
    "    for i in range(len(x)-1):\n",
    "        sum += (a - x[i])**2 + b * (x[i+1] - x[i]**2)**2\n",
    "    return sum\n"
   ]
  },
  {
   "cell_type": "markdown",
   "id": "e1f425d3",
   "metadata": {},
   "source": [
    "### Otros ejemplos\n",
    "\n",
    "  * Canal del profesor en https://www.youtube.com/@franciscoserradilla5932\n",
    "  * Viajante de comercio en 3D: https://youtu.be/M-Wvq6LS_Ko?si=a9AkrZ0ipgoYr8x6\n",
    "  * Lunar lander con Neuroevolución: https://youtu.be/nIS9yeiqDEA?si=uvUJr_aY4KUyKdqx\n",
    "  "
   ]
  }
 ],
 "metadata": {
  "kernelspec": {
   "display_name": "machine-learning",
   "language": "python",
   "name": "python3"
  },
  "language_info": {
   "codemirror_mode": {
    "name": "ipython",
    "version": 3
   },
   "file_extension": ".py",
   "mimetype": "text/x-python",
   "name": "python",
   "nbconvert_exporter": "python",
   "pygments_lexer": "ipython3",
   "version": "3.9.1"
  }
 },
 "nbformat": 4,
 "nbformat_minor": 5
}
