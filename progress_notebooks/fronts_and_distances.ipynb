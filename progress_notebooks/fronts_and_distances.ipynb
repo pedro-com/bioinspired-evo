{
 "cells": [
  {
   "cell_type": "code",
   "execution_count": 5,
   "metadata": {},
   "outputs": [],
   "source": [
    "import numpy as np\n",
    "import plotly.graph_objects as go\n",
    "import random\n",
    "import matplotlib.pyplot as plt\n",
    "from pymoo.core.problem import Problem\n",
    "from pymoo.problems import get_problem\n",
    "from pymoo.util.plotting import plot\n",
    "from pymoo.util.ref_dirs import get_reference_directions\n",
    "from pymoo.visualization.scatter import Scatter\n",
    "\n",
    "from pymoo.algorithms.moo.nsga2 import NSGA2\n",
    "from pymoo.optimize import minimize\n"
   ]
  },
  {
   "cell_type": "code",
   "execution_count": 6,
   "metadata": {},
   "outputs": [],
   "source": [
    "def dominance_matrix_diff(a, b):\n",
    "    diff = np.array(a) - np.array(b)\n",
    "    \n",
    "    if np.all(diff >= 0) and not np.array_equal(a, b):\n",
    "        return 1\n",
    "    else:\n",
    "        return 0\n",
    "    \n",
    "def get_dominance_matrix(coordinates):\n",
    "    dominance_matrix = np.zeros((len(coordinates), len(coordinates)))\n",
    "    for i, elem1 in enumerate(coordinates):\n",
    "        for j, elem2 in enumerate(coordinates):\n",
    "            dominance_matrix[i,j] = dominance_matrix_diff(elem1, elem2)\n",
    "    return dominance_matrix\n",
    "\n",
    "def plot_pareto_fronts(frentes):\n",
    "    \"\"\"\n",
    "    Grafica los frentes de Pareto a partir de una lista de arrays de numpy.\n",
    "    \n",
    "    Args:\n",
    "        frentes (list): Lista de arrays de numpy, donde cada array contiene puntos pertenecientes a un frente.\n",
    "    \"\"\"\n",
    "    colores = [\"red\", \"blue\", \"green\", \"purple\", \"orange\", \"brown\", \"pink\", \"gray\"]\n",
    "\n",
    "    plt.figure(figsize=(10, 6))\n",
    "\n",
    "    for idx, (pts, color) in enumerate(zip(frentes, colores), start=1):\n",
    "        plt.scatter(pts[:, 0], pts[:, 1], color=color, label=f\"Frente {idx}\", s=100)\n",
    "\n",
    "    # Configuración de la gráfica\n",
    "    plt.title('Frentes de Pareto')\n",
    "    plt.xlabel('Objetivo f1(x)')\n",
    "    plt.ylabel('Objetivo f2(x)')\n",
    "    plt.legend()\n",
    "    plt.show()\n",
    "\n",
    "# def plot_pareto_fronts_3d(frentes):\n",
    "#     \"\"\"\n",
    "#     Grafica los frentes de Pareto en 3D a partir de una lista de arrays de numpy. (con matplotlib) NO INTERACTIVO\n",
    "\n",
    "#     Args:\n",
    "#         frentes (list): Lista de arrays de numpy, donde cada array contiene puntos pertenecientes a un frente.\n",
    "#                         Cada punto debe tener tres coordenadas para los objetivos.\n",
    "#     \"\"\"\n",
    "#     colores = [\"red\", \"blue\", \"green\", \"purple\", \"orange\", \"brown\", \"pink\", \"gray\"]\n",
    "\n",
    "#     fig = plt.figure(figsize=(10, 8))\n",
    "#     ax = fig.add_subplot(111, projection='3d')\n",
    "\n",
    "#     for idx, (pts, color) in enumerate(zip(frentes, colores), start=1):\n",
    "#         ax.scatter(pts[:, 0], pts[:, 1], pts[:, 2], color=color, label=f\"Frente {idx}\", s=50)\n",
    "\n",
    "#     # Configuración de la gráfica\n",
    "#     ax.set_title('Frentes de Pareto en 3D')\n",
    "#     ax.set_xlabel('Objetivo f1(x)')\n",
    "#     ax.set_ylabel('Objetivo f2(x)')\n",
    "#     ax.set_zlabel('Objetivo f3(x)')\n",
    "#     ax.legend()\n",
    "\n",
    "#     plt.show()\n",
    "\n",
    "def plot_pareto_fronts_3d(frentes):\n",
    "    \"\"\"\n",
    "    Grafica los frentes de Pareto en 3D a partir de una lista de arrays de numpy utilizando Plotly.\n",
    "\n",
    "    Args:\n",
    "        frentes (list): Lista de arrays de numpy, donde cada array contiene puntos pertenecientes a un frente.\n",
    "                        Cada punto debe tener tres coordenadas para los objetivos.\n",
    "    \"\"\"\n",
    "    colores = [\"red\", \"blue\", \"green\", \"purple\", \"orange\", \"brown\", \"pink\", \"gray\"]\n",
    "\n",
    "    fig = go.Figure()\n",
    "\n",
    "    for idx, (pts, color) in enumerate(zip(frentes, colores), start=1):\n",
    "        fig.add_trace(go.Scatter3d(\n",
    "            x=pts[:, 0],\n",
    "            y=pts[:, 1],\n",
    "            z=pts[:, 2],\n",
    "            mode='markers',\n",
    "            marker=dict(size=5, color=color),\n",
    "            name=f\"Frente {idx}\"\n",
    "        ))\n",
    "\n",
    "    # Configuración de la gráfica\n",
    "    fig.update_layout(\n",
    "        title=\"Frentes de Pareto en 3D\",\n",
    "        scene=dict(\n",
    "            xaxis_title=\"Objetivo f1(x)\",\n",
    "            yaxis_title=\"Objetivo f2(x)\",\n",
    "            zaxis_title=\"Objetivo f3(x)\"\n",
    "        ),\n",
    "        legend=dict(title=\"Frentes\")\n",
    "    )\n",
    "\n",
    "    fig.show()\n",
    "\n",
    "def get_pareto_fronts(coordinates):\n",
    "    coordinates_copy = coordinates.copy()\n",
    "    fronts = []\n",
    "\n",
    "    while len(coordinates_copy) > 1:\n",
    "        dominance_matrix = get_dominance_matrix(coordinates_copy)\n",
    "        dominated_count = dominance_matrix.sum(axis=0)\n",
    "        current_front = np.where(dominated_count == 0)[0]\n",
    "        pareto_points = coordinates_copy[current_front]\n",
    "        fronts.append(pareto_points)\n",
    "        coordinates_copy = np.delete(coordinates_copy, (current_front), axis=0)\n",
    "\n",
    "    return fronts\n",
    "\n",
    "def calcular_distancia_crowding(frente):\n",
    "    \"\"\"\n",
    "    Calcula las distancias de crowding para un frente de Pareto.\n",
    "\n",
    "    Args:\n",
    "        frente (np.ndarray): Array de puntos (n x m), donde n es el número de puntos y m el número de objetivos.\n",
    "\n",
    "    Returns:\n",
    "        list: Lista de distancias de crowding para cada punto del frente.\n",
    "    \"\"\"\n",
    "    n_puntos = len(frente)\n",
    "    if n_puntos < 2:\n",
    "        # Si hay menos de dos puntos, no se puede calcular crowding\n",
    "        return [float('inf')] * n_puntos\n",
    "\n",
    "    # Inicializar las distancias de crowding\n",
    "    distancia_frente = [0] * n_puntos\n",
    "\n",
    "    for k in range(frente.shape[1]):  # Para cada objetivo\n",
    "        # Ordenar los puntos según el objetivo k\n",
    "        args = np.argsort(frente[:, k])\n",
    "\n",
    "        # Asignar infinito a los extremos\n",
    "        distancia_frente[args[0]] = float('inf')\n",
    "        distancia_frente[args[-1]] = float('inf')\n",
    "\n",
    "        # Calcular contribuciones para los puntos internos\n",
    "        for i in range(1, n_puntos - 1):\n",
    "            distancia_frente[args[i]] += (\n",
    "                (frente[args[i + 1], k] - frente[args[i - 1], k]) /\n",
    "                (frente[args[-1], k] - frente[args[0], k])\n",
    "                if frente[args[-1], k] != frente[args[0], k] else 0\n",
    "            )\n",
    "\n",
    "    return distancia_frente\n",
    "\n",
    "def get_crowding_distances(fronts):\n",
    "    distancias = []\n",
    "    for frente in fronts:\n",
    "        distancias.append(calcular_distancia_crowding(frente))\n",
    "    return distancias"
   ]
  },
  {
   "cell_type": "code",
   "execution_count": 7,
   "metadata": {},
   "outputs": [
    {
     "name": "stdout",
     "output_type": "stream",
     "text": [
      "(1000, 2)\n"
     ]
    },
    {
     "data": {
      "image/png": "[encoded data removed]",
      "text/plain": [
       "<Figure size 1000x600 with 1 Axes>"
      ]
     },
     "metadata": {},
     "output_type": "display_data"
    }
   ],
   "source": [
    "num_points = 1000\n",
    "dim = 2\n",
    "\n",
    "# coordinates = np.random.randint(0, 100, (num_points, dim))\n",
    "coordinates = np.random.random((num_points, dim))\n",
    "print(coordinates.shape)\n",
    "\n",
    "fronts = get_pareto_fronts(coordinates)\n",
    "\n",
    "distances = get_crowding_distances(fronts)\n",
    "# print(distances)\n",
    "plot_pareto_fronts(fronts)"
   ]
  },
  {
   "cell_type": "code",
   "execution_count": 8,
   "metadata": {},
   "outputs": [
    {
     "name": "stdout",
     "output_type": "stream",
     "text": [
      "(1000, 3)\n"
     ]
    },
    {
     "data": {
      "application/vnd.plotly.v1+json": {
       "config": {
        "plotlyServerURL": "https://plot.ly"
       },
       "data": [
        {
         "marker": {
          "color": "red",
          "size": 5
         },
         "mode": "markers",
         "name": "Frente 1",
         "type": "scatter3d",
         "x": [
          0.9735162640000853,
          0.9992984696589318,
          0.996888275640705,
          0.9880178216068588,
          0.8604818783394015,
          0.9961529447660293,
          0.9003517251930161,
          0.27993985809112487,
          0.9935449432787024,
          0.8115352269349284,
          0.987453468892129,
          0.9855987599018399,
          0.32755625832764346,
          0.9940945461859587,
          0.6774913269905952,
          0.4456462563782938,
          0.8896682978754781,
          0.9601182377298656,
          0.9897659516721132,
          0.7080986418309878,
          0.6332377936653322,
          0.33980466782198515,
          0.951187948414616,
          0.6147439305843828,
          0.9543544648369643,
          0.8879629965798861,
          0.09445437111599586
         ],
         "y": [
          0.6327998493592057,
          0.3959281197695942,
          0.5202524320884204,
          0.029597825611817674,
          0.9974067270183675,
          0.7354752699897856,
          0.9577896993156421,
          0.0847828818443307,
          0.7799535248678203,
          0.1809198360397679,
          0.9218906197755735,
          0.7150602405572823,
          0.9980401059174497,
          0.6932341382692417,
          0.8509856099328003,
          0.9982169751140249,
          0.9885715664868844,
          0.944139714125018,
          0.9401492385689247,
          0.975641502467264,
          0.8887050567806308,
          0.9979898156876743,
          0.944158680813283,
          0.9803950189715305,
          0.9574010632207337,
          0.9470294851445694,
          0.9439139416107333
         ],
         "z": [
          0.9934392543542362,
          0.35911946498681124,
          0.4098171446619122,
          0.951007240623752,
          0.8199150334622906,
          0.14292467731725456,
          0.3201342622048404,
          0.9990191057276404,
          0.1614388347092902,
          0.9988775234700412,
          0.7185326911816579,
          0.8313395360728785,
          0.7336793731300015,
          0.7956322261186841,
          0.9971203843827858,
          0.2995526956032082,
          0.41042166255899337,
          0.940022802430897,
          0.00421842353020685,
          0.9523022666369666,
          0.9979659205805095,
          0.5143229343114666,
          0.4619117198552346,
          0.9663815594642471,
          0.1075714004206586,
          0.9634247133334553,
          0.99172678083132
         ]
        },
        {
         "marker": {
          "color": "blue",
          "size": 5
         },
         "mode": "markers",
         "name": "Frente 2",
         "type": "scatter3d",
         "x": [
          0.9697108702522077,
          0.9449536626753541,
          0.28220922098043133,
          0.4335611213982692,
          0.9704581431816173,
          0.9379677510548622,
          0.8924254443879304,
          0.972185838276496,
          0.852642867210267,
          0.668155192433467,
          0.3402356129967504,
          0.7818908025699641,
          0.9694893975813766,
          0.9832241174287134,
          0.9277480336173094,
          0.5757549647063255,
          0.84339057943482,
          0.7948992068701761,
          0.848565479963322,
          0.8766962969245968,
          0.47562020450894604,
          0.35615683973462786,
          0.7767603779381945,
          0.8610457829591065,
          0.8639473479905532,
          0.41530008630997717,
          0.9274262411270633,
          0.26894386059514797,
          0.9660784359382931,
          0.07398059194095785,
          0.5973316177201401,
          0.5025803172130091,
          0.7287939968069943,
          0.06768325033705103,
          0.8561513790638685,
          0.9563161832258673,
          0.9336634763017732,
          0.37203523846276554,
          0.988527441070559,
          0.9807064172051844,
          0.5137117649909911,
          0.6296216974986399,
          0.947529587018619,
          0.43177072022768004,
          0.9578627073695389,
          0.9791280631981568,
          0.4611820753482633,
          0.9950443468046022,
          0.8860557604518536,
          0.9933566078354213
         ],
         "y": [
          0.544192259451392,
          0.8992048948013951,
          0.9970692321931538,
          0.9631903704662353,
          0.8803268070750196,
          0.5604363596047606,
          0.582829456428162,
          0.8599344504777497,
          0.8930314303281499,
          0.9451556790512214,
          0.9801620789054973,
          0.947791125522265,
          0.5494864694847438,
          0.24176420724223258,
          0.9260370577715521,
          0.9655831383092677,
          0.9817500594875496,
          0.592465453557983,
          0.833307879485571,
          0.9386222680818062,
          0.8930740365022415,
          0.982080944674654,
          0.9966757777328729,
          0.8121326578658554,
          0.9388324574313319,
          0.9776870986279017,
          0.40837132016160504,
          0.8170743843957708,
          0.47817172931980034,
          0.06748240277507855,
          0.8531337667148037,
          0.027199842386149364,
          0.6067504573798693,
          0.9438499886489733,
          0.9290239625650796,
          0.9184700929214663,
          0.6570941046287296,
          0.9380069908530214,
          0.11581765578858605,
          0.7950284175736092,
          0.9891860198131597,
          0.9203558646318872,
          0.7251505400847685,
          0.8593008245501557,
          0.911282663574025,
          0.39868431554749517,
          0.37935363638752084,
          0.42527465172949797,
          0.3845438366695062,
          0.5151439453798593
         ],
         "z": [
          0.8472710914271371,
          0.6135130614399815,
          0.0676420253338319,
          0.8613213596728179,
          0.18809386419576546,
          0.9544565044294268,
          0.9002883519534352,
          0.619211823489943,
          0.9291849541018077,
          0.6525880442123538,
          0.8339289150790343,
          0.40070388618134856,
          0.661079225906772,
          0.8263914410370087,
          0.8366863447677381,
          0.8344110987081753,
          0.28896207942881313,
          0.9558238025388324,
          0.9453258977366943,
          0.1537991634282878,
          0.8845053609826476,
          0.7425241920808664,
          0.6185806011595355,
          0.8457029026287596,
          0.11527020613509764,
          0.8709702021976319,
          0.9838412206491134,
          0.9942970347138588,
          0.9555622522395694,
          0.9978735359311312,
          0.9925307845118024,
          0.9969331822743971,
          0.9569858510264088,
          0.9501409869847699,
          0.8639779920797844,
          0.0861537621915126,
          0.8024683090818518,
          0.9243389864569,
          0.6997531931065103,
          0.4537257855452841,
          0.6794090568076525,
          0.8701340178260527,
          0.7095098653382612,
          0.968746243019025,
          0.19871915600048595,
          0.7484020732005051,
          0.99772536820743,
          0.10286662298055926,
          0.9848785399092045,
          0.33597293132044526
         ]
        },
        {
         "marker": {
          "color": "green",
          "size": 5
         },
         "mode": "markers",
         "name": "Frente 3",
         "type": "scatter3d",
         "x": [
          0.29153304807149105,
          0.5911449567524668,
          0.8008114703361591,
          0.8995355075973906,
          0.8851512114628742,
          0.3127501897948777,
          0.9804547322179488,
          0.9207819889615871,
          0.9806464452490806,
          0.5390879381419031,
          0.5339613293075436,
          0.8295712863459122,
          0.4697348008313149,
          0.9666959733058295,
          0.98452091979046,
          0.6626266524142359,
          0.29632573922115724,
          0.9645540283740844,
          0.9782995549642669,
          0.8093363171778127,
          0.09876757509635148,
          0.9638174380509184,
          0.9723600967119647,
          0.6663210666045633,
          0.6017831319311534,
          0.973568733219588,
          0.9112722002094159,
          0.9163840031149552,
          0.9745412788031979,
          0.619463102242945,
          0.8887749289457691,
          0.9920634604728721,
          0.4105596614891982,
          0.7192580379733654,
          0.9817582913481223,
          0.9589354767215976,
          0.4773406099192712,
          0.37520448307210796,
          0.6963393754874068,
          0.9444706760112758,
          0.8782300189717539,
          0.8848716813851106,
          0.8001004289169094,
          0.9476576107557269,
          0.6289134740213491,
          0.7981677462638609,
          0.10088283523739516,
          0.7061374230386667,
          0.9843621681150375,
          0.753576430552164,
          0.7085459981714086,
          0.696636631439285,
          0.8803547809063499,
          0.9324461286941861,
          0.33079446242281363,
          0.03259220028014853,
          0.6037644474680424,
          0.9221078484657439,
          0.6720226027597231,
          0.943736727393798,
          0.7480248482345849,
          0.2948546290141075,
          0.5083110952011263,
          0.8049673002155563,
          0.9872288452987558,
          0.7999499396165254,
          0.2462725338174906,
          0.9622798740094113,
          0.9173796866906071,
          0.27225031214296624,
          0.5706474937716374,
          0.8771466888442974,
          0.707163686819634,
          0.9472833610988036,
          0.6766499995382873,
          0.9121850606911881,
          0.8296918691932822
         ],
         "y": [
          0.6967666913208365,
          0.7908871621019647,
          0.6750839530298589,
          0.8507003042952215,
          0.9117471577288302,
          0.877747776922821,
          0.6077948329346597,
          0.506260010385209,
          0.3244265606511483,
          0.5809505334874928,
          0.09021946860484575,
          0.5931530988224689,
          0.20165238237496697,
          0.3994998480837584,
          0.4682529404094373,
          0.223999686443334,
          0.9627248065404023,
          0.5401884116726486,
          0.7057919434165921,
          0.9523361836392915,
          0.9624190497639252,
          0.4824981540194414,
          0.3241500050681033,
          0.9769294250532934,
          0.9935300689295613,
          0.7582618366614813,
          0.7396973575798401,
          0.8657620724691649,
          0.2606639572393956,
          0.7602797472247805,
          0.9202441084318426,
          0.4292178232686187,
          0.8470894782671331,
          0.14187578702801928,
          0.4364085207985142,
          0.39624305522805914,
          0.7149647047413422,
          0.9341408450251544,
          0.680866194127247,
          0.8297645435848092,
          0.819091288074982,
          0.7802774912639832,
          0.9615737858022857,
          0.8565366010534791,
          0.7599108870226675,
          0.9335626521744611,
          0.9725002703789559,
          0.6236119564494876,
          0.39664937606467165,
          0.04895834647248898,
          0.9919700077962822,
          0.9603434299680726,
          0.8030910111159403,
          0.8645949011337152,
          0.8730988690490702,
          0.8385025803503094,
          0.47194920124455375,
          0.21112538253348656,
          0.9282660478886141,
          0.5456436958461724,
          0.952641846406223,
          0.2508583984131534,
          0.8165637969015497,
          0.06522084604885825,
          0.010051993413540128,
          0.891538139236858,
          0.3344987136398758,
          0.4618956620442991,
          0.5339407314021895,
          0.9372469037460686,
          0.5577644102072125,
          0.9023479594113334,
          0.6884382840312941,
          0.7884388954333962,
          0.9650211899992689,
          0.5789446647525478,
          0.6333481813245019
         ],
         "z": [
          0.9645313094861119,
          0.9606211238482107,
          0.9170060327388417,
          0.3684752911928503,
          0.29719413232924996,
          0.8366125417455107,
          0.2560658009715451,
          0.5050165112940104,
          0.24161277557146255,
          0.9828228678888811,
          0.9850873875699866,
          0.9409490561648933,
          0.992073128467653,
          0.7576956524318602,
          0.03676639352179356,
          0.9564261640994555,
          0.6647657423184061,
          0.5033494414177612,
          0.263472806692291,
          0.00611975701841605,
          0.8355406544547339,
          0.7439075985413186,
          0.5192726505380024,
          0.6127628088484623,
          0.504994075100942,
          0.05247346919104401,
          0.829535237548833,
          0.13073211010126518,
          0.3566832372584706,
          0.8733728125308559,
          0.10122678873828483,
          0.013581339912322021,
          0.9309584059938357,
          0.9649391049627456,
          0.21465617683566285,
          0.9275144082082958,
          0.9644633187616191,
          0.8046433392453947,
          0.8705644889062211,
          0.23152054269809852,
          0.429510002791924,
          0.5664335571382269,
          0.0196336349002475,
          0.1980000280615053,
          0.8451735267654213,
          0.25089237774658724,
          0.8349639321946927,
          0.9235884945861397,
          0.16507517392158222,
          0.9762369155553756,
          0.1475498027415223,
          0.20859198847081462,
          0.564070955095985,
          0.1825177004489874,
          0.9130718638091653,
          0.9609125761664964,
          0.9556948546340271,
          0.9412194169134723,
          0.7015089197763091,
          0.35972126170849417,
          0.35114748299208864,
          0.9919831827897796,
          0.9145034048826925,
          0.9692846524285358,
          0.40557227889930036,
          0.8361084556780097,
          0.9928236171204611,
          0.8802850729670315,
          0.7138477331418257,
          0.7527452746617705,
          0.979205153514564,
          0.8030808786920521,
          0.8467080389338548,
          0.34549518246138833,
          0.5338724442928948,
          0.6502179348940254,
          0.9201196666395769
         ]
        },
        {
         "marker": {
          "color": "purple",
          "size": 5
         },
         "mode": "markers",
         "name": "Frente 4",
         "type": "scatter3d",
         "x": [
          0.9144951601212167,
          0.42306312381760725,
          0.97938027979164,
          0.9536370558997056,
          0.6334455130182055,
          0.5138464645098444,
          0.6027656767336712,
          0.9587487049464402,
          0.9513692265516229,
          0.6441792659877021,
          0.05525332961999807,
          0.407032839395288,
          0.9842172213451325,
          0.5136049367919598,
          0.2815019194470355,
          0.5472166991652881,
          0.6256951924922773,
          0.9403560909642028,
          0.917466480263825,
          0.17214988196076375,
          0.939559502493351,
          0.45035648157043473,
          0.9235856824417809,
          0.5172467150280603,
          0.9376886723590048,
          0.6975101114510128,
          0.845689817830187,
          0.918032729422192,
          0.9646264851954557,
          0.7290166948488435,
          0.881390646511637,
          0.9497649006303878,
          0.5043843245682432,
          0.4900456044872512,
          0.49904098632307503,
          0.01603866886864358,
          0.7390691178885014,
          0.19060574529708596,
          0.3470848219428294,
          0.3166671073440058,
          0.5919716879661293,
          0.1682106834715168,
          0.26635197524963183,
          0.17344992772996237,
          0.5358081149967246,
          0.37500963482338345,
          0.9763416558340746,
          0.9424100732025109,
          0.5861978308733077,
          0.9414415113500024,
          0.8994803631974222,
          0.6262984901731709,
          0.4240384779984616,
          0.7753313460896316,
          0.956813603336364,
          0.6029537191252395,
          0.5692321628412589,
          0.8987212737147295,
          0.6098451485970582,
          0.7680623107783288,
          0.029309943354928314,
          0.1914231427400619,
          0.8371918285488846,
          0.9710573110481302,
          0.8341316607622982,
          0.5223941084045919,
          0.8946658806550418,
          0.9478636246826335,
          0.8987258045980772,
          0.49891877701633114,
          0.04750677151109606,
          0.8956454987199752,
          0.8194945626861965
         ],
         "y": [
          0.3841801492400917,
          0.9707703582682708,
          0.22302113673874913,
          0.041899121023039165,
          0.5463358558247136,
          0.05928086828689061,
          0.7651303586047008,
          0.3697365658111561,
          0.676595634152915,
          0.6797263493098308,
          0.7698568608872842,
          0.9930404114565233,
          0.13336329179069717,
          0.9296950349820248,
          0.9710476967717862,
          0.8765559017941288,
          0.9703908140713029,
          0.11629208371000899,
          0.7467855863222501,
          0.6492171601588935,
          0.7023267103608689,
          0.8944541788579139,
          0.6339884704629799,
          0.9840415243526678,
          0.2836943471011647,
          0.8644803408767757,
          0.7588375148414968,
          0.324522341201964,
          0.39200764097962737,
          0.8322491374857388,
          0.7493252437667941,
          0.4190385409613838,
          0.6434478590426599,
          0.07139365399948772,
          0.5083539553562401,
          0.517186423672492,
          0.8896288023689372,
          0.5499271618722111,
          0.7985092391638409,
          0.5076554597417169,
          0.9420229737213591,
          0.9907766610118821,
          0.9934133884392421,
          0.9532685951572827,
          0.9100744239868397,
          0.988218959593951,
          0.6241884287887048,
          0.21967407005462936,
          0.8716745211660888,
          0.5271555955117406,
          0.7826989155784039,
          0.9143239122817023,
          0.9433874963378085,
          0.5698042799958712,
          0.015487194676252924,
          0.7026328064665507,
          0.3398485990877921,
          0.7063530504179422,
          0.8789057849319307,
          0.5408255439539048,
          0.5768322762695725,
          0.93053620561748,
          0.8698995265879435,
          0.6724471454210935,
          0.8010380511601716,
          0.789034846087802,
          0.7619027380998598,
          0.5948944744667287,
          0.4101191420061302,
          0.6325881098155954,
          0.9375791306910092,
          0.7269626156249757,
          0.538493795448793
         ],
         "z": [
          0.9075745267911757,
          0.28950835485417625,
          0.17944020237800717,
          0.7331880469196521,
          0.935786499524752,
          0.9794177807944375,
          0.7959210016024814,
          0.5354247295089375,
          0.1189267699989549,
          0.8649550359699832,
          0.9152296991647417,
          0.09873196636830595,
          0.08298238054491047,
          0.5250249836392415,
          0.3978468433939444,
          0.8223322793352151,
          0.09375906050199934,
          0.9087766446747145,
          0.11350114655458232,
          0.9481554113409757,
          0.0973459218323166,
          0.6537308445686536,
          0.3140182271996276,
          0.17505938208779548,
          0.8446453727480356,
          0.6323140438451488,
          0.6302626834743618,
          0.878062599067025,
          0.4896912900372843,
          0.5554326341496763,
          0.25532882362820575,
          0.34762203067302944,
          0.9287363264699627,
          0.9797155268450412,
          0.9501703086541807,
          0.9567260672522001,
          0.24791250696816902,
          0.9436755788064394,
          0.9047156047031605,
          0.9762670029431104,
          0.5128428280618705,
          0.17367817549518771,
          0.08131093409030699,
          0.5944563865095338,
          0.625988304515158,
          0.28153965920589064,
          0.1317917335294554,
          0.6185809977516953,
          0.7422248459273345,
          0.3893897311693203,
          0.10807889771813783,
          0.34460893548197913,
          0.354883547478128,
          0.8784827098594857,
          0.5771338404712417,
          0.8409357468472894,
          0.9515677772269632,
          0.7522521933286845,
          0.6712773382330737,
          0.9402840685231451,
          0.9563487889878773,
          0.7256968307859936,
          0.5266498899880082,
          0.1617247392591763,
          0.7763657035291868,
          0.9151074852719769,
          0.11992446823724967,
          0.22270710667315474,
          0.5498797243523108,
          0.9322630183777753,
          0.7355262425748865,
          0.5469196978365736,
          0.9291122607842343
         ]
        },
        {
         "marker": {
          "color": "orange",
          "size": 5
         },
         "mode": "markers",
         "name": "Frente 5",
         "type": "scatter3d",
         "x": [
          0.907324048628791,
          0.8652577561702687,
          0.2799476587030426,
          0.8054112450584912,
          0.26614524543316853,
          0.8042292936045053,
          0.7339237225651563,
          0.137053744925264,
          0.30979756848938633,
          0.4570093286489403,
          0.840121268691398,
          0.5629550821180958,
          0.16194765418480017,
          0.22281428856510055,
          0.49583253689556517,
          0.4943475968869706,
          0.27587361030172974,
          0.6569654782718769,
          0.9542294351808893,
          0.25356684515122707,
          0.9103254777824863,
          0.9354053752151874,
          0.5430196269570978,
          0.20317432371867927,
          0.9063350223229901,
          0.21386676581771757,
          0.5776605602916468,
          0.10967644015549871,
          0.09004283233658161,
          0.8959317275458573,
          0.9287642069625279,
          0.46615689497387547,
          0.5587003233067064,
          0.4064717659558317,
          0.07723862548227678,
          0.7317736342103872,
          0.9051272540336712,
          0.5006540643298363,
          0.8727931265289477,
          0.6572197759438905,
          0.4083153344938679,
          0.5430903889509447,
          0.8890775708678187,
          0.30394556601458544,
          0.5589442402007664,
          0.13333917653124006,
          0.6188822636995644,
          0.6024749135915066,
          0.3043516669332549,
          0.9371208064713527,
          0.2120361300916056,
          0.8905759872482064,
          0.25159286757267896,
          0.2927721150270731,
          0.7217660521168658,
          0.9209966700440824,
          0.922989774596318,
          0.4823550733660046,
          0.7777161999620061,
          0.14197932753715903,
          0.2917309242948023,
          0.7169128152715971,
          0.26729834280861464,
          0.5772490283747707,
          0.6234533686958079,
          0.9315656807578562,
          0.3195381055964681,
          0.7689449059593576,
          0.020068546124895836,
          0.13348939299534113,
          0.44020187888669327,
          0.9326933796247185,
          0.801738034782261,
          0.7802347619915396,
          0.9623086561364899,
          0.7799709739098506,
          0.09429163202841262,
          0.906394367256941,
          0.5375657615106768,
          0.8163189032363635,
          0.05143650498157348,
          0.6517616867904403,
          0.16219619237524863,
          0.9436131040759607,
          0.8090593628039546
         ],
         "y": [
          0.5863198103645204,
          0.5495889517230598,
          0.937411257405367,
          0.26644668011324746,
          0.8372586635217012,
          0.6193548438302208,
          0.8092541441957634,
          0.8849770610175536,
          0.5619042119814889,
          0.7360050280562946,
          0.37233921090799726,
          0.8683070243333736,
          0.6473399652905644,
          0.9424496120653107,
          0.8146902198590305,
          0.9013059527120326,
          0.021037224885210204,
          0.5131843864268211,
          0.15499535963936772,
          0.8619040459739785,
          0.23747882451293323,
          0.3368854759181432,
          0.9171541062964126,
          0.9044620689590497,
          0.37178981102657815,
          0.5442454028681423,
          0.9050827727487121,
          0.991892983080561,
          0.9135637473869928,
          0.1755945278755897,
          0.09302147497334745,
          0.6505978950426591,
          0.46835824862751174,
          0.48276533901469776,
          0.9659151560578529,
          0.7497061584016147,
          0.251949687104853,
          0.874187640638234,
          0.6543091792296656,
          0.8606027325772222,
          0.8274738988580586,
          0.2771099607005869,
          0.5091636478444256,
          0.22478782954829601,
          0.34538954743546413,
          0.6004404160226756,
          0.8245326169995285,
          0.8958708490961071,
          0.986729453812445,
          0.3038063628022357,
          0.4987381763537221,
          0.38112618912269014,
          0.7423412250029543,
          0.7410689302493975,
          0.7661411469917999,
          0.5150831844710789,
          0.40783285755066,
          0.4161412040959016,
          0.6911944018152885,
          0.7557809971885853,
          0.02260709767938973,
          0.45869883940738576,
          0.4997649668723011,
          0.5383053185840273,
          0.7989621017787987,
          0.13373681363343826,
          0.9649774872555879,
          0.6977016901814813,
          0.9069036993223542,
          0.902519089129818,
          0.7312276360903844,
          0.28295914737483907,
          0.44863660183718135,
          0.7439430385617564,
          0.09564549832962577,
          0.7162560479023439,
          0.9620789613581248,
          0.5707872665265011,
          0.5476275818890656,
          0.11966272148037427,
          0.8568015879812599,
          0.859954783555075,
          0.912242799971326,
          0.12634114602108382,
          0.4285390657143776
         ],
         "z": [
          0.2559103060130613,
          0.7406494937089452,
          0.30698843645894214,
          0.9082530628789294,
          0.7485581235505159,
          0.7198140488853954,
          0.4054007952537121,
          0.49095197255864553,
          0.9288462445931759,
          0.831476540278202,
          0.7832270573911372,
          0.7372721337844661,
          0.9110338514848384,
          0.21988300856766396,
          0.7409905984482237,
          0.3926443940576726,
          0.9745529816662591,
          0.8131616479896697,
          0.36900456036039253,
          0.7716462148509667,
          0.7549361931662973,
          0.14284276958495368,
          0.2761142365613165,
          0.4601775674658799,
          0.5727859952709042,
          0.9311062226458438,
          0.3615733592296112,
          0.0011901149821748058,
          0.6966361697909738,
          0.7579532502154105,
          0.8997189646715238,
          0.8647320803474317,
          0.8733085518741251,
          0.91473261811609,
          0.21709210969450066,
          0.451955704565993,
          0.6641831872078375,
          0.5116059546681629,
          0.6653020345840925,
          0.17652446730787352,
          0.8074482299910651,
          0.9328625354820734,
          0.6624551635681147,
          0.9551446572739414,
          0.9298130021543478,
          0.9390860301906436,
          0.5529051954526726,
          0.09845563596941509,
          0.0866624625065564,
          0.4052617295790597,
          0.9713314588876865,
          0.39356555005258265,
          0.8637946796207775,
          0.8257073608577841,
          0.6933662126568424,
          0.288359697145098,
          0.1634478433258646,
          0.9399075626735205,
          0.6668873081529219,
          0.8506017598786509,
          0.969644148573318,
          0.9123935936746375,
          0.9333304383132177,
          0.8569654264413121,
          0.6968066102267172,
          0.46342670977013034,
          0.08731088976999035,
          0.7751837911448116,
          0.7050172274176101,
          0.5781082030283828,
          0.906404974495191,
          0.4101039876110981,
          0.8747995471192395,
          0.035444347831394496,
          0.014741911345515502,
          0.42104361035047133,
          0.1786321534515517,
          0.28053721398685105,
          0.8281115774964428,
          0.8705360807602359,
          0.7771803182311638,
          0.4369965961584291,
          0.46120850964453897,
          0.47634469512419464,
          0.7938226744473442
         ]
        },
        {
         "marker": {
          "color": "brown",
          "size": 5
         },
         "mode": "markers",
         "name": "Frente 6",
         "type": "scatter3d",
         "x": [
          0.19204273690312312,
          0.7331399934872405,
          0.4218054322224969,
          0.9275213674791767,
          0.4127692219557647,
          0.8848000463262532,
          0.03350894220076028,
          0.7862150089178417,
          0.07652907070382109,
          0.6355628379951965,
          0.8522616945816593,
          0.6885833894083755,
          0.6776407076150063,
          0.8734695970530836,
          0.860273511382987,
          0.13983355075184534,
          0.8932101976416172,
          0.9083068546759676,
          0.10600353857705092,
          0.7406418453116037,
          0.7363933227844727,
          0.8156307004464343,
          0.7399840181519279,
          0.36324640938852293,
          0.13834853357802424,
          0.3449742662433263,
          0.65356978444765,
          0.22973889420662075,
          0.22198453675544405,
          0.7727589653363987,
          0.8818355171806973,
          0.40217366944055954,
          0.415947627239586,
          0.30780290355099493,
          0.15400474975994027,
          0.5371434423434642,
          0.2316442354110958,
          0.001408100498229925,
          0.7782733815014322,
          0.5906689819922044,
          0.8347290216579069,
          0.2371657837512714,
          0.3928865736517365,
          0.9138586003697102,
          0.7820408159127413,
          0.8886138840256994,
          0.4309976445161192,
          0.8972766043457243,
          0.5761835488593907,
          0.7097091564418117,
          0.6164121164309593,
          0.3761832795257495,
          0.7663932303870942,
          0.7475460605735883,
          0.11817718477950234,
          0.7925151698834063,
          0.4892312814136186,
          0.535151062115674,
          0.10525542174325131,
          0.8209262966765578,
          0.7540931110176019,
          0.7876651272678552,
          0.005204716455556535,
          0.580350356272148,
          0.7908779199414622,
          0.4991528537944132,
          0.3708510848134223,
          0.1492793034370441,
          0.5399269151628421,
          0.1960196080858403,
          0.42300532851687667,
          0.8010453842969076,
          0.10748780080081988,
          0.32473116887539955,
          0.4079179166014699,
          0.8983892245965959,
          0.05561007026883136,
          0.5261225730003254,
          0.9395697520961867,
          0.01074021991537899,
          0.08730504713406273,
          0.02107621203913912,
          0.38122169951723484,
          0.7542551308958914,
          0.20386341156640386,
          0.21732392416584023,
          0.7908167733005681,
          0.4716293541219153,
          0.6148051983722005,
          0.34027416398899346,
          0.6761967329932371
         ],
         "y": [
          0.6974167810633219,
          0.6734482382200309,
          0.6638963360593456,
          0.19667133308925155,
          0.859071530556192,
          0.4573154344149073,
          0.9026880373245554,
          0.21136410864843813,
          0.3360385752389655,
          0.8044532438585345,
          0.29314088063635935,
          0.2951509396748465,
          0.7617165916213378,
          0.49359103015107286,
          0.6349712929537936,
          0.6897265477661993,
          0.12724933195400756,
          0.2551130544278143,
          0.7028528777143098,
          0.7134059937782751,
          0.24762544952474053,
          0.6411482311838979,
          0.6773130446363765,
          0.5245796718808059,
          0.7586960915028419,
          0.3644086971857281,
          0.7620960534529863,
          0.9710486503246483,
          0.7916363436358125,
          0.6291245571943656,
          0.14699072207473918,
          0.3190793071101603,
          0.8578703879540183,
          0.8040119542176389,
          0.056009743304764936,
          0.49343889352790504,
          0.5059973065285218,
          0.3700022265470845,
          0.22569375053829432,
          0.32728510494791696,
          0.614850381728004,
          0.8042435735401595,
          0.9046215920584874,
          0.2931444921507518,
          0.5347595975071778,
          0.33856295189226726,
          0.8763442592637758,
          0.22605655480549447,
          0.8183212506020963,
          0.7154594722035292,
          0.09673728950141935,
          0.4029957147647356,
          0.5997880238565305,
          0.08866466934218009,
          0.9341744263557248,
          0.3931032703180972,
          0.8183056606397311,
          0.4381705741375883,
          0.8848897096220268,
          0.1785587353110495,
          0.1975086828036291,
          0.20907995832083026,
          0.7003483476314011,
          0.2678726576872936,
          0.18997835176593214,
          0.7590666534508009,
          0.5245595534401675,
          0.9152514124583458,
          0.8811628286632813,
          0.239718850409388,
          0.6003262981794043,
          0.0596224633622503,
          0.5631535990023828,
          0.8655276424598213,
          0.6750764054870797,
          0.0201887780147626,
          0.8837847740880579,
          0.5148714579193054,
          0.026116859739201415,
          0.25911292740207936,
          0.9170853520785172,
          0.8193173777145213,
          0.917016249762944,
          0.6587217725057704,
          0.5305741741402344,
          0.9149843837448802,
          0.047636517792163935,
          0.8482922393731467,
          0.799847461393659,
          0.5670835806701575,
          0.7160226049924805
         ],
         "z": [
          0.8216412867903254,
          0.729038842712859,
          0.7441701503345871,
          0.2062167534586311,
          0.309687534156986,
          0.4891157036178929,
          0.6669331631648927,
          0.8052415628786541,
          0.9277506028184975,
          0.04460165304436625,
          0.5527683175181436,
          0.8274002920685528,
          0.4910056457149431,
          0.4160832086138211,
          0.490169342245,
          0.8584178358976577,
          0.4780882171387597,
          0.38738847393685505,
          0.8316245113680575,
          0.15372076443850602,
          0.7713417962484187,
          0.2585728129055461,
          0.5438778423767517,
          0.8732019520132833,
          0.7944638126917913,
          0.9041071900333413,
          0.6615201089051955,
          0.04027536087919703,
          0.7925459504324689,
          0.5224006563101774,
          0.7547145812465252,
          0.9148950148256427,
          0.6881102953182346,
          0.7834862866749086,
          0.9689149722028708,
          0.8416377150744941,
          0.9167780126638418,
          0.9410284353426585,
          0.746474180088546,
          0.8191579099902736,
          0.5422932352015642,
          0.7108461971927721,
          0.2776036320102755,
          0.022794948013695082,
          0.6337575609821837,
          0.30245051924679944,
          0.16062591109389934,
          0.4173024533136098,
          0.48070589940380537,
          0.4619052509421061,
          0.8974241735542557,
          0.8989100979904588,
          0.7581747411727658,
          0.9033265752113186,
          0.05089997965849968,
          0.5836998273869939,
          0.6174211771110867,
          0.8885970901525503,
          0.5174257614659884,
          0.7673815140198278,
          0.8938543173114311,
          0.8691818322948466,
          0.8983641852225261,
          0.8835719296891112,
          0.747272370695043,
          0.7141252590497105,
          0.8803839914102635,
          0.2705043618131635,
          0.0633601603060453,
          0.936865434897511,
          0.7928662154536164,
          0.9030446214025594,
          0.9151428383812786,
          0.615401201850827,
          0.8656191497578624,
          0.8883714064973802,
          0.6238582259850821,
          0.8552568922327496,
          0.012853012972368627,
          0.9289749570285211,
          0.07920747715152165,
          0.7929141781693637,
          0.10105714034128355,
          0.1646096876432882,
          0.9086847238973388,
          0.30467666668046023,
          0.9066258014211521,
          0.6312959549870012,
          0.5445542312343128,
          0.8700246652894843,
          0.5725038298807886
         ]
        },
        {
         "marker": {
          "color": "pink",
          "size": 5
         },
         "mode": "markers",
         "name": "Frente 7",
         "type": "scatter3d",
         "x": [
          0.6507209736784506,
          0.8086693880939207,
          0.6441040780268942,
          0.322441489532574,
          0.30857043061747713,
          0.6812623593019741,
          0.32815408074995134,
          0.13607262777520568,
          0.7393594565131684,
          0.6068027754530612,
          0.44808383039930066,
          0.8000072431926248,
          0.5262118587235312,
          0.5298501898444687,
          0.32167313044855117,
          0.8773424985811565,
          0.10801270538990915,
          0.7663978119162578,
          0.7717101615137466,
          0.37245704140445957,
          0.4174135992956669,
          0.6002824679947096,
          0.4029187530725742,
          0.05792583417130592,
          0.4906037374803609,
          0.5018389000966191,
          0.25124273318177426,
          0.7619801034642836,
          0.8572562840385306,
          0.09098139295418772,
          0.8867665007742133,
          0.5797693091622197,
          0.12740203291107666,
          0.8862299707408613,
          0.014208829682390456,
          0.807984341721961,
          0.8944044484078401,
          0.6394069147923441,
          0.24774898508822374,
          0.8197268790200919,
          0.6932981995982258,
          0.6360193289024721,
          0.2571979063863421,
          0.8615064176068409,
          0.165335090687303,
          0.5651575108137392,
          0.8868270910142766,
          0.2340531506864908,
          0.40172863844670004,
          0.6467785876754487,
          0.49382528658738034,
          0.35967119606143705,
          0.4572581181028924,
          0.1665015523151422,
          0.18466464476347588,
          0.20243002859482762,
          0.4476595194915518,
          0.6192500856061061,
          0.6271444186396389,
          0.5522723561290976,
          0.8083367920246468,
          0.0207293311997383,
          0.3850683283660573,
          0.4400359641628433,
          0.32328229557156096,
          0.8333991120341434,
          0.6813122553431447,
          0.486578132234021,
          0.4506805717271529,
          0.14268941470137508,
          0.565582268314723,
          0.8043963880293086,
          0.4371577368189191,
          0.551192644161833,
          0.12411075383801295,
          0.7819384260033698,
          0.7926804167702747,
          0.6469411372945477,
          0.8066088181615191,
          0.8438543544015554,
          0.818138979373192,
          0.7548979954977916
         ],
         "y": [
          0.04962899797929121,
          0.08636456609359766,
          0.5268522764906631,
          0.7671921064238071,
          0.5752968954861023,
          0.6692706407125962,
          0.5481114331355597,
          0.48208417419689675,
          0.5476411439928409,
          0.7788767687819378,
          0.8266608976888198,
          0.12319349816113168,
          0.43247367670989434,
          0.004418686891466517,
          0.8456774292795023,
          0.33699373826173196,
          0.9043315553515573,
          0.05669918645540717,
          0.07236466178363066,
          0.6593657549845885,
          0.7184749378753612,
          0.7818956373952822,
          0.46831309843525315,
          0.08450250246882252,
          0.2676867811302448,
          0.7721719997286034,
          0.8658846239401523,
          0.20820256506159895,
          0.5440306682841507,
          0.8831458834298034,
          0.013062362076570966,
          0.14397908330448972,
          0.7807351142920459,
          0.006413547206160608,
          0.7882687219626938,
          0.638298027250751,
          0.09719677108285762,
          0.6954478203295538,
          0.8704753579235908,
          0.040452604741467946,
          0.2535579117048181,
          0.09624151061943553,
          0.7317985724689311,
          0.037944602215840284,
          0.8515762295043291,
          0.2415467412552883,
          0.19345379230859006,
          0.852464195602943,
          0.21277314776153844,
          0.7561038100140116,
          0.14675498879002713,
          0.7842084647079538,
          0.568856576248201,
          0.12690994136202216,
          0.37778076165358376,
          0.789780240853706,
          0.8296914491756244,
          0.72984463201084,
          0.1274907979746691,
          0.7538846591084774,
          0.12226018211225376,
          0.610765119136672,
          0.8456547362079684,
          0.36560623042570406,
          0.8451686542170456,
          0.010928762940530246,
          0.1408837669739359,
          0.4596632012499612,
          0.27871668967932006,
          0.475377507094911,
          0.6973126266362937,
          0.19948139511295104,
          0.36949151436068595,
          0.6699747946376801,
          0.9455000201031054,
          0.033371178668640256,
          0.283967968300337,
          0.06845464495192399,
          0.6302266379591576,
          0.044851541026795894,
          0.5305858699315773,
          0.5204860597960815
         ],
         "z": [
          0.864563450807468,
          0.619260236383964,
          0.7413591260035073,
          0.5909536037600044,
          0.8016224090251457,
          0.6437165032645416,
          0.8226425480819436,
          0.9131043148723971,
          0.5199778844080798,
          0.337853836207207,
          0.2330114397413534,
          0.6549349800623826,
          0.7725020414182691,
          0.8971653187162262,
          0.6774707766351629,
          0.4160389809102386,
          0.03243419987067686,
          0.7676092164417331,
          0.7492856312630973,
          0.7783988753184212,
          0.6975051493046263,
          0.37486693381396585,
          0.8469898533671915,
          0.9263233142888826,
          0.8375406791909678,
          0.4257149116447816,
          0.19690199391076235,
          0.7400495084215603,
          0.4813242278230986,
          0.268624283407094,
          0.3124195793250696,
          0.8770270295541043,
          0.7904965449592991,
          0.8515844013682686,
          0.726725392530321,
          0.1288187583402629,
          0.08523973050551181,
          0.6290086826173037,
          0.0003803161568833868,
          0.5779540041493267,
          0.7553482394553785,
          0.7915333688881929,
          0.7432225698819847,
          0.6326678694986753,
          0.3738336744575369,
          0.8073729991361861,
          0.2999229621332813,
          0.32253367566585445,
          0.8784150052185075,
          0.045600769824977405,
          0.8881466738133189,
          0.516953886568132,
          0.755429524968944,
          0.9181867698613718,
          0.8983088185023828,
          0.6822925353263549,
          0.4517508465035611,
          0.37566387987550043,
          0.7795839214554975,
          0.6580868755203536,
          0.6495850468328787,
          0.8232040582213284,
          0.38980807494038194,
          0.8375873211806893,
          0.39356918435264965,
          0.7305853473965762,
          0.7737881170694786,
          0.7844210191852607,
          0.802815767042819,
          0.8740248788789456,
          0.4947440932775258,
          0.5339362573029401,
          0.8621839900570422,
          0.7122033085887425,
          0.01463495609847243,
          0.8927039760332414,
          0.5318719226839717,
          0.783789936445993,
          0.3831314142323814,
          0.5545919358441229,
          0.5162524443170557,
          0.7521034056493708
         ]
        },
        {
         "marker": {
          "color": "gray",
          "size": 5
         },
         "mode": "markers",
         "name": "Frente 8",
         "type": "scatter3d",
         "x": [
          0.8324177990029145,
          0.7967372387933609,
          0.6676162200978355,
          0.8417230730328424,
          0.5652375388779515,
          0.015264536644696403,
          0.6525112415584585,
          0.7048001919401375,
          0.20462450117737185,
          0.04990069980602596,
          0.8275766327536743,
          0.046509812826000196,
          0.8458786253494842,
          0.7239298595622193,
          0.4279361797009602,
          0.82343660862878,
          0.1675732758162244,
          0.46913753042387707,
          0.7933503249484091,
          0.03938146311387747,
          0.2370032210612204,
          0.09235950931984394,
          0.3594664898115192,
          0.7940566121766048,
          0.2543123036790663,
          0.7898978467498771,
          0.40216705678540865,
          0.06088973595157787,
          0.7422578099172348,
          0.4641605905175685,
          0.6046233093715856,
          0.5014849714196921,
          0.41744198056424797,
          0.8428043675805628,
          0.7255529779613812,
          0.4016522485525372,
          0.3615092242902963,
          0.5990712966279412,
          0.4334054621869201,
          0.009404841897684535,
          0.26276749062352833,
          0.05099870540791396,
          0.7974399717171516,
          0.7182926894439577,
          0.10917324585750598,
          0.2178938786358653,
          0.18191731866655925,
          0.005704165398001337,
          0.4163868683004248,
          0.6361702736810725,
          0.8544851915616372,
          0.5246679730714732,
          0.6346677989771142,
          0.4120936802045846,
          0.2764935087039603,
          0.08062445657636119,
          0.11166571643612766,
          0.3686262252246866,
          0.5220061880783963,
          0.5957195793356208,
          0.3226037057934812,
          0.5687845146085168,
          0.06097948440435341,
          0.45892926541507206,
          0.4104860333877193,
          0.3975731902450237,
          0.8056229419831499,
          0.07402308344050212,
          0.8605983654285844,
          0.021988795253046978,
          0.6959227661702118,
          0.2809537390306436,
          0.6556185890282128
         ],
         "y": [
          0.20829477306205657,
          0.46127076884644236,
          0.6093063973763256,
          0.1586518306709106,
          0.6706890374862668,
          0.5528356538540131,
          0.5102665516763125,
          0.48212657443025797,
          0.8152594577075332,
          0.03137204418412809,
          0.39072688374701103,
          0.3978134565309227,
          0.33596012424865573,
          0.451892258685465,
          0.7347804090218795,
          0.005835824687535296,
          0.2841179081494365,
          0.7791944963539209,
          0.48979905755548325,
          0.45143237533881664,
          0.7613598125540075,
          0.3559885391468969,
          0.3751019755876841,
          0.6227930707664467,
          0.5905765727608612,
          0.6070364436883379,
          0.7452261979320447,
          0.6408182096657059,
          0.4423834518588595,
          0.5561931924547172,
          0.5429110990159189,
          0.08530963985114615,
          0.627460346462767,
          0.45963734371095977,
          0.5253097218898971,
          0.107566286033138,
          0.8076572137792453,
          0.7214015808085448,
          0.6438156758024671,
          0.9063937996384688,
          0.5058740936377308,
          0.6634145675887609,
          0.5543478299642229,
          0.4763137416233212,
          0.8472878786576359,
          0.7079170249113158,
          0.2053315293941932,
          0.780224688655858,
          0.7980609173825057,
          0.6130958995336688,
          0.10588471932137822,
          0.5991992179766997,
          0.5123205391697606,
          0.6515439712085733,
          0.7641244845298025,
          0.4197037757602391,
          0.22022432230189315,
          0.33209653584602417,
          0.714834919374185,
          0.6430594486033855,
          0.6564178759511365,
          0.05637211109060425,
          0.8325301322211366,
          0.5560491963430794,
          0.8068594733023016,
          0.7361629306001986,
          0.6330182032983822,
          0.4420395171203809,
          0.308168612696322,
          0.2250094594603943,
          0.14056126617398357,
          0.37972907847039694,
          0.573676976691005
         ],
         "z": [
          0.4399208952985145,
          0.41495116742418503,
          0.4347266953620046,
          0.4643738377331007,
          0.5896212508428541,
          0.8181175806839396,
          0.7394034626731465,
          0.7013513186049711,
          0.6450733211576364,
          0.8972928749250015,
          0.3696670929117032,
          0.8651863438607688,
          0.23959789210429538,
          0.7422844614223923,
          0.4005967175858005,
          0.6365290581257392,
          0.8559061023274547,
          0.09670874204740554,
          0.3535026926088263,
          0.898406637053206,
          0.5149247161575857,
          0.847765020242304,
          0.7505469321894235,
          0.20878765462165194,
          0.772407781337663,
          0.3776961217291832,
          0.4338054274007309,
          0.7233100626214878,
          0.6965544739648639,
          0.6830654247564,
          0.6364796691446694,
          0.8211152776284618,
          0.6993471905640175,
          0.20878273357555321,
          0.4704507814149257,
          0.8059002738788826,
          0.3763031623158535,
          0.06462234192971272,
          0.6828338832358166,
          0.01237588938275247,
          0.7980283633423396,
          0.7694636240514391,
          0.1547700979923401,
          0.7188350530361598,
          0.22300656608318492,
          0.5831377828952327,
          0.8690873323807028,
          0.7771909849338533,
          0.29428787216304675,
          0.5219447097937798,
          0.3913154192093382,
          0.6828989387581571,
          0.722921106633972,
          0.6805943440593503,
          0.5146152183954369,
          0.8582985070894129,
          0.8616469244135214,
          0.8529057701660732,
          0.5415329431268276,
          0.34809210807886615,
          0.647063335500505,
          0.7538760864130772,
          0.30863849575788604,
          0.7042455932281584,
          0.20089795321086812,
          0.5773832812153974,
          0.08397483951123219,
          0.8064013914841767,
          0.36645213576187585,
          0.9093627745156613,
          0.7442540976262443,
          0.758373114439732,
          0.4602054696146456
         ]
        }
       ],
       "layout": {
        "legend": {
         "title": {
          "text": "Frentes"
         }
        },
        "scene": {
         "xaxis": {
          "title": {
           "text": "Objetivo f1(x)"
          }
         },
         "yaxis": {
          "title": {
           "text": "Objetivo f2(x)"
          }
         },
         "zaxis": {
          "title": {
           "text": "Objetivo f3(x)"
          }
         }
        },
        "template": {
         "data": {
          "bar": [
           {
            "error_x": {
             "color": "#2a3f5f"
            },
            "error_y": {
             "color": "#2a3f5f"
            },
            "marker": {
             "line": {
              "color": "#E5ECF6",
              "width": 0.5
             },
             "pattern": {
              "fillmode": "overlay",
              "size": 10,
              "solidity": 0.2
             }
            },
            "type": "bar"
           }
          ],
          "barpolar": [
           {
            "marker": {
             "line": {
              "color": "#E5ECF6",
              "width": 0.5
             },
             "pattern": {
              "fillmode": "overlay",
              "size": 10,
              "solidity": 0.2
             }
            },
            "type": "barpolar"
           }
          ],
          "carpet": [
           {
            "aaxis": {
             "endlinecolor": "#2a3f5f",
             "gridcolor": "white",
             "linecolor": "white",
             "minorgridcolor": "white",
             "startlinecolor": "#2a3f5f"
            },
            "baxis": {
             "endlinecolor": "#2a3f5f",
             "gridcolor": "white",
             "linecolor": "white",
             "minorgridcolor": "white",
             "startlinecolor": "#2a3f5f"
            },
            "type": "carpet"
           }
          ],
          "choropleth": [
           {
            "colorbar": {
             "outlinewidth": 0,
             "ticks": ""
            },
            "type": "choropleth"
           }
          ],
          "contour": [
           {
            "colorbar": {
             "outlinewidth": 0,
             "ticks": ""
            },
            "colorscale": [
             [
              0,
              "#0d0887"
             ],
             [
              0.1111111111111111,
              "#46039f"
             ],
             [
              0.2222222222222222,
              "#7201a8"
             ],
             [
              0.3333333333333333,
              "#9c179e"
             ],
             [
              0.4444444444444444,
              "#bd3786"
             ],
             [
              0.5555555555555556,
              "#d8576b"
             ],
             [
              0.6666666666666666,
              "#ed7953"
             ],
             [
              0.7777777777777778,
              "#fb9f3a"
             ],
             [
              0.8888888888888888,
              "#fdca26"
             ],
             [
              1,
              "#f0f921"
             ]
            ],
            "type": "contour"
           }
          ],
          "contourcarpet": [
           {
            "colorbar": {
             "outlinewidth": 0,
             "ticks": ""
            },
            "type": "contourcarpet"
           }
          ],
          "heatmap": [
           {
            "colorbar": {
             "outlinewidth": 0,
             "ticks": ""
            },
            "colorscale": [
             [
              0,
              "#0d0887"
             ],
             [
              0.1111111111111111,
              "#46039f"
             ],
             [
              0.2222222222222222,
              "#7201a8"
             ],
             [
              0.3333333333333333,
              "#9c179e"
             ],
             [
              0.4444444444444444,
              "#bd3786"
             ],
             [
              0.5555555555555556,
              "#d8576b"
             ],
             [
              0.6666666666666666,
              "#ed7953"
             ],
             [
              0.7777777777777778,
              "#fb9f3a"
             ],
             [
              0.8888888888888888,
              "#fdca26"
             ],
             [
              1,
              "#f0f921"
             ]
            ],
            "type": "heatmap"
           }
          ],
          "heatmapgl": [
           {
            "colorbar": {
             "outlinewidth": 0,
             "ticks": ""
            },
            "colorscale": [
             [
              0,
              "#0d0887"
             ],
             [
              0.1111111111111111,
              "#46039f"
             ],
             [
              0.2222222222222222,
              "#7201a8"
             ],
             [
              0.3333333333333333,
              "#9c179e"
             ],
             [
              0.4444444444444444,
              "#bd3786"
             ],
             [
              0.5555555555555556,
              "#d8576b"
             ],
             [
              0.6666666666666666,
              "#ed7953"
             ],
             [
              0.7777777777777778,
              "#fb9f3a"
             ],
             [
              0.8888888888888888,
              "#fdca26"
             ],
             [
              1,
              "#f0f921"
             ]
            ],
            "type": "heatmapgl"
           }
          ],
          "histogram": [
           {
            "marker": {
             "pattern": {
              "fillmode": "overlay",
              "size": 10,
              "solidity": 0.2
             }
            },
            "type": "histogram"
           }
          ],
          "histogram2d": [
           {
            "colorbar": {
             "outlinewidth": 0,
             "ticks": ""
            },
            "colorscale": [
             [
              0,
              "#0d0887"
             ],
             [
              0.1111111111111111,
              "#46039f"
             ],
             [
              0.2222222222222222,
              "#7201a8"
             ],
             [
              0.3333333333333333,
              "#9c179e"
             ],
             [
              0.4444444444444444,
              "#bd3786"
             ],
             [
              0.5555555555555556,
              "#d8576b"
             ],
             [
              0.6666666666666666,
              "#ed7953"
             ],
             [
              0.7777777777777778,
              "#fb9f3a"
             ],
             [
              0.8888888888888888,
              "#fdca26"
             ],
             [
              1,
              "#f0f921"
             ]
            ],
            "type": "histogram2d"
           }
          ],
          "histogram2dcontour": [
           {
            "colorbar": {
             "outlinewidth": 0,
             "ticks": ""
            },
            "colorscale": [
             [
              0,
              "#0d0887"
             ],
             [
              0.1111111111111111,
              "#46039f"
             ],
             [
              0.2222222222222222,
              "#7201a8"
             ],
             [
              0.3333333333333333,
              "#9c179e"
             ],
             [
              0.4444444444444444,
              "#bd3786"
             ],
             [
              0.5555555555555556,
              "#d8576b"
             ],
             [
              0.6666666666666666,
              "#ed7953"
             ],
             [
              0.7777777777777778,
              "#fb9f3a"
             ],
             [
              0.8888888888888888,
              "#fdca26"
             ],
             [
              1,
              "#f0f921"
             ]
            ],
            "type": "histogram2dcontour"
           }
          ],
          "mesh3d": [
           {
            "colorbar": {
             "outlinewidth": 0,
             "ticks": ""
            },
            "type": "mesh3d"
           }
          ],
          "parcoords": [
           {
            "line": {
             "colorbar": {
              "outlinewidth": 0,
              "ticks": ""
             }
            },
            "type": "parcoords"
           }
          ],
          "pie": [
           {
            "automargin": true,
            "type": "pie"
           }
          ],
          "scatter": [
           {
            "fillpattern": {
             "fillmode": "overlay",
             "size": 10,
             "solidity": 0.2
            },
            "type": "scatter"
           }
          ],
          "scatter3d": [
           {
            "line": {
             "colorbar": {
              "outlinewidth": 0,
              "ticks": ""
             }
            },
            "marker": {
             "colorbar": {
              "outlinewidth": 0,
              "ticks": ""
             }
            },
            "type": "scatter3d"
           }
          ],
          "scattercarpet": [
           {
            "marker": {
             "colorbar": {
              "outlinewidth": 0,
              "ticks": ""
             }
            },
            "type": "scattercarpet"
           }
          ],
          "scattergeo": [
           {
            "marker": {
             "colorbar": {
              "outlinewidth": 0,
              "ticks": ""
             }
            },
            "type": "scattergeo"
           }
          ],
          "scattergl": [
           {
            "marker": {
             "colorbar": {
              "outlinewidth": 0,
              "ticks": ""
             }
            },
            "type": "scattergl"
           }
          ],
          "scattermapbox": [
           {
            "marker": {
             "colorbar": {
              "outlinewidth": 0,
              "ticks": ""
             }
            },
            "type": "scattermapbox"
           }
          ],
          "scatterpolar": [
           {
            "marker": {
             "colorbar": {
              "outlinewidth": 0,
              "ticks": ""
             }
            },
            "type": "scatterpolar"
           }
          ],
          "scatterpolargl": [
           {
            "marker": {
             "colorbar": {
              "outlinewidth": 0,
              "ticks": ""
             }
            },
            "type": "scatterpolargl"
           }
          ],
          "scatterternary": [
           {
            "marker": {
             "colorbar": {
              "outlinewidth": 0,
              "ticks": ""
             }
            },
            "type": "scatterternary"
           }
          ],
          "surface": [
           {
            "colorbar": {
             "outlinewidth": 0,
             "ticks": ""
            },
            "colorscale": [
             [
              0,
              "#0d0887"
             ],
             [
              0.1111111111111111,
              "#46039f"
             ],
             [
              0.2222222222222222,
              "#7201a8"
             ],
             [
              0.3333333333333333,
              "#9c179e"
             ],
             [
              0.4444444444444444,
              "#bd3786"
             ],
             [
              0.5555555555555556,
              "#d8576b"
             ],
             [
              0.6666666666666666,
              "#ed7953"
             ],
             [
              0.7777777777777778,
              "#fb9f3a"
             ],
             [
              0.8888888888888888,
              "#fdca26"
             ],
             [
              1,
              "#f0f921"
             ]
            ],
            "type": "surface"
           }
          ],
          "table": [
           {
            "cells": {
             "fill": {
              "color": "#EBF0F8"
             },
             "line": {
              "color": "white"
             }
            },
            "header": {
             "fill": {
              "color": "#C8D4E3"
             },
             "line": {
              "color": "white"
             }
            },
            "type": "table"
           }
          ]
         },
         "layout": {
          "annotationdefaults": {
           "arrowcolor": "#2a3f5f",
           "arrowhead": 0,
           "arrowwidth": 1
          },
          "autotypenumbers": "strict",
          "coloraxis": {
           "colorbar": {
            "outlinewidth": 0,
            "ticks": ""
           }
          },
          "colorscale": {
           "diverging": [
            [
             0,
             "#8e0152"
            ],
            [
             0.1,
             "#c51b7d"
            ],
            [
             0.2,
             "#de77ae"
            ],
            [
             0.3,
             "#f1b6da"
            ],
            [
             0.4,
             "#fde0ef"
            ],
            [
             0.5,
             "#f7f7f7"
            ],
            [
             0.6,
             "#e6f5d0"
            ],
            [
             0.7,
             "#b8e186"
            ],
            [
             0.8,
             "#7fbc41"
            ],
            [
             0.9,
             "#4d9221"
            ],
            [
             1,
             "#276419"
            ]
           ],
           "sequential": [
            [
             0,
             "#0d0887"
            ],
            [
             0.1111111111111111,
             "#46039f"
            ],
            [
             0.2222222222222222,
             "#7201a8"
            ],
            [
             0.3333333333333333,
             "#9c179e"
            ],
            [
             0.4444444444444444,
             "#bd3786"
            ],
            [
             0.5555555555555556,
             "#d8576b"
            ],
            [
             0.6666666666666666,
             "#ed7953"
            ],
            [
             0.7777777777777778,
             "#fb9f3a"
            ],
            [
             0.8888888888888888,
             "#fdca26"
            ],
            [
             1,
             "#f0f921"
            ]
           ],
           "sequentialminus": [
            [
             0,
             "#0d0887"
            ],
            [
             0.1111111111111111,
             "#46039f"
            ],
            [
             0.2222222222222222,
             "#7201a8"
            ],
            [
             0.3333333333333333,
             "#9c179e"
            ],
            [
             0.4444444444444444,
             "#bd3786"
            ],
            [
             0.5555555555555556,
             "#d8576b"
            ],
            [
             0.6666666666666666,
             "#ed7953"
            ],
            [
             0.7777777777777778,
             "#fb9f3a"
            ],
            [
             0.8888888888888888,
             "#fdca26"
            ],
            [
             1,
             "#f0f921"
            ]
           ]
          },
          "colorway": [
           "#636efa",
           "#EF553B",
           "#00cc96",
           "#ab63fa",
           "#FFA15A",
           "#19d3f3",
           "#FF6692",
           "#B6E880",
           "#FF97FF",
           "#FECB52"
          ],
          "font": {
           "color": "#2a3f5f"
          },
          "geo": {
           "bgcolor": "white",
           "lakecolor": "white",
           "landcolor": "#E5ECF6",
           "showlakes": true,
           "showland": true,
           "subunitcolor": "white"
          },
          "hoverlabel": {
           "align": "left"
          },
          "hovermode": "closest",
          "mapbox": {
           "style": "light"
          },
          "paper_bgcolor": "white",
          "plot_bgcolor": "#E5ECF6",
          "polar": {
           "angularaxis": {
            "gridcolor": "white",
            "linecolor": "white",
            "ticks": ""
           },
           "bgcolor": "#E5ECF6",
           "radialaxis": {
            "gridcolor": "white",
            "linecolor": "white",
            "ticks": ""
           }
          },
          "scene": {
           "xaxis": {
            "backgroundcolor": "#E5ECF6",
            "gridcolor": "white",
            "gridwidth": 2,
            "linecolor": "white",
            "showbackground": true,
            "ticks": "",
            "zerolinecolor": "white"
           },
           "yaxis": {
            "backgroundcolor": "#E5ECF6",
            "gridcolor": "white",
            "gridwidth": 2,
            "linecolor": "white",
            "showbackground": true,
            "ticks": "",
            "zerolinecolor": "white"
           },
           "zaxis": {
            "backgroundcolor": "#E5ECF6",
            "gridcolor": "white",
            "gridwidth": 2,
            "linecolor": "white",
            "showbackground": true,
            "ticks": "",
            "zerolinecolor": "white"
           }
          },
          "shapedefaults": {
           "line": {
            "color": "#2a3f5f"
           }
          },
          "ternary": {
           "aaxis": {
            "gridcolor": "white",
            "linecolor": "white",
            "ticks": ""
           },
           "baxis": {
            "gridcolor": "white",
            "linecolor": "white",
            "ticks": ""
           },
           "bgcolor": "#E5ECF6",
           "caxis": {
            "gridcolor": "white",
            "linecolor": "white",
            "ticks": ""
           }
          },
          "title": {
           "x": 0.05
          },
          "xaxis": {
           "automargin": true,
           "gridcolor": "white",
           "linecolor": "white",
           "ticks": "",
           "title": {
            "standoff": 15
           },
           "zerolinecolor": "white",
           "zerolinewidth": 2
          },
          "yaxis": {
           "automargin": true,
           "gridcolor": "white",
           "linecolor": "white",
           "ticks": "",
           "title": {
            "standoff": 15
           },
           "zerolinecolor": "white",
           "zerolinewidth": 2
          }
         }
        },
        "title": {
         "text": "Frentes de Pareto en 3D"
        }
       }
      }
     },
     "metadata": {},
     "output_type": "display_data"
    }
   ],
   "source": [
    "num_points = 1000\n",
    "dim = 3\n",
    "\n",
    "# coordinates = np.random.randint(0, 100, (num_points, dim))\n",
    "coordinates = np.random.random((num_points, dim))\n",
    "print(coordinates.shape)\n",
    "\n",
    "fronts = get_pareto_fronts(coordinates)\n",
    "\n",
    "distances = get_crowding_distances(fronts)\n",
    "# print(distances)\n",
    "plot_pareto_fronts_3d(fronts)"
   ]
  }
 ],
 "metadata": {
  "kernelspec": {
   "display_name": "env",
   "language": "python",
   "name": "python3"
  },
  "language_info": {
   "codemirror_mode": {
    "name": "ipython",
    "version": 3
   },
   "file_extension": ".py",
   "mimetype": "text/x-python",
   "name": "python",
   "nbconvert_exporter": "python",
   "pygments_lexer": "ipython3",
   "version": "3.10.11"
  }
 },
 "nbformat": 4,
 "nbformat_minor": 2
}
