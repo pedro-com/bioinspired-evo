{
 "cells": [
  {
   "cell_type": "markdown",
   "metadata": {},
   "source": [
    "# Algoritmos Genéticos Hito 1\n",
    "\n",
    "**Grupo 2**\n",
    "* __Pedro Amaya Moreno__ (pedro.amaya@alumnos.upm.es)\n",
    "* __Pedro Collado Rojas__ (p.collado@alumnos.upm.es)\n",
    "* __Alejandro Álvarez Castro__ (alejandro.alvarez@alumnos.upm.es)\n",
    "* __Alejandro Pardo Bascuñana__ (alejandro.pardo.bascunana@alumnos.upm.es)\n",
    "* __Fernando Fernández Álvarez__ (fernando.fernandez.alvarez@alumnos.upm.es)"
   ]
  },
  {
   "cell_type": "code",
   "execution_count": 5,
   "metadata": {},
   "outputs": [],
   "source": [
    "import matplotlib.pyplot as plt\n",
    "from IPython.display import HTML\n",
    "\n",
    "plt.rcParams['animation.embed_limit'] = 2**128"
   ]
  },
  {
   "cell_type": "markdown",
   "metadata": {},
   "source": [
    "## Sorting"
   ]
  },
  {
   "cell_type": "markdown",
   "metadata": {},
   "source": [
    "Código de ejemplo para probar el funcionamiento de los Genéticos."
   ]
  },
  {
   "cell_type": "code",
   "execution_count": null,
   "metadata": {},
   "outputs": [],
   "source": [
    "from src.gen_evolutive import PermutationEvolutive\n",
    "import numpy as np\n",
    "\n",
    "N = 100\n",
    "alphabet = np.arange(N)\n",
    "\n",
    "def fit(ind):\n",
    "    # cuenta los mal colocados\n",
    "    distance = 0\n",
    "    for i in range(len(ind)):\n",
    "        distance += abs(i-ind[i])\n",
    "    return distance # mejor cuanto más colocados\n",
    "\n",
    "evolution = PermutationEvolutive(\n",
    "    alphabet=alphabet,\n",
    "    n_individuals=100,\n",
    "    mutation=\"swap-gene\",\n",
    "    crossover= \"half-fixed\",\n",
    "\tT_selection=8,\n",
    "\tp_crossover=0.7,\n",
    "    maximize=False,\n",
    "\taverage_mutation_rate=1.25,\n",
    "\telitism=True,\n",
    ")\n",
    "results = evolution.evolve(fit=fit, n_generations=1500, target=0., obtain_metrics=True, trace=100)\n",
    "\n",
    "print(f'Best: {results[\"best\"]}')\n",
    "print(\"Evolution Metrics:\")\n",
    "evolution.plot_evolution_metrics(results[\"evolution_metrics\"])"
   ]
  },
  {
   "cell_type": "markdown",
   "metadata": {},
   "source": [
    "## Problema del Viajante del Comercio"
   ]
  },
  {
   "cell_type": "markdown",
   "metadata": {},
   "source": [
    "### Ejemplo del Notebook"
   ]
  },
  {
   "cell_type": "markdown",
   "metadata": {},
   "source": [
    "Cargamos el ejemplo que había en el Notebook de clase."
   ]
  },
  {
   "cell_type": "code",
   "execution_count": null,
   "metadata": {},
   "outputs": [],
   "source": [
    "from examples import tsp\n",
    "\n",
    "cities = [[0.8744058793117488, 0.30207179832703746], [0.6901572276474558, 0.8203362566663311], [0.7793458478083026, 0.09728979746351918], [0.7483358474304422, 0.4563419482458657], [0.4556164527790729, 0.12863149772605698], [0.1837236688553453, 0.23773749495644914], [0.806151832654163, 0.3288366900529254], [0.6222702185205219, 0.6019431085670109], [0.21886861543988367, 0.6980104036528004], [0.9706096813038716, 0.054871876245520146], [0.13881496219356027, 0.048489530185603646], [0.08511086492841424, 0.9123075505436051], [0.45436952164297595, 0.4731540740573398], [0.8986352255038935, 0.5116579750591849], [0.9539248970461742, 0.7530784036308166], [0.6321102985156373, 0.13575967095580344], [0.31130918313591205, 0.8545457319320597], [0.025897479791937017, 0.7854526665590987], [0.31414095045738066, 0.051421702103483846], [0.2739561013272712, 0.1970964027924862], [0.22762328443470214, 0.627414210742153], [0.44920042912037383, 0.18835427573438068], [0.2793138301174244, 0.9103956650199608], [0.005128451667189338, 0.4655718085045638], [0.9222718335261915, 0.8613103704784812], [0.49352498279326595, 0.28652416807644077], [0.5560886356057152, 0.034564925228364185], [0.0048939219846825255, 0.8635350555457212], [0.7824462381771976, 0.09355415747424733], [0.2973635133076785, 0.037580527218207815], [0.659068210692151, 0.5602321147981546], [0.43549418718677035, 0.6241289474799954], [0.25580657871099755, 0.519726015381631], [0.5950780852425872, 0.3193476592023645], [0.15763623266223903, 0.18210618406479095], [0.3434173147566393, 0.32992255868483356], [0.06451313705472006, 0.12606114349173192], [0.23212286400737547, 0.3945559700824013], [0.955507285594692, 0.02296933408938162], [0.7459955912073274, 0.1385374827130177], [0.46365765315595475, 0.6132297411379687], [0.20196772698059162, 0.046358747430397584], [0.2980093518214506, 0.36041197123227897], [0.7533459401199348, 0.6610562232191091], [0.323433933838161, 0.5068337090138902], [0.062138830138457, 0.7177455044259695], [0.47467832142010535, 0.17692718986260936], [0.2415634321550142, 0.500852093941769], [0.3441878827094532, 0.2604351258948506], [0.5445252142594251, 0.7295590645635646], [0.25391391610860914, 0.7641244059389684], [0.2630560480211699, 0.010670642241309536], [0.2092202940037915, 0.7415775443241935], [0.0031474687633804566, 0.6974574785842637], [0.4952329615559806, 0.9311775894780175], [0.1978488658972426, 0.8872693649066419], [0.1705364411799497, 0.8846808176103278], [0.7634962513234275, 0.4358457309207533], [0.9259752834140167, 0.0056226911773098465], [0.22090405091557253, 0.14500040130773872], [0.4636205151855679, 0.19249574424477278], [0.8057632881682811, 0.250168118157608], [0.6785236695642043, 0.39119477830554505], [0.4837264739606879, 0.23045417711558214], [0.8786721718893166, 0.015853186240832207], [0.1263309724872509, 0.9185321014517236], [0.24969404380600335, 0.9600467657522086], [0.5886119367943214, 0.10948123668473264], [0.13373527735293878, 0.5336853876899833], [0.5642696742735989, 0.9801384844337597], [0.646401605512568, 0.3338636388089157], [0.05603526365085032, 0.3149530712641142], [0.387141492676661, 0.5792852545912592], [0.8634070619751958, 0.8206820685065667], [0.4662474858565825, 0.32647667516764145], [0.01801973379815025, 0.12175434785651695], [0.6218125565554127, 0.07860046445444713], [0.6573938922925594, 0.5023092428939168], [0.2837581848186974, 0.02576704782244421], [0.3044774374252185, 0.7310313422019327], [0.33131673439274434, 0.693896434962478], [0.8523694048117944, 0.2805224723356823], [0.6200019812032047, 0.03989814578273998], [0.5437394088109648, 0.3258031129949792], [0.4386079860370994, 0.6142798815693052], [0.7430581106897977, 0.49260737229959284], [0.3913628378102181, 0.3185830750836698], [0.9065498976196814, 0.02381958527497441], [0.6874236611131453, 0.18642068590773597], [0.6946411585627993, 0.36991609629423117], [0.3784063098306413, 0.01018756575849844], [0.43806374889930155, 0.2268325586117821], [0.7411632641820634, 0.35513151640087337], [0.3884706603234591, 0.34043302784114093], [0.08674110453583683, 0.4491174987265194], [0.9794883193315694, 0.11207520940235804], [0.7496156619797683, 0.23845386610980834], [0.4423888847621813, 0.17212722421686055], [0.2276570035864689, 0.6515924491551327], [0.836939257954547, 0.0499933914625984]] # Length=8.587\n",
    "\n",
    "tsp.plot_cities(cities)"
   ]
  },
  {
   "cell_type": "markdown",
   "metadata": {},
   "source": [
    "### TSP parameter variation"
   ]
  },
  {
   "cell_type": "markdown",
   "metadata": {},
   "source": [
    "Para el análisis de los mejores parámetros, vamos a fijar el crossover (solo usaremos el de `half-fixed` por ser un problema de permutación) y la mutación de `swap`."
   ]
  },
  {
   "cell_type": "code",
   "execution_count": null,
   "metadata": {},
   "outputs": [],
   "source": [
    "evolution = PermutationEvolutive(\n",
    "    alphabet=cities,\n",
    "    n_individuals=100,\n",
    "    mutation=\"swap-gene\",\n",
    "    crossover= \"half-fixed\",\n",
    "\tT_selection=2,\n",
    "\tp_crossover=0.7,\n",
    "\taverage_mutation_rate=1.,\n",
    "\telitism=False,\n",
    ")\n",
    "\n",
    "results = evolution.evolve(fit=tsp.fit_cities, n_generations=1000, obtain_metrics=True, trace=100)\n",
    "\n",
    "print(\"Evolution Metrics:\")\n",
    "evolution.plot_evolution_metrics(results[\"evolution_metrics\"])\n",
    "\n",
    "fig, axs = plt.subplots(1, 2, figsize=(12, 5))\n",
    "tsp.plot_cities(cities, axes=axs[0])\n",
    "tsp.plot_cities(results[\"best\"], axes=axs[1])"
   ]
  },
  {
   "cell_type": "markdown",
   "metadata": {},
   "source": [
    "Vemos que el fit aumenta pero se queda atascado pasado un número de generaciones, por lo que imponemos una selección más agresiva (`T_selection=6`)."
   ]
  },
  {
   "cell_type": "code",
   "execution_count": null,
   "metadata": {},
   "outputs": [],
   "source": [
    "evolution = PermutationEvolutive(\n",
    "    alphabet=cities,\n",
    "    n_individuals=100,\n",
    "    mutation=\"swap-gene\",\n",
    "    crossover= \"half-fixed\",\n",
    "\tT_selection=6,\n",
    "\tp_crossover=0.7,\n",
    "\taverage_mutation_rate=1.,\n",
    "\telitism=False,\n",
    ")\n",
    "\n",
    "results = evolution.evolve(fit=tsp.fit_cities, n_generations=1000, obtain_metrics=True, trace=100)\n",
    "\n",
    "print(\"Evolution Metrics:\")\n",
    "evolution.plot_evolution_metrics(results[\"evolution_metrics\"])\n",
    "\n",
    "fig, axs = plt.subplots(1, 2, figsize=(12, 5))\n",
    "tsp.plot_cities(cities, axes=axs[0])\n",
    "tsp.plot_cities(results[\"best\"], axes=axs[1])"
   ]
  },
  {
   "cell_type": "markdown",
   "metadata": {},
   "source": [
    "Vemos que con una selección para los mejores, aumentamos el `T_selection=10` y activamos `elitism`, para ver si mejora."
   ]
  },
  {
   "cell_type": "code",
   "execution_count": null,
   "metadata": {},
   "outputs": [],
   "source": [
    "evolution = PermutationEvolutive(\n",
    "    alphabet=cities,\n",
    "    n_individuals=100,\n",
    "    mutation=\"swap-gene\",\n",
    "    crossover= \"half-fixed\",\n",
    "\tT_selection=10,\n",
    "\tp_crossover=0.7,\n",
    "\taverage_mutation_rate=1.,\n",
    "\telitism=True,\n",
    ")\n",
    "\n",
    "results = evolution.evolve(fit=tsp.fit_cities, n_generations=1000, obtain_metrics=True, trace=100)\n",
    "\n",
    "print(\"Evolution Metrics:\")\n",
    "evolution.plot_evolution_metrics(results[\"evolution_metrics\"])\n",
    "\n",
    "fig, axs = plt.subplots(1, 2, figsize=(12, 5))\n",
    "tsp.plot_cities(cities, axes=axs[0])\n",
    "tsp.plot_cities(results[\"best\"], axes=axs[1])"
   ]
  },
  {
   "cell_type": "markdown",
   "metadata": {},
   "source": [
    "Consigue aumentar el fit de forma más rápida por lo que usaremos estos parámetros. Vamos a probar a aumentar un poco la mutation rate para ver como afecta a los resultados."
   ]
  },
  {
   "cell_type": "code",
   "execution_count": null,
   "metadata": {},
   "outputs": [],
   "source": [
    "evolution = PermutationEvolutive(\n",
    "    alphabet=cities,\n",
    "    n_individuals=100,\n",
    "    mutation=\"swap-gene\",\n",
    "    crossover= \"half-fixed\",\n",
    "\tT_selection=10,\n",
    "\tp_crossover=0.7,\n",
    "\taverage_mutation_rate=1.25,\n",
    "\telitism=True,\n",
    ")\n",
    "\n",
    "results = evolution.evolve(fit=tsp.fit_cities, n_generations=1000, obtain_metrics=True, trace=100)\n",
    "\n",
    "print(\"Evolution Metrics:\")\n",
    "evolution.plot_evolution_metrics(results[\"evolution_metrics\"])\n",
    "\n",
    "fig, axs = plt.subplots(1, 2, figsize=(12, 5))\n",
    "tsp.plot_cities(cities, axes=axs[0])\n",
    "tsp.plot_cities(results[\"best\"], axes=axs[1])"
   ]
  },
  {
   "cell_type": "markdown",
   "metadata": {},
   "source": [
    "Usaremos al final estos parámetros para las siguientes pruebas."
   ]
  },
  {
   "cell_type": "markdown",
   "metadata": {},
   "source": [
    "### TSP only **one mutation** tests.\n",
    "\n",
    "Primero haremos pruebas usando solo una mutación para cada evolutivo. Para comparar los métodos, usaremos para estas pruebas los mismos parámetros de selección, mutación y elitismo:\n",
    "* `T_selection=10`: Selección alta de los mejores individuos en los cruces para evitar el problema con selecciones bajas de que no hay mejoras significativas.\n",
    "* `average_mutation_rate=1.25`: Mantenemos que por cada individuo cruzado, de media solo tenga una mutación.\n",
    "* `elitism=True`: Elistismo en la selección."
   ]
  },
  {
   "cell_type": "code",
   "execution_count": null,
   "metadata": {},
   "outputs": [],
   "source": [
    "evolution = PermutationEvolutive(\n",
    "    alphabet=cities,\n",
    "    n_individuals=100,\n",
    "    mutation=\"to-opt\",\n",
    "    crossover= \"half-fixed\",\n",
    "\tT_selection=10,\n",
    "\tp_crossover=0.7,\n",
    "\taverage_mutation_rate=1.25,\n",
    "\telitism=True,\n",
    ")\n",
    "\n",
    "results = evolution.evolve(fit=tsp.fit_cities, n_generations=1000, obtain_metrics=True, trace=100)\n",
    "\n",
    "print(\"Evolution Metrics:\")\n",
    "evolution.plot_evolution_metrics(results[\"evolution_metrics\"])\n",
    "\n",
    "fig, axs = plt.subplots(1, 2, figsize=(12, 5))\n",
    "tsp.plot_cities(cities, axes=axs[0])\n",
    "tsp.plot_cities(results[\"best\"], axes=axs[1])"
   ]
  },
  {
   "cell_type": "markdown",
   "metadata": {},
   "source": [
    "To-opt consigue unos resultados bastante buenos en menos de 1000 generaciones. Si desactivamos elitismo y reducimos la mutation rate para ver que resultados obtenemos:"
   ]
  },
  {
   "cell_type": "code",
   "execution_count": null,
   "metadata": {},
   "outputs": [],
   "source": [
    "evolution = PermutationEvolutive(\n",
    "    alphabet=cities,\n",
    "    n_individuals=100,\n",
    "    mutation=\"to-opt\",\n",
    "    crossover= \"half-fixed\",\n",
    "\tT_selection=10,\n",
    "\tp_crossover=0.7,\n",
    "\taverage_mutation_rate=1.,\n",
    "\telitism=False,\n",
    ")\n",
    "\n",
    "results = evolution.evolve(fit=tsp.fit_cities, n_generations=1000, obtain_metrics=True, trace=100)\n",
    "\n",
    "print(\"Evolution Metrics:\")\n",
    "evolution.plot_evolution_metrics(results[\"evolution_metrics\"])\n",
    "\n",
    "fig, axs = plt.subplots(1, 2, figsize=(12, 5))\n",
    "tsp.plot_cities(cities, axes=axs[0])\n",
    "tsp.plot_cities(results[\"best\"], axes=axs[1])"
   ]
  },
  {
   "cell_type": "markdown",
   "metadata": {},
   "source": [
    "Probando las otras dos mutaciones:"
   ]
  },
  {
   "cell_type": "code",
   "execution_count": null,
   "metadata": {},
   "outputs": [],
   "source": [
    "evolution = PermutationEvolutive(\n",
    "    alphabet=cities,\n",
    "    n_individuals=100,\n",
    "    mutation=\"insert-gene\",\n",
    "    crossover= \"half-fixed\",\n",
    "\tT_selection=10,\n",
    "\tp_crossover=0.7,\n",
    "\taverage_mutation_rate=1.25,\n",
    "\telitism=True,\n",
    ")\n",
    "\n",
    "results = evolution.evolve(fit=tsp.fit_cities, n_generations=1000, obtain_metrics=True, trace=100)\n",
    "\n",
    "print(\"Evolution Metrics:\")\n",
    "evolution.plot_evolution_metrics(results[\"evolution_metrics\"])\n",
    "\n",
    "fig, axs = plt.subplots(1, 2, figsize=(12, 5))\n",
    "tsp.plot_cities(cities, axes=axs[0])\n",
    "tsp.plot_cities(results[\"best\"], axes=axs[1])"
   ]
  },
  {
   "cell_type": "code",
   "execution_count": null,
   "metadata": {},
   "outputs": [],
   "source": [
    "evolution = PermutationEvolutive(\n",
    "    alphabet=cities,\n",
    "    n_individuals=100,\n",
    "    mutation=\"swap-gene\",\n",
    "    crossover= \"half-fixed\",\n",
    "\tT_selection=10,\n",
    "\tp_crossover=0.7,\n",
    "\taverage_mutation_rate=1.25,\n",
    "\telitism=True,\n",
    ")\n",
    "\n",
    "results = evolution.evolve(fit=tsp.fit_cities, n_generations=1000, obtain_metrics=True, trace=100)\n",
    "\n",
    "print(\"Evolution Metrics:\")\n",
    "evolution.plot_evolution_metrics(results[\"evolution_metrics\"])"
   ]
  },
  {
   "cell_type": "markdown",
   "metadata": {},
   "source": [
    "Hemos visto que la mejor mutación para este problema es `to-opt`, por ello vamos a probar que efecto tiene aumentar la probabilidad de mutación."
   ]
  },
  {
   "cell_type": "code",
   "execution_count": null,
   "metadata": {},
   "outputs": [],
   "source": [
    "evolution = PermutationEvolutive(\n",
    "    alphabet=cities,\n",
    "    n_individuals=100,\n",
    "    mutation=\"to-opt\",\n",
    "    crossover= \"half-fixed\",\n",
    "\tT_selection=10,\n",
    "\tp_crossover=0.7,\n",
    "\taverage_mutation_rate=2.,\n",
    "\telitism=True,\n",
    ")\n",
    "\n",
    "results = evolution.evolve(fit=tsp.fit_cities, n_generations=1000, obtain_metrics=True, trace=100)\n",
    "\n",
    "print(\"Evolution Metrics:\")\n",
    "evolution.plot_evolution_metrics(results[\"evolution_metrics\"])\n",
    "\n",
    "fig, axs = plt.subplots(1, 2, figsize=(12, 5))\n",
    "tsp.plot_cities(cities, axes=axs[0])\n",
    "tsp.plot_cities(results[\"best\"], axes=axs[1])"
   ]
  },
  {
   "cell_type": "markdown",
   "metadata": {},
   "source": [
    "**Reducir mutation rate y quitar elitismo**"
   ]
  },
  {
   "cell_type": "code",
   "execution_count": null,
   "metadata": {},
   "outputs": [],
   "source": [
    "evolution = PermutationEvolutive(\n",
    "    alphabet=cities,\n",
    "    n_individuals=100,\n",
    "    mutation=\"to-opt\",\n",
    "    crossover= \"half-fixed\",\n",
    "\tT_selection=10,\n",
    "\tp_crossover=0.7,\n",
    "\taverage_mutation_rate=0.5,\n",
    "\telitism=False,\n",
    ")\n",
    "\n",
    "results = evolution.evolve(fit=tsp.fit_cities, n_generations=1000, obtain_metrics=True, trace=100)\n",
    "\n",
    "print(\"Evolution Metrics:\")\n",
    "evolution.plot_evolution_metrics(results[\"evolution_metrics\"])\n",
    "\n",
    "fig, axs = plt.subplots(1, 2, figsize=(12, 5))\n",
    "tsp.plot_cities(cities, axes=axs[0])\n",
    "tsp.plot_cities(results[\"best\"], axes=axs[1])"
   ]
  },
  {
   "cell_type": "markdown",
   "metadata": {},
   "source": [
    "**Aumentar mucho T_selection**"
   ]
  },
  {
   "cell_type": "code",
   "execution_count": null,
   "metadata": {},
   "outputs": [],
   "source": [
    "evolution = PermutationEvolutive(\n",
    "    alphabet=cities,\n",
    "    n_individuals=100,\n",
    "    mutation=\"to-opt\",\n",
    "    crossover= \"half-fixed\",\n",
    "\tT_selection=50,\n",
    "\tp_crossover=0.7,\n",
    "\taverage_mutation_rate=1.,\n",
    "\telitism=False,\n",
    ")\n",
    "\n",
    "results = evolution.evolve(fit=tsp.fit_cities, n_generations=1000, obtain_metrics=True, trace=100)\n",
    "\n",
    "print(\"Evolution Metrics:\")\n",
    "evolution.plot_evolution_metrics(results[\"evolution_metrics\"])\n",
    "\n",
    "fig, axs = plt.subplots(1, 2, figsize=(12, 5))\n",
    "tsp.plot_cities(cities, axes=axs[0])\n",
    "tsp.plot_cities(results[\"best\"], axes=axs[1])"
   ]
  },
  {
   "cell_type": "markdown",
   "metadata": {},
   "source": [
    "**Observaciones**\n",
    "\n",
    "Para este problema, se ha probado a variar diferentes parámetros. \n",
    "\n",
    "- En cuanto a las mutaciones utilizadas, se ha probado tanto usar las tres, como usarlas independientemente por separado. La opción que mejor ha funcionado es utilizar las tres mutaciones a la vez de forma random, seguido de utilizatr solo la mutación to-opt, que consigue resultados bastante similares.\n",
    "\n",
    "- Acerca de la tasa media de mutación, podemos observar que una mutación mayor que 1 rompe con el equilibrio y da una solución peor, explora demasiado. Una mutación pequeña tendiendo a 0, pasa lo mismo explota demasiado, con 0.5 se empieza a notar el cambio, pero da resultados similares que con 1.\n",
    "\n",
    "- En cuanto al parámetro T, aquí hay una gran diferencia. Se oberva que para valores muy pequeños de este valor como puede ser 3, se obtienen resultados muy malos, triplicando la distancia global de un modelo probado con un parámetro T de 50. Esto se debe a que con un T grande, estamos explotando más que explorando y se consigue llegar a un muy buen mínimo, mientras que con el T pequeño, más bien se explora y no se centra en llegar a un óptimo aceptable."
   ]
  },
  {
   "cell_type": "markdown",
   "metadata": {},
   "source": [
    "### TSP combinación de mutaciones"
   ]
  },
  {
   "cell_type": "code",
   "execution_count": null,
   "metadata": {},
   "outputs": [],
   "source": [
    "from examples import tsp\n",
    "from src.gen_evolutive import PermutationEvolutive\n",
    "\n",
    "evolution = PermutationEvolutive(\n",
    "    alphabet=cities,\n",
    "    n_individuals=100,\n",
    "    mutation=[\"to-opt\", \"insert-gene\", \"swap-gene\"],\n",
    "    crossover= \"half-fixed\",\n",
    "\tT_selection=10,\n",
    "\tp_crossover=0.7,\n",
    "\taverage_mutation_rate=1.25,\n",
    "\telitism=True,\n",
    ")\n",
    "results = evolution.evolve(fit=tsp.fit_cities, n_generations=1000, obtain_metrics=True, trace=100)\n",
    "\n",
    "print(\"Evolution Metrics:\")\n",
    "evolution.plot_evolution_metrics(results[\"evolution_metrics\"])\n",
    "\n",
    "fig, axs = plt.subplots(1, 2, figsize=(12, 5))\n",
    "tsp.plot_cities(cities, axes=axs[0])\n",
    "tsp.plot_cities(results[\"best\"], axes=axs[1])"
   ]
  },
  {
   "cell_type": "markdown",
   "metadata": {},
   "source": [
    "Aumentamos a 2000 generaciones y aumentamos las mutaciones."
   ]
  },
  {
   "cell_type": "code",
   "execution_count": null,
   "metadata": {},
   "outputs": [],
   "source": [
    "from examples import tsp\n",
    "from src.gen_evolutive import PermutationEvolutive\n",
    "\n",
    "evolution = PermutationEvolutive(\n",
    "    alphabet=cities,\n",
    "    n_individuals=100,\n",
    "    mutation=[\"to-opt\", \"insert-gene\", \"swap-gene\"],\n",
    "    crossover= \"half-fixed\",\n",
    "\tT_selection=10,\n",
    "\tp_crossover=0.7,\n",
    "\taverage_mutation_rate=1.5,\n",
    "\telitism=True,\n",
    ")\n",
    "results = evolution.evolve(fit=tsp.fit_cities, n_generations=2000, obtain_metrics=True, trace=200)\n",
    "\n",
    "print(\"Evolution Metrics:\")\n",
    "evolution.plot_evolution_metrics(results[\"evolution_metrics\"])\n",
    "\n",
    "fig, axs = plt.subplots(1, 2, figsize=(12, 5))\n",
    "tsp.plot_cities(cities, axes=axs[0])\n",
    "tsp.plot_cities(results[\"best\"], axes=axs[1])"
   ]
  },
  {
   "cell_type": "markdown",
   "metadata": {},
   "source": [
    "### Evolución Custom"
   ]
  },
  {
   "cell_type": "markdown",
   "metadata": {},
   "source": [
    "Para probar otra forma de obtener las evoluciones, también desarrollamos `MultiGeneticEvolutive` que permite pasar varias evoluciones al mismo tiempo (o la misma evolución) y reiniciar las poblaciones por evolución (donde `pop_to_reintroduce` es el porcentaje de individuos de la población anterior que se reintroducen en el siguiente evolutivo (siempre se incluye el mejor))."
   ]
  },
  {
   "cell_type": "code",
   "execution_count": null,
   "metadata": {},
   "outputs": [],
   "source": [
    "from examples import tsp\n",
    "from src.evolutive import MultiGeneticEvolutive\n",
    "from src.gen_evolutive import PermutationEvolutive\n",
    "import matplotlib.pyplot as plt\n",
    "\n",
    "evolutive = PermutationEvolutive(\n",
    "    alphabet=cities,\n",
    "    n_individuals=100,\n",
    "    mutation=[\"to-opt\", \"insert-gene\", \"swap-gene\"],\n",
    "    crossover= \"half-fixed\",\n",
    "\tT_selection=10,\n",
    "\tp_crossover=0.7,\n",
    "\taverage_mutation_rate=1.25,\n",
    "\telitism=True,\n",
    ")\n",
    "\n",
    "evolution = MultiGeneticEvolutive(\n",
    "    evolutions=(evolutive, evolutive, evolutive, evolutive),\n",
    "    pop_to_reintroduce=0.05,\n",
    ")\n",
    "\n",
    "\n",
    "results = evolution.evolve(fit=tsp.fit_cities, n_generations=2000, obtain_metrics=True, trace=200)\n",
    "print(\"Evolution Metrics:\")\n",
    "evolution.plot_evolution_metrics(results[\"evolution_metrics\"])\n",
    "\n",
    "fig, axs = plt.subplots(1, 2, figsize=(12, 5))\n",
    "tsp.plot_cities(cities, axes=axs[0])\n",
    "tsp.plot_cities(results[\"best\"], axes=axs[1])"
   ]
  },
  {
   "cell_type": "markdown",
   "metadata": {},
   "source": [
    "### Random 150 cities"
   ]
  },
  {
   "cell_type": "markdown",
   "metadata": {},
   "source": [
    "Probamos también con una nueva distribución aleatoria de 150 ciudades con el mejor que obtuvimos previamente."
   ]
  },
  {
   "cell_type": "code",
   "execution_count": null,
   "metadata": {},
   "outputs": [],
   "source": [
    "from examples import tsp\n",
    "from src.gen_evolutive import PermutationEvolutive\n",
    "\n",
    "rng_cities = tsp.random_cities(150, 2)\n",
    "tsp.plot_cities(rng_cities)"
   ]
  },
  {
   "cell_type": "markdown",
   "metadata": {},
   "source": [
    "En este caso, vamos a aumentar el número de generaciones."
   ]
  },
  {
   "cell_type": "code",
   "execution_count": null,
   "metadata": {},
   "outputs": [],
   "source": [
    "evolution = PermutationEvolutive(\n",
    "    alphabet=rng_cities,\n",
    "    n_individuals=100,\n",
    "    mutation=[\"to-opt\", \"insert-gene\", \"swap-gene\"],\n",
    "    crossover= \"half-fixed\",\n",
    "\tT_selection=10,\n",
    "\tp_crossover=0.7,\n",
    "\taverage_mutation_rate=1.5,\n",
    "\telitism=True\n",
    ")\n",
    "results = evolution.evolve(fit=tsp.fit_cities, n_generations=3000, obtain_metrics=True, trace=300)\n",
    "\n",
    "print(\"Evolution Metrics:\")\n",
    "evolution.plot_evolution_metrics(results[\"evolution_metrics\"])\n",
    "\n",
    "fig, axs = plt.subplots(1, 2, figsize=(12, 5))\n",
    "tsp.plot_cities(rng_cities, axes=axs[0])\n",
    "tsp.plot_cities(results[\"best\"], axes=axs[1])"
   ]
  },
  {
   "cell_type": "markdown",
   "metadata": {},
   "source": [
    "Probamos también con 200 ciudades."
   ]
  },
  {
   "cell_type": "code",
   "execution_count": null,
   "metadata": {},
   "outputs": [],
   "source": [
    "from examples import tsp\n",
    "from src.gen_evolutive import PermutationEvolutive\n",
    "\n",
    "rng_cities = tsp.random_cities(200, 2)\n",
    "tsp.plot_cities(rng_cities)"
   ]
  },
  {
   "cell_type": "code",
   "execution_count": null,
   "metadata": {},
   "outputs": [],
   "source": [
    "evolution = PermutationEvolutive(\n",
    "    alphabet=rng_cities,\n",
    "    n_individuals=125,\n",
    "    mutation=[\"to-opt\", \"insert-gene\", \"swap-gene\"],\n",
    "    crossover= \"half-fixed\",\n",
    "\tT_selection=10,\n",
    "\tp_crossover=0.7,\n",
    "\taverage_mutation_rate=1.5,\n",
    "\telitism=True\n",
    ")\n",
    "results = evolution.evolve(fit=tsp.fit_cities, n_generations=3000, obtain_metrics=True, trace=300)\n",
    "\n",
    "print(\"Evolution Metrics:\")\n",
    "evolution.plot_evolution_metrics(results[\"evolution_metrics\"])\n",
    "\n",
    "fig, axs = plt.subplots(1, 2, figsize=(12, 5))\n",
    "tsp.plot_cities(rng_cities, axes=axs[0])\n",
    "tsp.plot_cities(results[\"best\"], axes=axs[1])"
   ]
  },
  {
   "cell_type": "markdown",
   "metadata": {},
   "source": [
    "## 3D Cities"
   ]
  },
  {
   "cell_type": "markdown",
   "metadata": {},
   "source": [
    "Probando en el caso tridimensional para el problema del viajante, probamos con 100 ciudades."
   ]
  },
  {
   "cell_type": "code",
   "execution_count": null,
   "metadata": {},
   "outputs": [],
   "source": [
    "from examples import tsp\n",
    "from src.gen_evolutive import PermutationEvolutive\n",
    "\n",
    "rng_cities = tsp.random_cities(100, 3)\n",
    "anim = tsp.plot_3dcities(rng_cities)\n",
    "HTML(anim.to_jshtml())\n",
    "# anim.save(\"cities_animation.mp4\", writer=\"ffmpeg\")"
   ]
  },
  {
   "cell_type": "markdown",
   "metadata": {},
   "source": [
    "Probando con los parámetros que habíamos usado previamente."
   ]
  },
  {
   "cell_type": "code",
   "execution_count": null,
   "metadata": {},
   "outputs": [],
   "source": [
    "evolution = PermutationEvolutive(\n",
    "    alphabet=rng_cities,\n",
    "    n_individuals=100,\n",
    "    mutation=[\"to-opt\", \"insert-gene\", \"swap-gene\"],\n",
    "    crossover= \"half-fixed\",\n",
    "\tT_selection=10,\n",
    "\tp_crossover=0.7,\n",
    "\taverage_mutation_rate=1.25,\n",
    "\telitism=True\n",
    ")\n",
    "results = evolution.evolve(fit=tsp.fit_npcities, n_generations=1500, obtain_metrics=True, trace=100)\n",
    "\n",
    "print(\"Evolution Metrics:\")\n",
    "evolution.plot_evolution_metrics(results[\"evolution_metrics\"])\n",
    "\n",
    "anim = tsp.plot_3dcities(results[\"best\"])\n",
    "HTML(anim.to_jshtml())"
   ]
  },
  {
   "cell_type": "markdown",
   "metadata": {},
   "source": [
    "### 3D Cities pruebas variando parámetros y mutaciones"
   ]
  },
  {
   "cell_type": "markdown",
   "metadata": {},
   "source": [
    "**Usando sólo to-opt**"
   ]
  },
  {
   "cell_type": "code",
   "execution_count": null,
   "metadata": {},
   "outputs": [],
   "source": [
    "evolution = PermutationEvolutive(\n",
    "    alphabet=rng_cities,\n",
    "    n_individuals=100,\n",
    "    mutation=\"to-opt\",\n",
    "    crossover= \"half-fixed\",\n",
    "\tT_selection=10,\n",
    "\tp_crossover=0.7,\n",
    "\taverage_mutation_rate=1.,\n",
    "\telitism=True\n",
    ")\n",
    "results = evolution.evolve(fit=tsp.fit_npcities, n_generations=1500, obtain_metrics=True, trace=300)\n",
    "\n",
    "print(\"Evolution Metrics:\")\n",
    "evolution.plot_evolution_metrics(results[\"evolution_metrics\"])\n",
    "\n",
    "anim = tsp.plot_3dcities(results[\"best\"])\n",
    "HTML(anim.to_jshtml())"
   ]
  },
  {
   "cell_type": "markdown",
   "metadata": {},
   "source": [
    "**Usando sólo insert-gene**"
   ]
  },
  {
   "cell_type": "code",
   "execution_count": null,
   "metadata": {},
   "outputs": [],
   "source": [
    "evolution = PermutationEvolutive(\n",
    "    alphabet=rng_cities,\n",
    "    n_individuals=100,\n",
    "    mutation=\"insert-gene\",\n",
    "    crossover= \"half-fixed\",\n",
    "\tT_selection=10,\n",
    "\tp_crossover=0.7,\n",
    "\taverage_mutation_rate=1.,\n",
    "\telitism=True\n",
    ")\n",
    "results = evolution.evolve(fit=tsp.fit_npcities, n_generations=1500, obtain_metrics=True, trace=300)\n",
    "\n",
    "print(\"Evolution Metrics:\")\n",
    "evolution.plot_evolution_metrics(results[\"evolution_metrics\"])\n",
    "\n",
    "anim = tsp.plot_3dcities(results[\"best\"])\n",
    "HTML(anim.to_jshtml())"
   ]
  },
  {
   "cell_type": "markdown",
   "metadata": {},
   "source": [
    "**Usando sólo swap-gene**"
   ]
  },
  {
   "cell_type": "code",
   "execution_count": null,
   "metadata": {},
   "outputs": [],
   "source": [
    "evolution = PermutationEvolutive(\n",
    "    alphabet=rng_cities,\n",
    "    n_individuals=100,\n",
    "    mutation=\"swap-gene\",\n",
    "    crossover= \"half-fixed\",\n",
    "\tT_selection=10,\n",
    "\tp_crossover=0.7,\n",
    "\taverage_mutation_rate=1.,\n",
    "\telitism=True\n",
    ")\n",
    "results = evolution.evolve(fit=tsp.fit_npcities, n_generations=1500, obtain_metrics=True, trace=300)\n",
    "\n",
    "print(\"Evolution Metrics:\")\n",
    "evolution.plot_evolution_metrics(results[\"evolution_metrics\"])\n",
    "\n",
    "anim = tsp.plot_3dcities(results[\"best\"])\n",
    "HTML(anim.to_jshtml())"
   ]
  },
  {
   "cell_type": "markdown",
   "metadata": {},
   "source": [
    "**To opt y aumentando el mutation rate**"
   ]
  },
  {
   "cell_type": "code",
   "execution_count": null,
   "metadata": {},
   "outputs": [],
   "source": [
    "evolution = PermutationEvolutive(\n",
    "    alphabet=rng_cities,\n",
    "    n_individuals=100,\n",
    "    mutation=\"to-opt\",\n",
    "    crossover= \"half-fixed\",\n",
    "\tT_selection=10,\n",
    "\tp_crossover=0.7,\n",
    "\taverage_mutation_rate=2.,\n",
    "\telitism=True\n",
    ")\n",
    "results = evolution.evolve(fit=tsp.fit_npcities, n_generations=1500, obtain_metrics=True, trace=100)\n",
    "\n",
    "print(\"Evolution Metrics:\")\n",
    "evolution.plot_evolution_metrics(results[\"evolution_metrics\"])\n",
    "\n",
    "anim = tsp.plot_3dcities(results[\"best\"])\n",
    "HTML(anim.to_jshtml())"
   ]
  },
  {
   "cell_type": "markdown",
   "metadata": {},
   "source": [
    "**To opt y reduciendo el mutation rate**"
   ]
  },
  {
   "cell_type": "code",
   "execution_count": null,
   "metadata": {},
   "outputs": [],
   "source": [
    "evolution = PermutationEvolutive(\n",
    "    alphabet=rng_cities,\n",
    "    n_individuals=100,\n",
    "    mutation=\"to-opt\",\n",
    "    crossover= \"half-fixed\",\n",
    "\tT_selection=10,\n",
    "\tp_crossover=0.7,\n",
    "\taverage_mutation_rate=0.5,\n",
    "\telitism=True\n",
    ")\n",
    "results = evolution.evolve(fit=tsp.fit_npcities, n_generations=1500, obtain_metrics=True, trace=300)\n",
    "\n",
    "print(\"Evolution Metrics:\")\n",
    "evolution.plot_evolution_metrics(results[\"evolution_metrics\"])\n",
    "\n",
    "anim = tsp.plot_3dcities(results[\"best\"])\n",
    "HTML(anim.to_jshtml())"
   ]
  },
  {
   "cell_type": "markdown",
   "metadata": {},
   "source": [
    "**To opt modificando el parámetro T**"
   ]
  },
  {
   "cell_type": "code",
   "execution_count": null,
   "metadata": {},
   "outputs": [],
   "source": [
    "evolution = PermutationEvolutive(\n",
    "    alphabet=rng_cities,\n",
    "    n_individuals=100,\n",
    "    mutation=\"to-opt\",\n",
    "    crossover= \"half-fixed\",\n",
    "\tT_selection=3,\n",
    "\tp_crossover=0.7,\n",
    "\taverage_mutation_rate=1.,\n",
    "\telitism=True\n",
    ")\n",
    "results = evolution.evolve(fit=tsp.fit_npcities, n_generations=1500, obtain_metrics=True, trace=300)\n",
    "\n",
    "print(\"Evolution Metrics:\")\n",
    "evolution.plot_evolution_metrics(results[\"evolution_metrics\"])\n",
    "anim = tsp.plot_3dcities(results[\"best\"])\n",
    "HTML(anim.to_jshtml())"
   ]
  },
  {
   "cell_type": "code",
   "execution_count": null,
   "metadata": {},
   "outputs": [],
   "source": [
    "evolution = PermutationEvolutive(\n",
    "    alphabet=rng_cities,\n",
    "    n_individuals=100,\n",
    "    mutation=\"to-opt\",\n",
    "    crossover= \"half-fixed\",\n",
    "\tT_selection=50,\n",
    "\tp_crossover=0.7,\n",
    "\taverage_mutation_rate=1.,\n",
    "\telitism=True\n",
    ")\n",
    "results = evolution.evolve(fit=tsp.fit_npcities, n_generations=1500, obtain_metrics=True, trace=100)\n",
    "\n",
    "print(\"Evolution Metrics:\")\n",
    "evolution.plot_evolution_metrics(results[\"evolution_metrics\"])\n",
    "anim = tsp.plot_3dcities(results[\"best\"])\n",
    "HTML(anim.to_jshtml())"
   ]
  },
  {
   "cell_type": "markdown",
   "metadata": {},
   "source": [
    "De nuevo, como para el caso 2D del tsp, se observa que para las mutaciones, lo que mejr ha funcionado es utilizar las tres a la vez y que se utilicen de manera aleatoria. En el caso de utilizar una única mutación, la que mejor ha funcionado es to-opt.\n",
    "\n",
    "Sobre la tasa media de mutación, en este caso ha funcionado notablemente bien una tasa baja, lo cual enfoca más la búsqueda a la explotación y centra más al algoritmo a que cuando llegue a un minimo, sea local o no, alcance su valor más bajo.\n",
    "\n",
    "Acerca del parámetro T, ha funcionado claramente mejor un valor más grande, que centra el tiro más en la explotación que en la exploración. Ya que los individuos que no sean los mejores, tienen muy pocas posibilidades de llegar a reproducirse."
   ]
  },
  {
   "cell_type": "markdown",
   "metadata": {},
   "source": [
    "## Mathematical Function Optimization"
   ]
  },
  {
   "cell_type": "markdown",
   "metadata": {},
   "source": [
    "Otras funciones que podemos optimizar con estos métodos son funciones matemáticas como la de Himmelblau o Ackley.\n",
    "\n",
    "Para los crossover, hemos implementado BLX y BLX-alpha y para las mutaciones, mutaciones que mutan cualquier gen del cromosoma a un valor del rango posible de valores, o a valores en la localidad del gen."
   ]
  },
  {
   "cell_type": "code",
   "execution_count": 35,
   "metadata": {},
   "outputs": [],
   "source": [
    "import examples.mathfuncs as mexp\n",
    "from src.gen_evolutive import RealEvolutive\n",
    "import matplotlib.pyplot as plt"
   ]
  },
  {
   "cell_type": "markdown",
   "metadata": {},
   "source": [
    "### Himmelblau"
   ]
  },
  {
   "cell_type": "markdown",
   "metadata": {},
   "source": [
    "Para la de Himmelblau, comenzamos con una mutación media de 0.5 y usamos el crossover de `blx`. Además, hemos implementado el parámetro normalize, que normaliza los genes del rango posible de valores (-5, 5) al rango (0, 1)."
   ]
  },
  {
   "cell_type": "code",
   "execution_count": null,
   "metadata": {},
   "outputs": [],
   "source": [
    "evolutive = RealEvolutive(\n",
    "    n_individuals=100,\n",
    "    value_range=(-5, 5),\n",
    "    cromolength=2,\n",
    "    average_mutation_rate=0.5,\n",
    "    mutation=[\"random-range\", \"random-local\"],\n",
    "    crossover=\"blx\",\n",
    "    mutation_eps=0.01,\n",
    "    normalize=True,\n",
    "    T_selection=4\n",
    ")\n",
    "\n",
    "results = evolutive.evolve(\n",
    "    fit=mexp.get_fit_function(mexp.himmelblau),\n",
    "    n_generations=1500,\n",
    "    target=0.9999,\n",
    "    obtain_metrics=True,\n",
    "    trace=100\n",
    ")\n",
    "print(f\"Best: {results['best']}\")\n",
    "print(\"Evolution Metrics:\")\n",
    "evolutive.plot_evolution_metrics(results[\"evolution_metrics\"])\n",
    "\n",
    "mexp.plot_contour(\n",
    "    function=mexp.himmelblau,\n",
    "    value_range=(-5, 5),\n",
    "    points=400,\n",
    "    marked_point=results[\"best\"]\n",
    ")\n",
    "plt.title(\"Himmelblau Function\")"
   ]
  },
  {
   "cell_type": "code",
   "execution_count": null,
   "metadata": {},
   "outputs": [],
   "source": [
    "mexp.plot_contour_3d(\n",
    "    function=mexp.himmelblau,\n",
    "    value_range=(-5, 5),\n",
    "    points=400,\n",
    "    marked_point=results[\"best\"],\n",
    "    title = \"3D Himmelblau Function\"\n",
    ")"
   ]
  },
  {
   "cell_type": "markdown",
   "metadata": {},
   "source": [
    "Encuentra el mínimo correctamente y como en la función de Himmelblau vale cualquiera de los cuatro mínimos consideramos que los parámetros que hemos seleccionado son válidos para el problema."
   ]
  },
  {
   "cell_type": "markdown",
   "metadata": {},
   "source": [
    "### Himmelblau OnlyOne"
   ]
  },
  {
   "cell_type": "markdown",
   "metadata": {},
   "source": [
    "Con la modificación de OnlyOne, la función tendría sólo un mínimo global (minímo en la esquina izquierda inferior) de la función. En este caso, vamos a aumentar el mutation rate a 0.75 y cambiamos el crossover a `blx-alpha` para tratar de evitar que se quede atascado en un mínimo local (los valores 0.6667 de fit)."
   ]
  },
  {
   "cell_type": "code",
   "execution_count": null,
   "metadata": {},
   "outputs": [],
   "source": [
    "himmelblau = lambda ch: mexp.himmelblau(ch, onlyone=True)\n",
    "evolutive = RealEvolutive(\n",
    "    n_individuals=100,\n",
    "    value_range=(-5, 5),\n",
    "    cromolength=2,\n",
    "    average_mutation_rate=0.75,\n",
    "    mutation=[\"random-range\", \"random-local\"],\n",
    "    crossover=\"blx-alpha\",\n",
    "    mutation_eps=0.01,\n",
    "    normalize=True,\n",
    "    T_selection=4,\n",
    ")\n",
    "\n",
    "results = evolutive.evolve(\n",
    "    fit=mexp.get_fit_function(himmelblau),\n",
    "    n_generations=1500,\n",
    "    target=0.9999,\n",
    "    obtain_metrics=True,\n",
    "    trace=200\n",
    ")\n",
    "print(f\"Best: {results['best']}\")\n",
    "print(\"Evolution Metrics:\")\n",
    "evolutive.plot_evolution_metrics(results[\"evolution_metrics\"])\n",
    "\n",
    "mexp.plot_contour(\n",
    "    function=himmelblau,\n",
    "    value_range=(-5, 5),\n",
    "    points=400,\n",
    "    marked_point=results[\"best\"]\n",
    ")\n",
    "plt.title(\"Himmelblau OnlyOne Function\")"
   ]
  },
  {
   "cell_type": "markdown",
   "metadata": {},
   "source": [
    "Esta solución no consigue alcanzar el mínimo exacto, pero nos hemos fijado que si activamos el elitismo si que lo consigue."
   ]
  },
  {
   "cell_type": "code",
   "execution_count": null,
   "metadata": {},
   "outputs": [],
   "source": [
    "himmelblau = lambda ch: mexp.himmelblau(ch, onlyone=True)\n",
    "evolutive = RealEvolutive(\n",
    "    n_individuals=100,\n",
    "    value_range=(-5, 5),\n",
    "    cromolength=2,\n",
    "    average_mutation_rate=0.75,\n",
    "    mutation=[\"random-range\", \"random-local\"],\n",
    "    crossover=\"blx-alpha\",\n",
    "    mutation_eps=0.01,\n",
    "    normalize=True,\n",
    "    T_selection=4,\n",
    "    elitism=True\n",
    ")\n",
    "\n",
    "results = evolutive.evolve(\n",
    "    fit=mexp.get_fit_function(himmelblau),\n",
    "    n_generations=1500,\n",
    "    target=0.9999,\n",
    "    obtain_metrics=True,\n",
    "    trace=200\n",
    ")\n",
    "print(f\"Best: {results['best']}\")\n",
    "print(\"Evolution Metrics:\")\n",
    "evolutive.plot_evolution_metrics(results[\"evolution_metrics\"])\n",
    "\n",
    "mexp.plot_contour(\n",
    "    function=himmelblau,\n",
    "    value_range=(-5, 5),\n",
    "    points=400,\n",
    "    marked_point=results[\"best\"]\n",
    ")\n",
    "plt.title(\"Himmelblau OnlyOne Function\")"
   ]
  },
  {
   "cell_type": "code",
   "execution_count": null,
   "metadata": {},
   "outputs": [],
   "source": [
    "mexp.plot_contour_3d(\n",
    "    function=mexp.himmelblau,\n",
    "    value_range=(-5, 5),\n",
    "    points=400,\n",
    "    marked_point=results[\"best\"],\n",
    "    title = \"3D Himmelblau Function\"\n",
    ")"
   ]
  },
  {
   "cell_type": "markdown",
   "metadata": {},
   "source": [
    "Además lo consigue muy rápido. No lo hemos necesitado pero un approach interesante sería haber mezclado con el multi genetic evolution una busqueda exploratoria primero y después una búsqueda de explotación."
   ]
  },
  {
   "cell_type": "markdown",
   "metadata": {},
   "source": [
    "### Ackley"
   ]
  },
  {
   "cell_type": "markdown",
   "metadata": {},
   "source": [
    "Probamos con los parámetros que habíamos usado en el primer himmelblau."
   ]
  },
  {
   "cell_type": "code",
   "execution_count": null,
   "metadata": {},
   "outputs": [],
   "source": [
    "evolutive = RealEvolutive(\n",
    "    n_individuals=100,\n",
    "    value_range=(-5, 5),\n",
    "    cromolength=2,\n",
    "    average_mutation_rate=0.5,\n",
    "    mutation=[\"random-range\", \"random-local\"],\n",
    "    crossover=\"blx\",\n",
    "    mutation_eps=0.01,\n",
    "    normalize=True,\n",
    "    T_selection=4\n",
    ")\n",
    "\n",
    "results = evolutive.evolve(\n",
    "    fit=mexp.get_fit_function(mexp.ackley),\n",
    "    n_generations=1500,\n",
    "    target=0.9999,\n",
    "    obtain_metrics=True,\n",
    "    trace=100\n",
    ")\n",
    "print(f\"Best: {results['best']}\")\n",
    "print(\"Evolution Metrics:\")\n",
    "evolutive.plot_evolution_metrics(results[\"evolution_metrics\"])\n",
    "\n",
    "mexp.plot_contour(\n",
    "    function=mexp.ackley,\n",
    "    value_range=(-5, 5),\n",
    "    points=400,\n",
    "    marked_point=results[\"best\"]\n",
    ")\n",
    "plt.title(\"Ackley Function\")"
   ]
  },
  {
   "cell_type": "code",
   "execution_count": null,
   "metadata": {},
   "outputs": [],
   "source": [
    "mexp.plot_contour_3d(\n",
    "    function=mexp.ackley,\n",
    "    value_range=(-32.768, 32.768),\n",
    "    points=200,\n",
    "    marked_point=results[\"best\"],\n",
    "    title = \"3D Ackley Function\"\n",
    ")"
   ]
  },
  {
   "cell_type": "markdown",
   "metadata": {},
   "source": [
    "Encuentra la solución en pocas iteraciones."
   ]
  },
  {
   "cell_type": "markdown",
   "metadata": {},
   "source": [
    "### Beale"
   ]
  },
  {
   "cell_type": "markdown",
   "metadata": {},
   "source": [
    "Con la función de beale hemos mantenido los mismos parámetros que antes."
   ]
  },
  {
   "cell_type": "code",
   "execution_count": null,
   "metadata": {},
   "outputs": [],
   "source": [
    "evolutive = RealEvolutive(\n",
    "    n_individuals=100,\n",
    "    value_range=(-5, 5),\n",
    "    cromolength=2,\n",
    "    average_mutation_rate=0.5,\n",
    "    mutation=[\"random-range\", \"random-local\"],\n",
    "    crossover=\"blx\",\n",
    "    mutation_eps=0.01,\n",
    "    normalize=True,\n",
    "    T_selection=4\n",
    ")\n",
    "\n",
    "results = evolutive.evolve(\n",
    "    fit=mexp.get_fit_function(mexp.beale),\n",
    "    n_generations=1000,\n",
    "    obtain_metrics=True,\n",
    "    trace=100,\n",
    "    target=1-1e-10\n",
    ")\n",
    "\n",
    "print(f\"Best: {results['best']}\")\n",
    "print(\"Evolution Metrics:\")\n",
    "evolutive.plot_evolution_metrics(results[\"evolution_metrics\"])\n",
    "mexp.plot_contour(\n",
    "    function=mexp.beale,\n",
    "    value_range=(-4.5, 4.5),\n",
    "    points=400,\n",
    "    marked_point=results[\"best\"]\n",
    ")\n",
    "plt.title(\"Beale Function\")"
   ]
  },
  {
   "cell_type": "code",
   "execution_count": null,
   "metadata": {},
   "outputs": [],
   "source": [
    "mexp.plot_contour_3d(\n",
    "    function=mexp.beale,\n",
    "    value_range=(-4.5, 4.5),\n",
    "    points=400,\n",
    "    marked_point=results[\"best\"],\n",
    "    title = \"3D Beale Function\"\n",
    ")"
   ]
  },
  {
   "cell_type": "markdown",
   "metadata": {},
   "source": [
    "### Easom"
   ]
  },
  {
   "cell_type": "markdown",
   "metadata": {},
   "source": [
    "Con Easom usamos también los mismos parámetros, pero en la función de fit activamos non_zero_division (ya que nuestro fit daba error ya que el mínimo que se alcanzaba era -1)."
   ]
  },
  {
   "cell_type": "code",
   "execution_count": null,
   "metadata": {},
   "outputs": [],
   "source": [
    "evolutive = RealEvolutive(\n",
    "    n_individuals=200,\n",
    "    value_range=(-10, 10),\n",
    "    cromolength=2,\n",
    "    average_mutation_rate=0.5,\n",
    "    mutation=[\"random-range\", \"random-local\"],\n",
    "    crossover=\"blx\",\n",
    "    mutation_eps=0.01,\n",
    "    normalize=True,\n",
    "    T_selection=4\n",
    ")\n",
    "\n",
    "results = evolutive.evolve(\n",
    "    fit=mexp.get_fit_function(mexp.easom, non_zero_divisor=True),\n",
    "    n_generations=1000,\n",
    "    target=None,\n",
    "    obtain_metrics=True,\n",
    "    trace=200\n",
    ")\n",
    "print(f\"Best: {results['best']}\")\n",
    "print(\"Evolution Metrics:\")\n",
    "evolutive.plot_evolution_metrics(results[\"evolution_metrics\"])\n",
    "\n",
    "mexp.plot_contour(\n",
    "    function=mexp.easom,\n",
    "    value_range=(-10, 10),\n",
    "    points=400,\n",
    "    marked_point=results[\"best\"]\n",
    ")\n",
    "plt.title(\"Easom Function\")"
   ]
  },
  {
   "cell_type": "code",
   "execution_count": null,
   "metadata": {},
   "outputs": [],
   "source": [
    "mexp.plot_contour_3d(\n",
    "    function=mexp.easom,\n",
    "    value_range=(-10, 10),\n",
    "    points=400,\n",
    "    marked_point=results[\"best\"],\n",
    "    title = \"3D Easom Function\"\n",
    ")"
   ]
  },
  {
   "cell_type": "markdown",
   "metadata": {},
   "source": [
    "### Goldstein-Price"
   ]
  },
  {
   "cell_type": "markdown",
   "metadata": {},
   "source": [
    "También usamos los mismos parámetros, y conseguimos alcanzar el mínimo de la función."
   ]
  },
  {
   "cell_type": "code",
   "execution_count": null,
   "metadata": {},
   "outputs": [],
   "source": [
    "evolutive = RealEvolutive(\n",
    "    n_individuals=100,\n",
    "    value_range=(-2, 2),\n",
    "    cromolength=2,\n",
    "    average_mutation_rate=0.5,\n",
    "    mutation=[\"random-range\", \"random-local\"],\n",
    "    crossover=\"blx\",\n",
    "    mutation_eps=0.01,\n",
    "    normalize=True,\n",
    "    T_selection=4\n",
    ")\n",
    "\n",
    "results = evolutive.evolve(\n",
    "    fit=mexp.get_fit_function(mexp.goldstein_price_function),\n",
    "    n_generations=1000,\n",
    "    target=0.9999,\n",
    "    obtain_metrics=True,\n",
    "    trace=100\n",
    ")\n",
    "print(f\"Best: {results['best']}\")\n",
    "print(\"Evolution Metrics:\")\n",
    "evolutive.plot_evolution_metrics(results[\"evolution_metrics\"])\n",
    "\n",
    "mexp.plot_contour(\n",
    "    function=mexp.goldstein_price_function,\n",
    "    value_range=(-2, 2),\n",
    "    points=400,\n",
    "    marked_point=results[\"best\"]\n",
    ")"
   ]
  },
  {
   "cell_type": "code",
   "execution_count": null,
   "metadata": {},
   "outputs": [],
   "source": [
    "mexp.plot_contour_3d(\n",
    "    function=mexp.goldstein_price_function,\n",
    "    value_range=(-2, 2),\n",
    "    points=400,\n",
    "    marked_point=results[\"best\"],\n",
    "    title = \"3D Goldstein Price Function\"\n",
    ")"
   ]
  },
  {
   "cell_type": "markdown",
   "metadata": {},
   "source": [
    "### Rosenbrock"
   ]
  },
  {
   "cell_type": "markdown",
   "metadata": {},
   "source": [
    "De nuevo usamos los mismos parámetros y encontramos el mínimo sin problemas."
   ]
  },
  {
   "cell_type": "code",
   "execution_count": null,
   "metadata": {},
   "outputs": [],
   "source": [
    "evolutive = RealEvolutive(\n",
    "    n_individuals=100,\n",
    "    value_range=(-2, 2),\n",
    "    cromolength=2,\n",
    "    average_mutation_rate=0.5,\n",
    "    mutation=[\"random-range\", \"random-local\"],\n",
    "    crossover=\"blx\",\n",
    "    mutation_eps=0.01,\n",
    "    normalize=True,\n",
    "    T_selection=4\n",
    ")\n",
    "\n",
    "results = evolutive.evolve(\n",
    "    fit=mexp.get_fit_function(mexp.rosenbrock),\n",
    "    n_generations=2000,\n",
    "    target=0.99999,\n",
    "    obtain_metrics=True,\n",
    "    trace=200\n",
    ")\n",
    "\n",
    "print(f\"Best: {results['best']}\")\n",
    "print(\"Evolution Metrics:\")\n",
    "evolutive.plot_evolution_metrics(results[\"evolution_metrics\"])\n",
    "\n",
    "mexp.plot_contour(\n",
    "    function=mexp.rosenbrock,\n",
    "    value_range=(-5, 10),\n",
    "    points=400,\n",
    "    marked_point=results[\"best\"]\n",
    ")"
   ]
  },
  {
   "cell_type": "code",
   "execution_count": null,
   "metadata": {},
   "outputs": [],
   "source": [
    "mexp.plot_contour_3d(\n",
    "    function=mexp.rosenbrock,\n",
    "    value_range=(-5, 10),\n",
    "    points=400,\n",
    "    marked_point=results[\"best\"],\n",
    "    title = \"3D Rosenbrock Function\"\n",
    ")"
   ]
  },
  {
   "cell_type": "markdown",
   "metadata": {},
   "source": [
    "### Rosenbrock NDimensional"
   ]
  },
  {
   "cell_type": "markdown",
   "metadata": {},
   "source": [
    "Usamos los mismos parámetros para obtener el mínimo."
   ]
  },
  {
   "cell_type": "code",
   "execution_count": null,
   "metadata": {},
   "outputs": [],
   "source": [
    "evolutive = RealEvolutive(\n",
    "    n_individuals=100,\n",
    "    value_range=(-5, 10),\n",
    "    cromolength=2,\n",
    "    average_mutation_rate=0.5,\n",
    "    mutation=[\"random-range\", \"random-local\"],\n",
    "    crossover=\"blx\",\n",
    "    mutation_eps=0.01,\n",
    "    normalize=True,\n",
    "    T_selection=4\n",
    ")\n",
    "\n",
    "results = evolutive.evolve(\n",
    "    fit=mexp.get_fit_function(mexp.rosenbrock_ndim),\n",
    "    n_generations=2500,\n",
    "    target=1-1e-4,\n",
    "    obtain_metrics=True,\n",
    "    trace=500\n",
    ")\n",
    "\n",
    "print(f\"Best: {results['best']}\")\n",
    "print(\"Evolution Metrics:\")\n",
    "evolutive.plot_evolution_metrics(results[\"evolution_metrics\"])\n",
    "\n",
    "mexp.plot_contour(\n",
    "    function=mexp.rosenbrock_ndim,\n",
    "    value_range=(-5, 10),\n",
    "    points=400,\n",
    "    marked_point=results[\"best\"]\n",
    ")"
   ]
  },
  {
   "cell_type": "code",
   "execution_count": null,
   "metadata": {},
   "outputs": [],
   "source": [
    "mexp.plot_contour_3d(\n",
    "    function=mexp.rosenbrock_ndim,\n",
    "    value_range=(-5, 10),\n",
    "    points=400,\n",
    "    marked_point=results[\"best\"],\n",
    "    title = \"3D Rosenbrock N-Dimensional Function\"\n",
    ")"
   ]
  },
  {
   "cell_type": "markdown",
   "metadata": {},
   "source": [
    "## Magic Squares"
   ]
  },
  {
   "cell_type": "markdown",
   "metadata": {},
   "source": [
    "Este problema es especialmente complejo, ya que por las pruebas que hemos realizado tiene una tendencia alta a estancarse en mínimos locales o, si no se limita bien la función de fitness, encontrar soluciones triviales como todo unos.\n",
    "\n",
    "Para poder limitar esto, hemos desarrollado la mutación `random-local` que hace que si un gen muta, lo haga solo en valores de su vecindario (no puede saltar por ejemplo del valor 1 del diccionario al 64) y añadir en la función de fit una penalización si se repiten muchas veces el mismo número."
   ]
  },
  {
   "cell_type": "markdown",
   "metadata": {},
   "source": [
    "Probamos primero usando solo `random-gene` y `random-local`."
   ]
  },
  {
   "cell_type": "code",
   "execution_count": null,
   "metadata": {},
   "outputs": [],
   "source": [
    "import examples.magicsquares as msq\n",
    "from src.gen_evolutive import AlphabetEvolutive\n",
    "\n",
    "N = 8\n",
    "evolutive = AlphabetEvolutive(\n",
    "    n_individuals=100,\n",
    "    alphabet=np.arange(1, N*N),\n",
    "    cromolength=N*N,\n",
    "    phenotype=lambda cromosome: msq.to_msquare(cromosome, N),\n",
    "    mutation=[\"random-gene\", \"random-local\"],\n",
    "    crossover=\"split-merge\",\n",
    "    average_mutation_rate=1.25,\n",
    "    T_selection=4,\n",
    "    elitism=True,\n",
    "    maximize=False\n",
    ")\n",
    "results = evolutive.evolve(\n",
    "    fit=lambda square: msq.fit_square(square, max_repetitions=0.4),\n",
    "    n_generations=1500,\n",
    "    target=0.1,\n",
    "    obtain_metrics=True,\n",
    "    trace=300\n",
    ")\n",
    "\n",
    "print(f\"Best:\\n{results['best']}\")\n",
    "print(\"Evolution Metrics:\")\n",
    "evolutive.plot_evolution_metrics(results[\"evolution_metrics\"])"
   ]
  },
  {
   "cell_type": "markdown",
   "metadata": {},
   "source": [
    "**Probamos añadiendo multicrossovers**"
   ]
  },
  {
   "cell_type": "code",
   "execution_count": null,
   "metadata": {},
   "outputs": [],
   "source": [
    "N = 8\n",
    "evolutive = AlphabetEvolutive(\n",
    "    n_individuals=100,\n",
    "    alphabet=np.arange(1, N*N),\n",
    "    cromolength=N*N,\n",
    "    phenotype=lambda cromosome: msq.to_msquare(cromosome, N),\n",
    "    mutation=[\"random-gene\", \"random-local\"],\n",
    "    crossover=[\"split-merge\", \"uniform\"],\n",
    "    average_mutation_rate=1.25,\n",
    "    T_selection=4,\n",
    "    elitism=True,\n",
    "    maximize=False\n",
    ")\n",
    "results = evolutive.evolve(\n",
    "    fit=lambda square: msq.fit_square(square, max_repetitions=0.4),\n",
    "    n_generations=1500,\n",
    "    target=0.1,\n",
    "    obtain_metrics=True,\n",
    "    trace=300\n",
    ")\n",
    "print(f\"Best:\\n{results['best']}\")\n",
    "print(\"Evolution Metrics:\")\n",
    "evolutive.plot_evolution_metrics(results[\"evolution_metrics\"])"
   ]
  },
  {
   "cell_type": "markdown",
   "metadata": {},
   "source": [
    "**Probamos a aumentar el mutation rate**"
   ]
  },
  {
   "cell_type": "code",
   "execution_count": null,
   "metadata": {},
   "outputs": [],
   "source": [
    "N = 8\n",
    "evolutive = AlphabetEvolutive(\n",
    "    n_individuals=100,\n",
    "    alphabet=np.arange(1, N*N),\n",
    "    cromolength=N*N,\n",
    "    phenotype=lambda cromosome: msq.to_msquare(cromosome, N),\n",
    "    mutation=[\"random-gene\", \"random-local\"],\n",
    "    crossover=\"split-merge\",\n",
    "    average_mutation_rate=2.,\n",
    "    T_selection=4,\n",
    "    elitism=True,\n",
    "    maximize=False\n",
    ")\n",
    "results = evolutive.evolve(\n",
    "    fit=lambda square: msq.fit_square(square, max_repetitions=0.4),\n",
    "    n_generations=1500,\n",
    "    target=0.1,\n",
    "    obtain_metrics=True,\n",
    "    trace=300\n",
    ")\n",
    "print(f\"Best:\\n{results['best']}\")\n",
    "print(\"Evolution Metrics:\")\n",
    "evolutive.plot_evolution_metrics(results[\"evolution_metrics\"])"
   ]
  },
  {
   "cell_type": "markdown",
   "metadata": {},
   "source": [
    "**Reducimos el mutation rate**"
   ]
  },
  {
   "cell_type": "code",
   "execution_count": null,
   "metadata": {},
   "outputs": [],
   "source": [
    "N = 8\n",
    "evolutive = AlphabetEvolutive(\n",
    "    n_individuals=100,\n",
    "    alphabet=np.arange(1, N*N),\n",
    "    cromolength=N*N,\n",
    "    phenotype=lambda cromosome: msq.to_msquare(cromosome, N),\n",
    "    mutation=[\"random-gene\", \"random-local\"],\n",
    "    crossover=\"split-merge\",\n",
    "    average_mutation_rate=0.5,\n",
    "    T_selection=4,\n",
    "    elitism=True,\n",
    "    maximize=False\n",
    ")\n",
    "results = evolutive.evolve(\n",
    "    fit=lambda square: msq.fit_square(square, max_repetitions=0.4),\n",
    "    n_generations=1500,\n",
    "    target=0.1,\n",
    "    obtain_metrics=True,\n",
    "    trace=300\n",
    ")\n",
    "print(f\"Best:\\n{results['best']}\")\n",
    "print(\"Evolution Metrics:\")\n",
    "evolutive.plot_evolution_metrics(results[\"evolution_metrics\"])"
   ]
  },
  {
   "cell_type": "markdown",
   "metadata": {},
   "source": [
    "**Aumentamos un poco el mutation rate y aumentamos la selección**"
   ]
  },
  {
   "cell_type": "code",
   "execution_count": null,
   "metadata": {},
   "outputs": [],
   "source": [
    "N = 8\n",
    "evolutive = AlphabetEvolutive(\n",
    "    n_individuals=100,\n",
    "    alphabet=np.arange(1, N*N),\n",
    "    cromolength=N*N,\n",
    "    phenotype=lambda cromosome: msq.to_msquare(cromosome, N),\n",
    "    mutation=[\"random-gene\", \"random-local\"],\n",
    "    crossover=\"split-merge\",\n",
    "    average_mutation_rate=1.25,\n",
    "    T_selection=10,\n",
    "    elitism=True,\n",
    "    maximize=False\n",
    ")\n",
    "results = evolutive.evolve(\n",
    "    fit=lambda square: msq.fit_square(square, max_repetitions=0.4),\n",
    "    n_generations=1500,\n",
    "    target=0.1,\n",
    "    obtain_metrics=True,\n",
    "    trace=100\n",
    ")\n",
    "print(f\"Best:\\n{results['best']}\")\n",
    "print(\"Evolution Metrics:\")\n",
    "evolutive.plot_evolution_metrics(results[\"evolution_metrics\"])"
   ]
  },
  {
   "cell_type": "markdown",
   "metadata": {},
   "source": [
    "**Reducimos la selección**"
   ]
  },
  {
   "cell_type": "code",
   "execution_count": null,
   "metadata": {},
   "outputs": [],
   "source": [
    "N = 8\n",
    "evolutive = AlphabetEvolutive(\n",
    "    n_individuals=100,\n",
    "    alphabet=np.arange(1, N*N),\n",
    "    cromolength=N*N,\n",
    "    phenotype=lambda cromosome: msq.to_msquare(cromosome, N),\n",
    "    mutation=[\"random-gene\", \"random-local\"],\n",
    "    crossover=\"split-merge\",\n",
    "    average_mutation_rate=1.25,\n",
    "    T_selection=2,\n",
    "    elitism=True,\n",
    "    maximize=False\n",
    ")\n",
    "results = evolutive.evolve(\n",
    "    fit=lambda square: msq.fit_square(square, max_repetitions=0.4),\n",
    "    n_generations=1500,\n",
    "    target=0.1,\n",
    "    obtain_metrics=True,\n",
    "    trace=100\n",
    ")\n",
    "print(f\"Best:\\n{results['best']}\")\n",
    "print(\"Evolution Metrics:\")\n",
    "evolutive.plot_evolution_metrics(results[\"evolution_metrics\"])"
   ]
  },
  {
   "cell_type": "markdown",
   "metadata": {},
   "source": [
    "Se varían diferentes parámetros: \n",
    "\n",
    "- Para los tipos de crossover, no se han observado diferencias significativas entre usar uno, otro, o los dos al mismo tiempo.\n",
    "\n",
    "- Para la tasa de mutación, se ha concluido que si esta es muy elevada, entorno a 3 o valores mayores, el equilibrio entre exploración y explotación se rompe y no se llega a resultados aceptables ya que se explora demasiado. En cambio, si esta es menor que 1 por ejemplo, salvo que este valor tienda a 0 (0.01 por ejemplo), no se encuentran diferencias significativas con respecto a valores entre 1 y 2.\n",
    "\n",
    "- En cuanto al parámetro T para la selección de los individuos, si se escoge un valor grande, se potencia la explotación frente a la exploración. Esto se traduce en que si se cae en un minimo local, se explotará esa solución llegando al valor más bajo. En cambio, si este valor es muy pequeño, por ejemplo 2, se obtienen notablemente peores resultados, ya que el modelo no es capaz de explotar esta solución como se debería.\n",
    "\n",
    "- Por último, se ha modificado el parámeto de elitismo en el experimento que mejor ha funcionado para comprobar si afectaba, y efectivamente, se comprobó que poner a False este parámetro, empeora los resultados obtenidos por el modelo."
   ]
  },
  {
   "cell_type": "markdown",
   "metadata": {},
   "source": [
    "Estos serían los parámetros que hemos seleccionado finalmente para poder conseguir la solución. Aunque estos parámetros no aseguran encontrar la solución, ya que se puede quedar atascado en un mínimo local que no alcanza el valor que buscamos."
   ]
  },
  {
   "cell_type": "code",
   "execution_count": null,
   "metadata": {},
   "outputs": [],
   "source": [
    "import examples.magicsquares as msq\n",
    "from src.gen_evolutive import AlphabetEvolutive\n",
    "\n",
    "N = 8\n",
    "evolutive = AlphabetEvolutive(\n",
    "    n_individuals=150,\n",
    "    alphabet=np.arange(1, N*N),\n",
    "    cromolength=N*N,\n",
    "    phenotype=lambda cromosome: msq.to_msquare(cromosome, N),\n",
    "    mutation=[\"random-gene\", \"random-local\", \"to-opt\", \"swap-gene\"],\n",
    "    crossover=[\"split-merge\", \"uniform\"],\n",
    "    average_mutation_rate=1.5,\n",
    "    T_selection=6,\n",
    "    elitism=False,\n",
    "    maximize=False\n",
    ")\n",
    "results = evolutive.evolve(\n",
    "    fit=lambda square: msq.fit_square(square, max_repetitions=0.4),\n",
    "    n_generations=3000,\n",
    "    target=0.1,\n",
    "    obtain_metrics=True,\n",
    "    trace=300\n",
    ")\n",
    "print(f\"Best:\\n{results['best']}\")\n",
    "print(\"Evolution Metrics:\")\n",
    "evolutive.plot_evolution_metrics(results[\"evolution_metrics\"])"
   ]
  },
  {
   "cell_type": "markdown",
   "metadata": {},
   "source": [
    "Incluimos también esta prueba, en la que combinamos los parámetros anteriores y un evolutivo que se centra más en explotación de los genes obtenidos en el previo (para ver si consigue salir del mínimo)."
   ]
  },
  {
   "cell_type": "code",
   "execution_count": null,
   "metadata": {},
   "outputs": [],
   "source": [
    "from src.gen_evolutive import AlphabetEvolutive\n",
    "from src.evolutive import MultiGeneticEvolutive\n",
    "N = 8\n",
    "evolutive1 = AlphabetEvolutive(\n",
    "    n_individuals=150,\n",
    "    alphabet=np.arange(1, N*N),\n",
    "    cromolength=N*N,\n",
    "    phenotype=lambda cromosome: msq.to_msquare(cromosome, N),\n",
    "    mutation=[\"random-gene\", \"random-local\", \"to-opt\", \"swap-gene\"],\n",
    "    crossover=[\"split-merge\", \"uniform\"],\n",
    "    average_mutation_rate=1.5,\n",
    "    T_selection=6,\n",
    "    elitism=False,\n",
    "    maximize=False\n",
    ")\n",
    "evolutive2 = AlphabetEvolutive(\n",
    "    n_individuals=100,\n",
    "    alphabet=np.arange(1, N*N),\n",
    "    cromolength=N*N,\n",
    "    phenotype=lambda cromosome: msq.to_msquare(cromosome, N),\n",
    "    mutation=[\"swap-gene\", \"random-local\", \"to-opt\"],\n",
    "    crossover=\"split-merge\",\n",
    "    average_mutation_rate=1.25,\n",
    "    T_selection=4,\n",
    "    elitism=True,\n",
    "    maximize=False\n",
    ")\n",
    "\n",
    "evolution = MultiGeneticEvolutive(\n",
    "    evolutions=(evolutive1, evolutive2),\n",
    "    pop_to_reintroduce=0.25\n",
    ")\n",
    "\n",
    "results = evolution.evolve(\n",
    "    fit=lambda square: msq.fit_square(square, max_repetitions=0.4),\n",
    "    n_generations=3000,\n",
    "    target=0.1,\n",
    "    obtain_metrics=True,\n",
    "    trace=300\n",
    ")\n",
    "print(f\"Best:\\n{results['best']}\")\n",
    "print(\"Evolution Metrics:\")\n",
    "evolution.plot_evolution_metrics(results[\"evolution_metrics\"])"
   ]
  },
  {
   "cell_type": "markdown",
   "metadata": {},
   "source": [
    "## N Queens"
   ]
  },
  {
   "cell_type": "markdown",
   "metadata": {},
   "source": [
    "Para este problema, para empezar, usamos parámetros similares a los que habíamos elegido previamente en TSP. Y la única modificación que aumentaremos será aumentar un poco el mutation rate. Y funciona hasta el problemas de 128-reinas."
   ]
  },
  {
   "cell_type": "code",
   "execution_count": 62,
   "metadata": {},
   "outputs": [],
   "source": [
    "import examples.n_queens as nq\n",
    "from src.gen_evolutive import PermutationEvolutive\n",
    "import numpy as np"
   ]
  },
  {
   "cell_type": "code",
   "execution_count": null,
   "metadata": {},
   "outputs": [],
   "source": [
    "N = 32\n",
    "evolution = PermutationEvolutive(\n",
    "    alphabet=np.arange(N),\n",
    "    n_individuals=100,\n",
    "    mutation=[\"to-opt\", \"insert-gene\", \"swap-gene\"],\n",
    "    crossover=\"half-fixed\",\n",
    "    T_selection=10,\n",
    "    p_crossover=0.7,\n",
    "    average_mutation_rate=1.5,\n",
    "    elitism=True,\n",
    "    maximize=False\n",
    ")\n",
    "\n",
    "results = evolution.evolve(\n",
    "    fit=nq.fit_queen,\n",
    "    n_generations=1500,\n",
    "    obtain_metrics=True,\n",
    "    target=0.,\n",
    "    trace=200 \n",
    ")\n",
    "\n",
    "print(\"\\nEvolution Metrics:\")\n",
    "evolution.plot_evolution_metrics(results[\"evolution_metrics\"])\n",
    "\n",
    "print(\"Best Solution:\")\n",
    "nq.visualize_queens_board(results[\"best\"])"
   ]
  },
  {
   "cell_type": "code",
   "execution_count": null,
   "metadata": {},
   "outputs": [],
   "source": [
    "N = 64\n",
    "evolution = PermutationEvolutive(\n",
    "    alphabet=np.arange(N),\n",
    "    n_individuals=100,\n",
    "    mutation=[\"to-opt\", \"insert-gene\", \"swap-gene\"],\n",
    "    crossover=\"half-fixed\",\n",
    "    T_selection=10,\n",
    "    p_crossover=0.7,\n",
    "    average_mutation_rate=1.5,\n",
    "    elitism=True,\n",
    "    maximize=False\n",
    ")\n",
    "\n",
    "results = evolution.evolve(\n",
    "    fit=nq.fit_queen,\n",
    "    n_generations=1500,\n",
    "    obtain_metrics=True,\n",
    "    target=0.,\n",
    "    trace=100 \n",
    ")\n",
    "\n",
    "print(\"\\nEvolution Metrics:\")\n",
    "evolution.plot_evolution_metrics(results[\"evolution_metrics\"])\n",
    "\n",
    "print(\"Best Solution:\")\n",
    "nq.visualize_queens_board(results[\"best\"])"
   ]
  },
  {
   "cell_type": "code",
   "execution_count": null,
   "metadata": {},
   "outputs": [],
   "source": [
    "N = 64\n",
    "evolution = PermutationEvolutive(\n",
    "    alphabet=np.arange(N),\n",
    "    n_individuals=100,\n",
    "    mutation=[\"to-opt\", \"insert-gene\", \"swap-gene\"],\n",
    "    crossover=\"half-fixed\",\n",
    "    T_selection=10,\n",
    "    p_crossover=0.7,\n",
    "    average_mutation_rate=1.5,\n",
    "    elitism=True,\n",
    "    maximize=False\n",
    ")\n",
    "\n",
    "results = evolution.evolve(\n",
    "    fit=nq.fit_queen,\n",
    "    n_generations=1500,\n",
    "    obtain_metrics=True,\n",
    "    target=0.,\n",
    "    trace=100 \n",
    ")\n",
    "\n",
    "print(\"\\nEvolution Metrics:\")\n",
    "evolution.plot_evolution_metrics(results[\"evolution_metrics\"])\n",
    "\n",
    "print(\"Best Solution:\")\n",
    "nq.visualize_queens_board(results[\"best\"])"
   ]
  },
  {
   "cell_type": "code",
   "execution_count": null,
   "metadata": {},
   "outputs": [],
   "source": [
    "N = 128\n",
    "evolution = PermutationEvolutive(\n",
    "    alphabet=np.arange(N),\n",
    "    n_individuals=100,\n",
    "    mutation=[\"to-opt\", \"insert-gene\", \"swap-gene\"],\n",
    "    crossover=\"half-fixed\",\n",
    "    T_selection=10,\n",
    "    p_crossover=0.7,\n",
    "    average_mutation_rate=1.5,\n",
    "    elitism=True,\n",
    "    maximize=False\n",
    ")\n",
    "\n",
    "results = evolution.evolve(\n",
    "    fit=nq.fit_queen,\n",
    "    n_generations=2000,\n",
    "    obtain_metrics=True,\n",
    "    target=0.,\n",
    "    trace=200 \n",
    ")\n",
    "\n",
    "print(\"\\nEvolution Metrics:\")\n",
    "evolution.plot_evolution_metrics(results[\"evolution_metrics\"])\n",
    "\n",
    "print(\"Best Solution:\")\n",
    "nq.visualize_queens_board(results[\"best\"], figsize=(30, 8))"
   ]
  },
  {
   "cell_type": "markdown",
   "metadata": {},
   "source": [
    "## Knapsack Problem"
   ]
  },
  {
   "cell_type": "markdown",
   "metadata": {},
   "source": [
    "Vamos a usar varias formas para afrontar el problema."
   ]
  },
  {
   "cell_type": "code",
   "execution_count": 67,
   "metadata": {},
   "outputs": [],
   "source": [
    "import numpy as np\n",
    "from src.gen_evolutive import AlphabetEvolutive\n",
    "import examples.backpack as bp"
   ]
  },
  {
   "cell_type": "markdown",
   "metadata": {},
   "source": [
    "### 0/1 Knapsack problem\n",
    "\n",
    "Determinamos si el objeto está en la mochila con un 0 o 1. Como parámetros, usamos solo la mutación `swap-gene` y el crossover `uniform`. Ponemos elitismo, una mutación de 1. y una selección de 4."
   ]
  },
  {
   "cell_type": "code",
   "execution_count": null,
   "metadata": {},
   "outputs": [],
   "source": [
    "W = 100  # Knapsack capacity\n",
    "\n",
    "# Items for 0/1 Knapsack (value, weight)\n",
    "items_01 = [\n",
    "    (60, 10), (100, 20), (120, 30), (80, 15), (90, 25),\n",
    "    (150, 40), (70, 12), (110, 28), (130, 35), (50, 8)\n",
    "]\n",
    "\n",
    "print(\"0/1 Knapsack Problem\")\n",
    "evolutive_01 = AlphabetEvolutive(\n",
    "    n_individuals=100,\n",
    "    alphabet=(0, 1),\n",
    "    cromolength=len(items_01),\n",
    "    mutation=\"swap-gene\",\n",
    "    crossover=\"uniform\",\n",
    "    average_mutation_rate=1.0,\n",
    "    T_selection=4,\n",
    "    elitism=True,\n",
    "    maximize=False\n",
    ")\n",
    "\n",
    "results_01 = evolutive_01.evolve(\n",
    "    fit=lambda x: bp.fit_01_knapsack(x, items_01, W),\n",
    "    n_generations=1000,\n",
    "    obtain_metrics=True,\n",
    "    trace=100\n",
    ")\n",
    "\n",
    "print(\"\\nBest solution for 0/1 Knapsack:\")\n",
    "bp.print_knapsack_solution(results_01['best'], items_01)\n",
    "print(\"\\nEvolution Metrics:\")\n",
    "evolutive_01.plot_evolution_metrics(results_01[\"evolution_metrics\"])"
   ]
  },
  {
   "cell_type": "markdown",
   "metadata": {},
   "source": [
    "### Unbounded Knapsack Problem (UKP)"
   ]
  },
  {
   "cell_type": "markdown",
   "metadata": {},
   "source": [
    "En está, se pueden repetir los elementos de la mochila. Modificamos las mutaciones a usar las de `random-gene` y `random-local`."
   ]
  },
  {
   "cell_type": "code",
   "execution_count": null,
   "metadata": {},
   "outputs": [],
   "source": [
    "W = 100  # Knapsack capacity\n",
    "\n",
    "# Items for Unbounded Knapsack (value, weight)\n",
    "items_unbounded = [\n",
    "    (60, 10), (100, 20), (120, 30), (80, 15), (90, 25),\n",
    "    (150, 40), (70, 12), (110, 28), (130, 35), (50, 8)\n",
    "]\n",
    "\n",
    "print(\"Unbounded Knapsack Problem\")\n",
    "max_item_count = W // min(weight for _, weight in items_unbounded)\n",
    "evolutive_unbounded = AlphabetEvolutive(\n",
    "    n_individuals=1000,\n",
    "    alphabet=tuple(range(max_item_count + 1)),\n",
    "    cromolength=len(items_unbounded),\n",
    "    mutation=[\"random-gene\", \"random-local\"],\n",
    "    crossover=\"uniform\",\n",
    "    average_mutation_rate=1.0,\n",
    "    T_selection=4,\n",
    "    elitism=True,\n",
    "    maximize=False\n",
    ")\n",
    "\n",
    "results_unbounded = evolutive_unbounded.evolve(\n",
    "    fit=lambda x: bp.fit_unbounded_knapsack(x, items_unbounded, W),\n",
    "    n_generations=1000,\n",
    "    obtain_metrics=True,\n",
    "    trace=100\n",
    ")\n",
    "\n",
    "print(\"\\nBest solution for Unbounded Knapsack:\")\n",
    "bp.print_knapsack_solution(results_unbounded['best'], items_unbounded)\n",
    "print(\"\\nEvolution Metrics:\")\n",
    "evolutive_unbounded.plot_evolution_metrics(results_unbounded[\"evolution_metrics\"])"
   ]
  },
  {
   "cell_type": "markdown",
   "metadata": {},
   "source": [
    "### Bounded Knapsack Problem (BKP)"
   ]
  },
  {
   "cell_type": "markdown",
   "metadata": {},
   "source": [
    "Y por último, añadimos limitaciones a las cantidades de objetos que podamos introducir en la mochila. Usamos los mismos parámetros que la anterior."
   ]
  },
  {
   "cell_type": "code",
   "execution_count": null,
   "metadata": {},
   "outputs": [],
   "source": [
    "W = 100  # Knapsack capacity\n",
    "\n",
    "# Items for Bounded Knapsack (value, weight, max_count)\n",
    "items_bounded = [\n",
    "    (60, 10, 2), (100, 20, 3), (120, 30, 1), (80, 15, 4), (90, 25, 2),\n",
    "    (150, 40, 1), (70, 12, 3), (110, 28, 2), (130, 35, 1), (50, 8, 5)\n",
    "]\n",
    "\n",
    "print(\"Bounded Knapsack Problem\")\n",
    "max_counts = [item[2] for item in items_bounded]\n",
    "evolutive_bounded = AlphabetEvolutive(\n",
    "    n_individuals=100,\n",
    "    alphabet=tuple(range(max(max_counts) + 1)),\n",
    "    cromolength=len(items_bounded),\n",
    "    mutation=[\"random-gene\", \"random-local\"],\n",
    "    crossover=\"uniform\",\n",
    "    average_mutation_rate=1.0,\n",
    "    T_selection=4,\n",
    "    elitism=True,\n",
    "    maximize=False\n",
    ")\n",
    "\n",
    "results_bounded = evolutive_bounded.evolve(\n",
    "    fit=lambda x: bp.fit_bounded_knapsack(x, items_bounded, W),\n",
    "    n_generations=1000,\n",
    "    obtain_metrics=True,\n",
    "    trace=100\n",
    ")\n",
    "\n",
    "print(\"\\nBest solution for Bounded Knapsack:\")\n",
    "bp.print_knapsack_solution(results_bounded['best'], items_bounded)\n",
    "print(\"\\nEvolution Metrics:\")\n",
    "evolutive_bounded.plot_evolution_metrics(results_bounded[\"evolution_metrics\"])"
   ]
  }
 ],
 "metadata": {
  "kernelspec": {
   "display_name": "machine-learning",
   "language": "python",
   "name": "python3"
  },
  "language_info": {
   "codemirror_mode": {
    "name": "ipython",
    "version": 3
   },
   "file_extension": ".py",
   "mimetype": "text/x-python",
   "name": "python",
   "nbconvert_exporter": "python",
   "pygments_lexer": "ipython3",
   "version": "3.9.1"
  }
 },
 "nbformat": 4,
 "nbformat_minor": 2
}
