{
 "cells": [
  {
   "cell_type": "code",
   "execution_count": 4,
   "metadata": {},
   "outputs": [],
   "source": [
    "import numpy as np\n",
    "import random\n",
    "from pymoo.core.problem import Problem\n",
    "from pymoo.problems import get_problem\n",
    "from pymoo.util.plotting import plot\n",
    "from pymoo.util.ref_dirs import get_reference_directions\n",
    "from pymoo.visualization.scatter import Scatter\n",
    "\n",
    "from pymoo.algorithms.moo.nsga2 import NSGA2\n",
    "from pymoo.optimize import minimize\n"
   ]
  },
  {
   "cell_type": "code",
   "execution_count": null,
   "metadata": {},
   "outputs": [],
   "source": [
    "from src.multi_evolutive import RealMultiEvolutive\n",
    "from pymoo.problems import get_problem\n",
    "from pymoo.util.plotting import plot\n",
    "import matplotlib.pyplot as plt\n",
    "import numpy as np\n",
    "from src.evaluation import MultiObjectiveEvaluation\n",
    "problem = get_problem(\"zdt1\")\n",
    "evaluation = MultiObjectiveEvaluation(\n",
    "    evaluate=problem.evaluate,\n",
    "    problem=problem,\n",
    "    reference_point=(1., 1.),\n",
    "    # limits=[[0, 1], [0, 1]]\n",
    ")\n",
    "evolutive = RealMultiEvolutive(\n",
    "    n_individuals=50,\n",
    "    value_range=[0, 1],\n",
    "    maximize=[False, False],\n",
    "    cromolength=30,\n",
    "    mutation=[\"random-range\", \"random-local\"],\n",
    "    crossover=[\"blx\", \"uniform\", \"blx-alpha\"],\n",
    "    front='front',\n",
    "    penalization='crowding_norm',\n",
    "    selection_pool_size=0.9,\n",
    "    average_mutation_rate=1.25,\n",
    "    mutation_eps=0.5,\n",
    "    elitism=True,\n",
    "    alpha=0.2,\n",
    "    T_selection=6,\n",
    "    evaluation_metrics=evaluation\n",
    ")\n",
    "\n",
    "results = evolutive.evolve(fit=problem.evaluate, n_generations=200, trace=50, obtain_metrics=True)\n",
    "evolutive.plot_evolution_metrics(results[\"evolution_metrics\"])\n",
    "plt.show()\n",
    "\n",
    "fig, axs = plt.subplots(1, 1)\n",
    "axs.set_ylim(-0.25, 1.25)\n",
    "pareto = problem.pareto_front()\n",
    "axs.scatter(pareto[:, 0], pareto[:, 1], label='pareto')\n",
    "fit_scores = np.array([problem.evaluate(p) for p in results[\"best\"]])\n",
    "\n",
    "axs.scatter(fit_scores[:, 0], fit_scores[:, 1], label='obtained')\n",
    "plt.legend()\n",
    "# plot(problem.evaluate(results[\"best\"]))\n"
   ]
  },
  {
   "cell_type": "code",
   "execution_count": null,
   "metadata": {},
   "outputs": [],
   "source": [
    "scatter = Scatter()\n",
    "\n",
    "algorithm = NSGA2(pop_size=100)\n",
    "res = minimize(problem,\n",
    "               algorithm,\n",
    "               ('n_gen', 100),\n",
    "               verbose=False)\n",
    "scatter.add(problem.pareto_front(), label=\"Pareto optimo\")\n",
    "scatter.add(res.F, label=\"NSGA2_100gen\")\n",
    "scatter.legend=True\n",
    "scatter.show()"
   ]
  },
  {
   "cell_type": "code",
   "execution_count": null,
   "metadata": {},
   "outputs": [],
   "source": [
    "fig, axs = plt.subplots(1, 1)\n",
    "pareto = problem.pareto_front()\n",
    "axs.scatter(pareto[:, 0], pareto[:, 1], label='pareto')\n",
    "fit_scores = np.array([problem.evaluate(p) for p in results[\"best\"]])\n",
    "\n",
    "axs.scatter(fit_scores[:, 0], fit_scores[:, 1], label='obtained')\n",
    "plt.legend()"
   ]
  },
  {
   "cell_type": "code",
   "execution_count": null,
   "metadata": {},
   "outputs": [],
   "source": [
    "problem = get_problem(\"zdt3\")\n",
    "evolutive = RealMultiEvolutive(\n",
    "    n_individuals=50,\n",
    "    value_range=[0, 1],\n",
    "    maximize=[False, False],\n",
    "    cromolength=30,\n",
    "    mutation=[\"random-range\", \"random-local\"],\n",
    "    crossover=[\"blx\", \"uniform\", \"blx-alpha\"],\n",
    "    front='front',\n",
    "    penalization='crowding_norm',\n",
    "    selection_pool_size=0.8,\n",
    "    average_mutation_rate=1.5,\n",
    "    mutation_eps=0.5,\n",
    "    elitism=True,\n",
    "    alpha=0.6,\n",
    "    T_selection=10\n",
    ")\n",
    "\n",
    "results = evolutive.evolve(fit=problem.evaluate, n_generations=200, trace=50, obtain_metrics=True)\n",
    "evolutive.plot_evolution_metrics(results[\"evolution_metrics\"])\n",
    "plt.show()\n",
    "\n",
    "fig, axs = plt.subplots(1, 1)\n",
    "# axs.set_ylim(-1.5, 1.5)\n",
    "pareto = problem.pareto_front()\n",
    "axs.scatter(pareto[:, 0], pareto[:, 1], label='pareto')\n",
    "fit_scores = np.array([problem.evaluate(p) for p in results[\"best\"]])\n",
    "\n",
    "axs.scatter(fit_scores[:, 0], fit_scores[:, 1], label='obtained')\n",
    "plt.legend()"
   ]
  },
  {
   "cell_type": "code",
   "execution_count": null,
   "metadata": {},
   "outputs": [],
   "source": [
    "scatter = Scatter()\n",
    "\n",
    "algorithm = NSGA2(pop_size=100)\n",
    "res = minimize(problem,\n",
    "               algorithm,\n",
    "               ('n_gen', 100),\n",
    "               verbose=False)\n",
    "scatter.add(problem.pareto_front(), label=\"Pareto optimo\")\n",
    "scatter.add(res.F, label=\"NSGA2_100gen\")\n",
    "scatter.legend=True\n",
    "scatter.show()"
   ]
  },
  {
   "cell_type": "code",
   "execution_count": null,
   "metadata": {},
   "outputs": [],
   "source": [
    "problem = get_problem(\"mw7\")\n",
    "evolutive = RealMultiEvolutive(\n",
    "    n_individuals=100,\n",
    "    value_range=[0, 1],\n",
    "    maximize=[False, False],\n",
    "    cromolength=30,\n",
    "    mutation=[\"random-range\", \"random-local\"],\n",
    "    crossover=[\"blx\", \"uniform\", \"blx-alpha\"],\n",
    "    front_type='range',\n",
    "    niche_type='sharing',\n",
    "    selection_pool_size=0.6,\n",
    "    average_mutation_rate=1.,\n",
    "    mutation_eps=0.05,\n",
    "    elitism=True,\n",
    "    alpha=0.1,\n",
    "    T_selection=4\n",
    ")\n",
    "results = evolutive.evolve(fit=problem.evaluate, n_generations=300, trace=100, obtain_metrics=True)\n",
    "evolutive.plot_evolution_metrics(results[\"evolution_metrics\"])\n",
    "plt.show()\n",
    "\n",
    "fig, axs = plt.subplots(1, 1)\n",
    "# axs.set_ylim(-0.25, 1.25)\n",
    "pareto = problem.pareto_front()\n",
    "axs.scatter(pareto[:, 0], pareto[:, 1], label='pareto')\n",
    "fit_scores = np.array([problem.evaluate(p) for p in results[\"best\"]])\n",
    "\n",
    "axs.scatter(fit_scores[:, 0], fit_scores[:, 1], label='obtained')\n",
    "plt.legend()"
   ]
  },
  {
   "cell_type": "code",
   "execution_count": null,
   "metadata": {},
   "outputs": [],
   "source": [
    "ref_dirs = get_reference_directions(\"das-dennis\", 3, n_partitions=12)\n",
    "problem = get_problem(\"mw14\").pareto_front()\n",
    "Scatter(angle=(45,45)).add(problem, color=\"red\").show()"
   ]
  },
  {
   "cell_type": "code",
   "execution_count": 5,
   "metadata": {},
   "outputs": [],
   "source": [
    "class TSPProblem(Problem):\n",
    "    def __init__(self, n_cities, seed=50):\n",
    "        # Define the number of variables (cities) and objectives (time and distance)\n",
    "        super().__init__(n_var=n_cities, n_obj=2, n_constr=0, xl=0, xu=1)\n",
    "        \n",
    "        # Initialize the random seed for reproducibility\n",
    "        if seed is not None:\n",
    "            np.random.seed(seed)\n",
    "        \n",
    "        # Generate random distances and times between cities\n",
    "        self.distances = np.random.uniform(0, 100, size=(n_cities, n_cities))\n",
    "        self.distances = (self.distances + self.distances.T) / 2\n",
    "        self.times = np.random.uniform(0, 300, size=(n_cities, n_cities))\n",
    "        random.seed(None)\n",
    "        \n",
    "        # Ensure the diagonal is zero (distance/time from a city to itself is zero)\n",
    "        np.fill_diagonal(self.distances, 0)\n",
    "        np.fill_diagonal(self.times, 0)\n",
    "\n",
    "    def _evaluate(self, x, out, *args, **kwargs):\n",
    "        # Calculate the total distance and time for each solution in x\n",
    "        distances = []\n",
    "        times = []\n",
    "        \n",
    "        for route in x:\n",
    "            perm = np.argsort(route)\n",
    "            total_distance = 0\n",
    "            total_time = 0\n",
    "            \n",
    "            for i in range(len(perm) - 1):\n",
    "                total_distance += self.distances[perm[i], perm[i+1]]\n",
    "                total_time += self.times[perm[i], perm[i+1]]\n",
    "            \n",
    "            # Add distance and time from last city back to the first city\n",
    "            total_distance += self.distances[perm[-1], perm[0]]\n",
    "            total_time += self.times[perm[-1], perm[0]]\n",
    "            \n",
    "            distances.append(total_distance)\n",
    "            times.append(total_time)\n",
    "        \n",
    "        out[\"F\"] = np.column_stack([distances, times])"
   ]
  },
  {
   "cell_type": "markdown",
   "metadata": {},
   "source": [
    "Comprobación del funcionamiento del algoritmo NSGA2 para las funciones continuas"
   ]
  },
  {
   "cell_type": "code",
   "execution_count": null,
   "metadata": {},
   "outputs": [],
   "source": [
    "problem = get_problem(\"mw14\", n_var = 30)\n",
    "print(problem.n_var)\n",
    "print(problem.n_obj)\n",
    "print(problem.xl)\n",
    "print(problem.xu)\n"
   ]
  },
  {
   "cell_type": "code",
   "execution_count": 11,
   "metadata": {},
   "outputs": [],
   "source": [
    "algorithm = NSGA2(pop_size=100)\n",
    "res = minimize(problem,\n",
    "               algorithm,\n",
    "               ('n_gen', 100),\n",
    "               verbose=False)"
   ]
  },
  {
   "cell_type": "code",
   "execution_count": null,
   "metadata": {},
   "outputs": [],
   "source": [
    "scatter = Scatter()\n",
    "scatter.add(problem.pareto_front(), label=\"Pareto optimo\")\n",
    "scatter.add(res.F, label=\"NSGA2_100gen\")\n",
    "scatter.legend=True\n",
    "scatter.show()"
   ]
  },
  {
   "cell_type": "markdown",
   "metadata": {},
   "source": [
    "Comprobación del funcionamiento del algoritmo NSGA2 para el TSPMO"
   ]
  },
  {
   "cell_type": "code",
   "execution_count": null,
   "metadata": {},
   "outputs": [],
   "source": [
    "problem = TSPProblem(100)\n",
    "print(np.shape(problem.distances))\n",
    "print(np.shape(problem.times))"
   ]
  },
  {
   "cell_type": "code",
   "execution_count": 9,
   "metadata": {},
   "outputs": [],
   "source": [
    "algorithm = NSGA2(pop_size=100)\n",
    "res = minimize(problem,\n",
    "               algorithm,\n",
    "               ('n_gen', 10),\n",
    "               verbose=False)\n",
    "res2 = minimize(problem,\n",
    "               algorithm,\n",
    "               ('n_gen', 1000),\n",
    "               verbose=False)"
   ]
  },
  {
   "cell_type": "code",
   "execution_count": null,
   "metadata": {},
   "outputs": [],
   "source": [
    "scatter = Scatter()\n",
    "scatter.add(res.F, label=\"NSGA2_10\")\n",
    "scatter.add(res2.F, label=\"NSGA2_1000\")\n",
    "scatter.legend=True\n",
    "scatter.show()\n"
   ]
  },
  {
   "cell_type": "code",
   "execution_count": null,
   "metadata": {},
   "outputs": [],
   "source": [
    "from src.multi_evolutive import PermutationMultiEvolutive\n",
    "import matplotlib.pyplot as plt\n",
    "\n",
    "evolutive = PermutationMultiEvolutive(\n",
    "    alphabet=range(100),\n",
    "    n_individuals=50,\n",
    "    mutation=[\"to-opt\", \"insert-gene\", \"swap-gene\"],\n",
    "    crossover= [\"uniform\", \"split-merge\"],\n",
    "    front='front',\n",
    "    penalization='crowding_norm',\n",
    "    selection_pool=['best', 'section'],\n",
    "\tT_selection=20,\n",
    "\tp_crossover=0.7,\n",
    "\taverage_mutation_rate=1.25,\n",
    "    maximize=[False, False],\n",
    "    selection_pool_size=1.5,\n",
    "\telitism=True\n",
    ")\n",
    "results = evolutive.evolve(fit=problem.evaluate, n_generations=2000, trace=400, obtain_metrics=True)\n",
    "fig, axs = plt.subplots(1, 1)\n",
    "axs.scatter(res2.F[:, 0], res2.F[:, 1], label='nsga2')\n",
    "fit_scores = np.array([problem.evaluate(p) for p in results[\"best\"]])\n",
    "\n",
    "axs.scatter(fit_scores[:, 0], fit_scores[:, 1], label='obtained')\n",
    "plt.legend()"
   ]
  },
  {
   "cell_type": "code",
   "execution_count": null,
   "metadata": {},
   "outputs": [],
   "source": [
    "from src.multi_evolutive import RealMultiEvolutive\n",
    "import matplotlib.pyplot as plt\n",
    "import numpy as np\n",
    "\n",
    "evolutive = RealMultiEvolutive(\n",
    "    n_individuals=50,\n",
    "    value_range=[0, 1],\n",
    "    maximize=[False, False],\n",
    "    cromolength=100,\n",
    "    mutation=[\"random-range\", \"random-local\"],\n",
    "    crossover=[\"blx\", \"uniform\", \"blx-alpha\", \"split-merge\"],\n",
    "    front='front',\n",
    "    penalization='crowding_norm',\n",
    "    selection_pool=[('best', 1), ('section', 2)], # , ('best', 4)],\n",
    "    selection_pool_size=1.,\n",
    "    average_mutation_rate=1.,\n",
    "    mutation_eps=.5,\n",
    "    elitism=True,\n",
    "    alpha=0.6,\n",
    "    T_selection=10\n",
    ")\n",
    "results = evolutive.evolve(fit=problem.evaluate, n_generations=2000, trace=500, obtain_metrics=True)\n",
    "fig, axs = plt.subplots(1, 1)\n",
    "axs.scatter(res2.F[:, 0], res2.F[:, 1], label='nsga2')\n",
    "fit_scores = np.array([problem.evaluate(p) for p in results[\"best\"]])\n",
    "\n",
    "axs.scatter(fit_scores[:, 0], fit_scores[:, 1], label='obtained')\n",
    "plt.legend()"
   ]
  },
  {
   "cell_type": "code",
   "execution_count": null,
   "metadata": {},
   "outputs": [],
   "source": [
    "import numpy as np\n",
    "import matplotlib.pyplot as plt\n",
    "from src.utils import cluster_points\n",
    "# Parameters\n",
    "num_point_clouds = 10\n",
    "base_num_points = 1000  # Base number of points per cloud\n",
    "variation = 100         # Allowable variation in the number of points\n",
    "\n",
    "# Generate random point clouds\n",
    "point_clouds = [\n",
    "    np.random.rand(np.random.randint(base_num_points - variation, base_num_points + variation), 2)\n",
    "    for _ in range(num_point_clouds)\n",
    "]\n",
    "res_lens = [len(res) for res in point_clouds]\n",
    "k_cluster_points = min(res_lens)\n",
    "mean_points = sum(res_lens) / len(point_clouds)\n",
    "print(k_cluster_points, len(point_clouds[0][0]))\n",
    "mean_point_front = np.zeros((k_cluster_points, len(point_clouds[0][0])))\n",
    "plt.subplots(1, 1)\n",
    "for idx, pc in enumerate(point_clouds):\n",
    "    plt.scatter(pc[:, 0], pc[:, 1], label=idx)\n",
    "    mean_point_front += cluster_points(pc, k_cluster_points)\n",
    "mean_point_front /= len(point_clouds)\n",
    "plt.scatter(mean_point_front[:, 0], mean_point_front[:, 1], label='mean')\n",
    "plt.legend()\n",
    "plt.show()"
   ]
  },
  {
   "cell_type": "code",
   "execution_count": 5,
   "metadata": {},
   "outputs": [
    {
     "name": "stdout",
     "output_type": "stream",
     "text": [
      "Number of Evaluations: 264\n",
      "Current results: 1\n"
     ]
    }
   ],
   "source": [
    "from examples.tsp_multi import TSPProblem\n",
    "from src.multi_evolutive import RealMultiEvolutive\n",
    "from src.evaluation import GridSearch, MultiObjectiveEvaluation\n",
    "\n",
    "problem = TSPProblem(100)\n",
    "evolution_metric = MultiObjectiveEvaluation(\n",
    "    evaluate=problem.evaluate,\n",
    "    reference_point=(15000, 6000),\n",
    ")\n",
    "static_evolution_kwargs ={\n",
    "    \"value_range\": [0, 1],\n",
    "    \"maximize\": [False, False],\n",
    "    \"cromolength\": 100,\n",
    "    \"front\": 'front',\n",
    "    \"penalization\": 'crowding_norm',\n",
    "    \"selection_pool_size\": 1.,\n",
    "    \"elitism\":True,\n",
    "    \"T_selection\": 8\n",
    "}\n",
    "evolution_kwargs = {\n",
    "    \"mutation\": [\"random-range\", \"random-local\"],\n",
    "    \"crossover\": [\"blx\", \"uniform\", \"blx-alpha\", \"split-merge\"],\n",
    "    \"selection_pool\": [(('best', 1), ('section', 2)), ('best', 'roulette'), (('roulette', 1), ('section', 2))],\n",
    "    \"average_mutation_rate\": [1., 1.25],\n",
    "    \"mutation_eps\": [0.5, 0.75],\n",
    "    \"alpha\": [0.4, 0.6],\n",
    "}\n",
    "\n",
    "grid = GridSearch(\n",
    "    save_file_name='./evaluations/tsp_multi',\n",
    "    result_names='tspm',\n",
    "    fit=problem.evaluate,\n",
    "    n_individuals=50,\n",
    "    n_generations=2000,\n",
    "    n_iterations=10,\n",
    "    Evolution=RealMultiEvolutive,\n",
    "    static_evolution_kwargs=static_evolution_kwargs,\n",
    "    evolution_kwargs=evolution_kwargs,\n",
    "    evolution_metric=evolution_metric,\n",
    "    exclude_combinations_list=(1,)\n",
    ")"
   ]
  },
  {
   "cell_type": "code",
   "execution_count": 7,
   "metadata": {},
   "outputs": [
    {
     "name": "stdout",
     "output_type": "stream",
     "text": [
      "Evaluation 145: {'mutation': ['random-range', 'random-local'], 'crossover': ('blx', 'uniform', 'blx-alpha'), 'selection_pool': (('best', 1), ('section', 2)), 'average_mutation_rate': 1.0, 'mutation_eps': 0.5, 'alpha': 0.6, 'value_range': [0, 1], 'maximize': [False, False], 'cromolength': 100, 'front': 'front', 'penalization': 'crowding_norm', 'selection_pool_size': 1.0, 'elitism': True, 'T_selection': 8}\n"
     ]
    },
    {
     "ename": "KeyboardInterrupt",
     "evalue": "",
     "output_type": "error",
     "traceback": [
      "\u001b[0;31m---------------------------------------------------------------------------\u001b[0m",
      "\u001b[0;31mKeyboardInterrupt\u001b[0m                         Traceback (most recent call last)",
      "Cell \u001b[0;32mIn[7], line 1\u001b[0m\n\u001b[0;32m----> 1\u001b[0m \u001b[43mgrid\u001b[49m\u001b[38;5;241;43m.\u001b[39;49m\u001b[43msearch\u001b[49m\u001b[43m(\u001b[49m\u001b[43m)\u001b[49m\n",
      "File \u001b[0;32m~/dev/bioinspired-evo/src/evaluation/grid_search.py:90\u001b[0m, in \u001b[0;36mGridSearch.search\u001b[0;34m(self)\u001b[0m\n\u001b[1;32m     88\u001b[0m \u001b[38;5;28;01mfor\u001b[39;00m k \u001b[38;5;129;01min\u001b[39;00m \u001b[38;5;28mrange\u001b[39m(actual_res, \u001b[38;5;28mlen\u001b[39m(\u001b[38;5;28mself\u001b[39m\u001b[38;5;241m.\u001b[39mevaluations)):\n\u001b[1;32m     89\u001b[0m     \u001b[38;5;28mprint\u001b[39m(\u001b[38;5;124mf\u001b[39m\u001b[38;5;124m\"\u001b[39m\u001b[38;5;124mEvaluation \u001b[39m\u001b[38;5;132;01m{\u001b[39;00mk\u001b[38;5;132;01m}\u001b[39;00m\u001b[38;5;124m: \u001b[39m\u001b[38;5;132;01m{\u001b[39;00m\u001b[38;5;28mself\u001b[39m\u001b[38;5;241m.\u001b[39mevaluations[k]\u001b[38;5;132;01m}\u001b[39;00m\u001b[38;5;124m\"\u001b[39m)\n\u001b[0;32m---> 90\u001b[0m     metrics \u001b[38;5;241m=\u001b[39m \u001b[38;5;28;43mself\u001b[39;49m\u001b[38;5;241;43m.\u001b[39;49m\u001b[43mevolve\u001b[49m\u001b[43m(\u001b[49m\u001b[38;5;28;43mself\u001b[39;49m\u001b[38;5;241;43m.\u001b[39;49m\u001b[43mevaluations\u001b[49m\u001b[43m[\u001b[49m\u001b[43mk\u001b[49m\u001b[43m]\u001b[49m\u001b[43m)\u001b[49m\n\u001b[1;32m     91\u001b[0m     metrics[\u001b[38;5;124m\"\u001b[39m\u001b[38;5;124mid\u001b[39m\u001b[38;5;124m\"\u001b[39m] \u001b[38;5;241m=\u001b[39m \u001b[38;5;124mf\u001b[39m\u001b[38;5;124m'\u001b[39m\u001b[38;5;132;01m{\u001b[39;00m\u001b[38;5;28mself\u001b[39m\u001b[38;5;241m.\u001b[39mresult_names\u001b[38;5;132;01m}\u001b[39;00m\u001b[38;5;124m-\u001b[39m\u001b[38;5;132;01m{\u001b[39;00mk\u001b[38;5;132;01m}\u001b[39;00m\u001b[38;5;124m'\u001b[39m\n\u001b[1;32m     92\u001b[0m     \u001b[38;5;28mself\u001b[39m\u001b[38;5;241m.\u001b[39mresults\u001b[38;5;241m.\u001b[39mappend(metrics)\n",
      "File \u001b[0;32m~/dev/bioinspired-evo/src/evaluation/grid_search.py:79\u001b[0m, in \u001b[0;36mGridSearch.evolve\u001b[0;34m(self, evolution_kwargs)\u001b[0m\n\u001b[1;32m     77\u001b[0m \u001b[38;5;28;01mfor\u001b[39;00m _ \u001b[38;5;129;01min\u001b[39;00m \u001b[38;5;28mrange\u001b[39m(\u001b[38;5;28mself\u001b[39m\u001b[38;5;241m.\u001b[39mn_iterations):\n\u001b[1;32m     78\u001b[0m     start \u001b[38;5;241m=\u001b[39m time\u001b[38;5;241m.\u001b[39mperf_counter()\n\u001b[0;32m---> 79\u001b[0m     results\u001b[38;5;241m.\u001b[39mappend(\u001b[43mevol\u001b[49m\u001b[38;5;241;43m.\u001b[39;49m\u001b[43mevolve\u001b[49m\u001b[43m(\u001b[49m\u001b[43mfit\u001b[49m\u001b[38;5;241;43m=\u001b[39;49m\u001b[38;5;28;43mself\u001b[39;49m\u001b[38;5;241;43m.\u001b[39;49m\u001b[43mfit\u001b[49m\u001b[43m,\u001b[49m\u001b[43m \u001b[49m\u001b[43mn_generations\u001b[49m\u001b[38;5;241;43m=\u001b[39;49m\u001b[38;5;28;43mself\u001b[39;49m\u001b[38;5;241;43m.\u001b[39;49m\u001b[43mn_generations\u001b[49m\u001b[43m)\u001b[49m)\n\u001b[1;32m     80\u001b[0m     timings \u001b[38;5;241m+\u001b[39m\u001b[38;5;241m=\u001b[39m time\u001b[38;5;241m.\u001b[39mperf_counter() \u001b[38;5;241m-\u001b[39m start\n\u001b[1;32m     81\u001b[0m res_metrics \u001b[38;5;241m=\u001b[39m \u001b[38;5;28mself\u001b[39m\u001b[38;5;241m.\u001b[39mevolution_metric([res[\u001b[38;5;124m\"\u001b[39m\u001b[38;5;124mbest\u001b[39m\u001b[38;5;124m\"\u001b[39m] \u001b[38;5;28;01mfor\u001b[39;00m res \u001b[38;5;129;01min\u001b[39;00m results])\n",
      "File \u001b[0;32m~/dev/bioinspired-evo/src/multi_evolutive/evolutive.py:140\u001b[0m, in \u001b[0;36mMultiEvolutive.evolve\u001b[0;34m(self, fit, n_generations, trace, obtain_metrics, seed_population)\u001b[0m\n\u001b[1;32m    137\u001b[0m p_elite \u001b[38;5;241m=\u001b[39m []\n\u001b[1;32m    138\u001b[0m \u001b[38;5;28;01mfor\u001b[39;00m generation \u001b[38;5;129;01min\u001b[39;00m \u001b[38;5;28mrange\u001b[39m(\u001b[38;5;241m1\u001b[39m, n_generations \u001b[38;5;241m+\u001b[39m \u001b[38;5;241m1\u001b[39m):\n\u001b[1;32m    139\u001b[0m     \u001b[38;5;66;03m# Obtain the elite population and the selected population for reproduction\u001b[39;00m\n\u001b[0;32m--> 140\u001b[0m     p_elite_new, fit_population \u001b[38;5;241m=\u001b[39m \u001b[38;5;28;43mself\u001b[39;49m\u001b[38;5;241;43m.\u001b[39;49m\u001b[43mfit_population\u001b[49m\u001b[43m(\u001b[49m\u001b[43mfit\u001b[49m\u001b[43m,\u001b[49m\u001b[43m \u001b[49m\u001b[43mpopulation\u001b[49m\u001b[43m,\u001b[49m\u001b[43m \u001b[49m\u001b[43mp_elite\u001b[49m\u001b[43m)\u001b[49m\n\u001b[1;32m    141\u001b[0m     \u001b[38;5;28;01mif\u001b[39;00m \u001b[38;5;28mlen\u001b[39m(p_elite) \u001b[38;5;241m!=\u001b[39m last_update[\u001b[38;5;241m1\u001b[39m]:\n\u001b[1;32m    142\u001b[0m         last_update \u001b[38;5;241m=\u001b[39m (generation, \u001b[38;5;28mlen\u001b[39m(p_elite))\n",
      "File \u001b[0;32m~/dev/bioinspired-evo/src/multi_evolutive/evolutive.py:100\u001b[0m, in \u001b[0;36mMultiEvolutive.fit_population\u001b[0;34m(self, fit, population, p_elite)\u001b[0m\n\u001b[1;32m     98\u001b[0m \u001b[38;5;28;01mdef\u001b[39;00m \u001b[38;5;21mfit_population\u001b[39m(\u001b[38;5;28mself\u001b[39m, fit: Callable, population: List[np\u001b[38;5;241m.\u001b[39mndarray], p_elite: List):\n\u001b[1;32m     99\u001b[0m     fit_pop \u001b[38;5;241m=\u001b[39m \u001b[38;5;28mself\u001b[39m\u001b[38;5;241m.\u001b[39mcalculate_fit(fit, population, p_elite)\n\u001b[0;32m--> 100\u001b[0m     p_selection \u001b[38;5;241m=\u001b[39m \u001b[38;5;28;43mnext\u001b[39;49m\u001b[43m(\u001b[49m\u001b[43mfit_pop\u001b[49m\u001b[43m,\u001b[49m\u001b[43m \u001b[49m\u001b[43m[\u001b[49m\u001b[43m]\u001b[49m\u001b[43m)\u001b[49m\n\u001b[1;32m    101\u001b[0m     p_elite \u001b[38;5;241m=\u001b[39m p_selection[:]\n\u001b[1;32m    102\u001b[0m     p_elite\u001b[38;5;241m.\u001b[39msort(key\u001b[38;5;241m=\u001b[39m\u001b[38;5;28;01mlambda\u001b[39;00m v: \u001b[38;5;28mtuple\u001b[39m(v[\u001b[38;5;241m1\u001b[39m]))\n",
      "File \u001b[0;32m~/dev/bioinspired-evo/src/multi_evolutive/evolutive.py:74\u001b[0m, in \u001b[0;36mMultiEvolutive.calculate_fit\u001b[0;34m(self, fit, population, p_elite)\u001b[0m\n\u001b[1;32m     72\u001b[0m \u001b[38;5;28;01mdef\u001b[39;00m \u001b[38;5;21mcalculate_fit\u001b[39m(\u001b[38;5;28mself\u001b[39m, fit: Tuple[Callable], population: List[np\u001b[38;5;241m.\u001b[39mndarray], p_elite: List):\n\u001b[1;32m     73\u001b[0m     \u001b[38;5;66;03m# Obtain fit\u001b[39;00m\n\u001b[0;32m---> 74\u001b[0m     fit_scores \u001b[38;5;241m=\u001b[39m np\u001b[38;5;241m.\u001b[39marray([fit(\u001b[38;5;28mself\u001b[39m\u001b[38;5;241m.\u001b[39mapply_phenotype(p)) \u001b[38;5;28;01mfor\u001b[39;00m p \u001b[38;5;129;01min\u001b[39;00m population]) \u001b[38;5;241m*\u001b[39m \u001b[38;5;28mself\u001b[39m\u001b[38;5;241m.\u001b[39mmaximize_correction\n\u001b[1;32m     75\u001b[0m     \u001b[38;5;28;01mif\u001b[39;00m \u001b[38;5;28mself\u001b[39m\u001b[38;5;241m.\u001b[39melitism \u001b[38;5;129;01mand\u001b[39;00m p_elite:\n\u001b[1;32m     76\u001b[0m         population\u001b[38;5;241m.\u001b[39mextend(p[\u001b[38;5;241m0\u001b[39m] \u001b[38;5;28;01mfor\u001b[39;00m p \u001b[38;5;129;01min\u001b[39;00m p_elite)\n",
      "File \u001b[0;32m~/dev/bioinspired-evo/src/multi_evolutive/evolutive.py:74\u001b[0m, in \u001b[0;36m<listcomp>\u001b[0;34m(.0)\u001b[0m\n\u001b[1;32m     72\u001b[0m \u001b[38;5;28;01mdef\u001b[39;00m \u001b[38;5;21mcalculate_fit\u001b[39m(\u001b[38;5;28mself\u001b[39m, fit: Tuple[Callable], population: List[np\u001b[38;5;241m.\u001b[39mndarray], p_elite: List):\n\u001b[1;32m     73\u001b[0m     \u001b[38;5;66;03m# Obtain fit\u001b[39;00m\n\u001b[0;32m---> 74\u001b[0m     fit_scores \u001b[38;5;241m=\u001b[39m np\u001b[38;5;241m.\u001b[39marray([\u001b[43mfit\u001b[49m\u001b[43m(\u001b[49m\u001b[38;5;28;43mself\u001b[39;49m\u001b[38;5;241;43m.\u001b[39;49m\u001b[43mapply_phenotype\u001b[49m\u001b[43m(\u001b[49m\u001b[43mp\u001b[49m\u001b[43m)\u001b[49m\u001b[43m)\u001b[49m \u001b[38;5;28;01mfor\u001b[39;00m p \u001b[38;5;129;01min\u001b[39;00m population]) \u001b[38;5;241m*\u001b[39m \u001b[38;5;28mself\u001b[39m\u001b[38;5;241m.\u001b[39mmaximize_correction\n\u001b[1;32m     75\u001b[0m     \u001b[38;5;28;01mif\u001b[39;00m \u001b[38;5;28mself\u001b[39m\u001b[38;5;241m.\u001b[39melitism \u001b[38;5;129;01mand\u001b[39;00m p_elite:\n\u001b[1;32m     76\u001b[0m         population\u001b[38;5;241m.\u001b[39mextend(p[\u001b[38;5;241m0\u001b[39m] \u001b[38;5;28;01mfor\u001b[39;00m p \u001b[38;5;129;01min\u001b[39;00m p_elite)\n",
      "File \u001b[0;32m~/.pyenv/versions/3.9.1/envs/machine-learning/lib/python3.9/site-packages/pymoo/core/problem.py:257\u001b[0m, in \u001b[0;36mProblem.evaluate\u001b[0;34m(self, X, return_values_of, return_as_dictionary, *args, **kwargs)\u001b[0m\n\u001b[1;32m    254\u001b[0m     only_single_value \u001b[38;5;241m=\u001b[39m \u001b[38;5;129;01mnot\u001b[39;00m (\u001b[38;5;28misinstance\u001b[39m(X, \u001b[38;5;28mlist\u001b[39m) \u001b[38;5;129;01mor\u001b[39;00m \u001b[38;5;28misinstance\u001b[39m(X, np\u001b[38;5;241m.\u001b[39mndarray))\n\u001b[1;32m    256\u001b[0m \u001b[38;5;66;03m# this is where the actual evaluation takes place\u001b[39;00m\n\u001b[0;32m--> 257\u001b[0m _out \u001b[38;5;241m=\u001b[39m \u001b[38;5;28;43mself\u001b[39;49m\u001b[38;5;241;43m.\u001b[39;49m\u001b[43mdo\u001b[49m\u001b[43m(\u001b[49m\u001b[43mX\u001b[49m\u001b[43m,\u001b[49m\u001b[43m \u001b[49m\u001b[43mreturn_values_of\u001b[49m\u001b[43m,\u001b[49m\u001b[43m \u001b[49m\u001b[38;5;241;43m*\u001b[39;49m\u001b[43margs\u001b[49m\u001b[43m,\u001b[49m\u001b[43m \u001b[49m\u001b[38;5;241;43m*\u001b[39;49m\u001b[38;5;241;43m*\u001b[39;49m\u001b[43mkwargs\u001b[49m\u001b[43m)\u001b[49m\n\u001b[1;32m    259\u001b[0m out \u001b[38;5;241m=\u001b[39m {}\n\u001b[1;32m    260\u001b[0m \u001b[38;5;28;01mfor\u001b[39;00m k, v \u001b[38;5;129;01min\u001b[39;00m _out\u001b[38;5;241m.\u001b[39mitems():\n\u001b[1;32m    261\u001b[0m \n\u001b[1;32m    262\u001b[0m     \u001b[38;5;66;03m# copy it to a numpy array (it might be one of jax at this point)\u001b[39;00m\n",
      "File \u001b[0;32m~/.pyenv/versions/3.9.1/envs/machine-learning/lib/python3.9/site-packages/pymoo/core/problem.py:299\u001b[0m, in \u001b[0;36mProblem.do\u001b[0;34m(self, X, return_values_of, *args, **kwargs)\u001b[0m\n\u001b[1;32m    297\u001b[0m     \u001b[38;5;28mself\u001b[39m\u001b[38;5;241m.\u001b[39m_evaluate_elementwise(X, out, \u001b[38;5;241m*\u001b[39margs, \u001b[38;5;241m*\u001b[39m\u001b[38;5;241m*\u001b[39mkwargs)\n\u001b[1;32m    298\u001b[0m \u001b[38;5;28;01melse\u001b[39;00m:\n\u001b[0;32m--> 299\u001b[0m     \u001b[38;5;28;43mself\u001b[39;49m\u001b[38;5;241;43m.\u001b[39;49m\u001b[43m_evaluate_vectorized\u001b[49m\u001b[43m(\u001b[49m\u001b[43mX\u001b[49m\u001b[43m,\u001b[49m\u001b[43m \u001b[49m\u001b[43mout\u001b[49m\u001b[43m,\u001b[49m\u001b[43m \u001b[49m\u001b[38;5;241;43m*\u001b[39;49m\u001b[43margs\u001b[49m\u001b[43m,\u001b[49m\u001b[43m \u001b[49m\u001b[38;5;241;43m*\u001b[39;49m\u001b[38;5;241;43m*\u001b[39;49m\u001b[43mkwargs\u001b[49m\u001b[43m)\u001b[49m\n\u001b[1;32m    301\u001b[0m \u001b[38;5;66;03m# finally format the output dictionary\u001b[39;00m\n\u001b[1;32m    302\u001b[0m out \u001b[38;5;241m=\u001b[39m \u001b[38;5;28mself\u001b[39m\u001b[38;5;241m.\u001b[39m_format_dict(out, \u001b[38;5;28mlen\u001b[39m(X), return_values_of)\n",
      "File \u001b[0;32m~/.pyenv/versions/3.9.1/envs/machine-learning/lib/python3.9/site-packages/pymoo/core/problem.py:307\u001b[0m, in \u001b[0;36mProblem._evaluate_vectorized\u001b[0;34m(self, X, out, *args, **kwargs)\u001b[0m\n\u001b[1;32m    306\u001b[0m \u001b[38;5;28;01mdef\u001b[39;00m \u001b[38;5;21m_evaluate_vectorized\u001b[39m(\u001b[38;5;28mself\u001b[39m, X, out, \u001b[38;5;241m*\u001b[39margs, \u001b[38;5;241m*\u001b[39m\u001b[38;5;241m*\u001b[39mkwargs):\n\u001b[0;32m--> 307\u001b[0m     \u001b[38;5;28;43mself\u001b[39;49m\u001b[38;5;241;43m.\u001b[39;49m\u001b[43m_evaluate\u001b[49m\u001b[43m(\u001b[49m\u001b[43mX\u001b[49m\u001b[43m,\u001b[49m\u001b[43m \u001b[49m\u001b[43mout\u001b[49m\u001b[43m,\u001b[49m\u001b[43m \u001b[49m\u001b[38;5;241;43m*\u001b[39;49m\u001b[43margs\u001b[49m\u001b[43m,\u001b[49m\u001b[43m \u001b[49m\u001b[38;5;241;43m*\u001b[39;49m\u001b[38;5;241;43m*\u001b[39;49m\u001b[43mkwargs\u001b[49m\u001b[43m)\u001b[49m\n",
      "File \u001b[0;32m~/dev/bioinspired-evo/examples/tsp_multi.py:35\u001b[0m, in \u001b[0;36mTSPProblem._evaluate\u001b[0;34m(self, x, out, *args, **kwargs)\u001b[0m\n\u001b[1;32m     32\u001b[0m total_time \u001b[38;5;241m=\u001b[39m \u001b[38;5;241m0\u001b[39m\n\u001b[1;32m     34\u001b[0m \u001b[38;5;28;01mfor\u001b[39;00m i \u001b[38;5;129;01min\u001b[39;00m \u001b[38;5;28mrange\u001b[39m(\u001b[38;5;28mlen\u001b[39m(perm) \u001b[38;5;241m-\u001b[39m \u001b[38;5;241m1\u001b[39m):\n\u001b[0;32m---> 35\u001b[0m     total_distance \u001b[38;5;241m+\u001b[39m\u001b[38;5;241m=\u001b[39m \u001b[38;5;28mself\u001b[39m\u001b[38;5;241m.\u001b[39mdistances[perm[i], \u001b[43mperm\u001b[49m\u001b[43m[\u001b[49m\u001b[43mi\u001b[49m\u001b[38;5;241;43m+\u001b[39;49m\u001b[38;5;241;43m1\u001b[39;49m\u001b[43m]\u001b[49m]\n\u001b[1;32m     36\u001b[0m     total_time \u001b[38;5;241m+\u001b[39m\u001b[38;5;241m=\u001b[39m \u001b[38;5;28mself\u001b[39m\u001b[38;5;241m.\u001b[39mtimes[perm[i], perm[i\u001b[38;5;241m+\u001b[39m\u001b[38;5;241m1\u001b[39m]]\n\u001b[1;32m     38\u001b[0m \u001b[38;5;66;03m# Add distance and time from last city back to the first city\u001b[39;00m\n",
      "\u001b[0;31mKeyboardInterrupt\u001b[0m: "
     ]
    }
   ],
   "source": [
    "grid.search()"
   ]
  }
 ],
 "metadata": {
  "kernelspec": {
   "display_name": "machine-learning",
   "language": "python",
   "name": "python3"
  },
  "language_info": {
   "codemirror_mode": {
    "name": "ipython",
    "version": 3
   },
   "file_extension": ".py",
   "mimetype": "text/x-python",
   "name": "python",
   "nbconvert_exporter": "python",
   "pygments_lexer": "ipython3",
   "version": "3.9.1"
  }
 },
 "nbformat": 4,
 "nbformat_minor": 2
}
