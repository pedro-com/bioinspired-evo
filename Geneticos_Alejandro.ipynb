{
 "cells": [
  {
   "cell_type": "markdown",
   "metadata": {},
   "source": [
    "# Algoritmos Genéticos\n",
    "\n",
    "**Alumnos**:\n",
    "* __Pedro Amaya Moreno__ (pedro.amaya@alumnos.upm.es)\n",
    "* __Alejandro Pardo Bascuñana__ (alejandro.pardo.bascunana@alumnos.upm.es)"
   ]
  },
  {
   "cell_type": "code",
   "execution_count": null,
   "metadata": {},
   "outputs": [],
   "source": [
    "import matplotlib.pyplot as plt\n",
    "from IPython.display import HTML"
   ]
  },
  {
   "cell_type": "markdown",
   "metadata": {},
   "source": [
    "## Sorting"
   ]
  },
  {
   "cell_type": "code",
   "execution_count": null,
   "metadata": {},
   "outputs": [],
   "source": [
    "from src.evolutive import PermutationEvolutive\n",
    "import numpy as np\n",
    "\n",
    "N = 100\n",
    "alphabet = np.arange(N)\n",
    "\n",
    "def fit(ind):\n",
    "    # cuenta los mal colocados\n",
    "    distance = 0\n",
    "    for i in range(len(ind)):\n",
    "        distance += abs(i-ind[i])\n",
    "    return distance # mejor cuanto más colocados\n",
    "\n",
    "evolution = PermutationEvolutive(\n",
    "    alphabet=alphabet,\n",
    "    n_individuals=100,\n",
    "    mutation=\"swap-gene\",\n",
    "    crossover= \"half-fixed\",\n",
    "\tT_selection=8,\n",
    "\tp_crossover=0.7,\n",
    "    maximize=False,\n",
    "\taverage_mutation_rate=1.25,\n",
    "\telitism=True,\n",
    ")\n",
    "results = evolution.evolve(fit=fit, n_generations=1500, target=0., obtain_metrics=True, trace=100)\n",
    "\n",
    "print(f'Best: {results[\"best\"]}')\n",
    "print(\"Evolution Metrics:\")\n",
    "evolution.plot_metrics(results[\"evolution_metrics\"])"
   ]
  },
  {
   "cell_type": "markdown",
   "metadata": {},
   "source": [
    "## Problema del Viajante del Comercio"
   ]
  },
  {
   "cell_type": "markdown",
   "metadata": {},
   "source": [
    "### Ejemplo del Notebook"
   ]
  },
  {
   "cell_type": "markdown",
   "metadata": {},
   "source": [
    "TODO añadir comentario sobre las decisiones que se han hecho"
   ]
  },
  {
   "cell_type": "code",
   "execution_count": null,
   "metadata": {},
   "outputs": [],
   "source": [
    "from examples import tsp\n",
    "from src.evolutive import PermutationEvolutive\n",
    "\n",
    "cities = [[0.8744058793117488, 0.30207179832703746], [0.6901572276474558, 0.8203362566663311], [0.7793458478083026, 0.09728979746351918], [0.7483358474304422, 0.4563419482458657], [0.4556164527790729, 0.12863149772605698], [0.1837236688553453, 0.23773749495644914], [0.806151832654163, 0.3288366900529254], [0.6222702185205219, 0.6019431085670109], [0.21886861543988367, 0.6980104036528004], [0.9706096813038716, 0.054871876245520146], [0.13881496219356027, 0.048489530185603646], [0.08511086492841424, 0.9123075505436051], [0.45436952164297595, 0.4731540740573398], [0.8986352255038935, 0.5116579750591849], [0.9539248970461742, 0.7530784036308166], [0.6321102985156373, 0.13575967095580344], [0.31130918313591205, 0.8545457319320597], [0.025897479791937017, 0.7854526665590987], [0.31414095045738066, 0.051421702103483846], [0.2739561013272712, 0.1970964027924862], [0.22762328443470214, 0.627414210742153], [0.44920042912037383, 0.18835427573438068], [0.2793138301174244, 0.9103956650199608], [0.005128451667189338, 0.4655718085045638], [0.9222718335261915, 0.8613103704784812], [0.49352498279326595, 0.28652416807644077], [0.5560886356057152, 0.034564925228364185], [0.0048939219846825255, 0.8635350555457212], [0.7824462381771976, 0.09355415747424733], [0.2973635133076785, 0.037580527218207815], [0.659068210692151, 0.5602321147981546], [0.43549418718677035, 0.6241289474799954], [0.25580657871099755, 0.519726015381631], [0.5950780852425872, 0.3193476592023645], [0.15763623266223903, 0.18210618406479095], [0.3434173147566393, 0.32992255868483356], [0.06451313705472006, 0.12606114349173192], [0.23212286400737547, 0.3945559700824013], [0.955507285594692, 0.02296933408938162], [0.7459955912073274, 0.1385374827130177], [0.46365765315595475, 0.6132297411379687], [0.20196772698059162, 0.046358747430397584], [0.2980093518214506, 0.36041197123227897], [0.7533459401199348, 0.6610562232191091], [0.323433933838161, 0.5068337090138902], [0.062138830138457, 0.7177455044259695], [0.47467832142010535, 0.17692718986260936], [0.2415634321550142, 0.500852093941769], [0.3441878827094532, 0.2604351258948506], [0.5445252142594251, 0.7295590645635646], [0.25391391610860914, 0.7641244059389684], [0.2630560480211699, 0.010670642241309536], [0.2092202940037915, 0.7415775443241935], [0.0031474687633804566, 0.6974574785842637], [0.4952329615559806, 0.9311775894780175], [0.1978488658972426, 0.8872693649066419], [0.1705364411799497, 0.8846808176103278], [0.7634962513234275, 0.4358457309207533], [0.9259752834140167, 0.0056226911773098465], [0.22090405091557253, 0.14500040130773872], [0.4636205151855679, 0.19249574424477278], [0.8057632881682811, 0.250168118157608], [0.6785236695642043, 0.39119477830554505], [0.4837264739606879, 0.23045417711558214], [0.8786721718893166, 0.015853186240832207], [0.1263309724872509, 0.9185321014517236], [0.24969404380600335, 0.9600467657522086], [0.5886119367943214, 0.10948123668473264], [0.13373527735293878, 0.5336853876899833], [0.5642696742735989, 0.9801384844337597], [0.646401605512568, 0.3338636388089157], [0.05603526365085032, 0.3149530712641142], [0.387141492676661, 0.5792852545912592], [0.8634070619751958, 0.8206820685065667], [0.4662474858565825, 0.32647667516764145], [0.01801973379815025, 0.12175434785651695], [0.6218125565554127, 0.07860046445444713], [0.6573938922925594, 0.5023092428939168], [0.2837581848186974, 0.02576704782244421], [0.3044774374252185, 0.7310313422019327], [0.33131673439274434, 0.693896434962478], [0.8523694048117944, 0.2805224723356823], [0.6200019812032047, 0.03989814578273998], [0.5437394088109648, 0.3258031129949792], [0.4386079860370994, 0.6142798815693052], [0.7430581106897977, 0.49260737229959284], [0.3913628378102181, 0.3185830750836698], [0.9065498976196814, 0.02381958527497441], [0.6874236611131453, 0.18642068590773597], [0.6946411585627993, 0.36991609629423117], [0.3784063098306413, 0.01018756575849844], [0.43806374889930155, 0.2268325586117821], [0.7411632641820634, 0.35513151640087337], [0.3884706603234591, 0.34043302784114093], [0.08674110453583683, 0.4491174987265194], [0.9794883193315694, 0.11207520940235804], [0.7496156619797683, 0.23845386610980834], [0.4423888847621813, 0.17212722421686055], [0.2276570035864689, 0.6515924491551327], [0.836939257954547, 0.0499933914625984]] # Length=8.587\n",
    "\n",
    "evolution = PermutationEvolutive(\n",
    "    alphabet=cities,\n",
    "    n_individuals=100,\n",
    "    mutation=[\"to-opt\", \"insert-gene\", \"swap-gene\"],\n",
    "    crossover= \"half-fixed\",\n",
    "\tT_selection=10,\n",
    "\tp_crossover=0.7,\n",
    "\taverage_mutation_rate=1.,\n",
    "\telitism=True,\n",
    ")\n",
    "results = evolution.evolve(fit=tsp.fit_cities, n_generations=1000, obtain_metrics=True, trace=100)\n",
    "\n",
    "print(\"Evolution Metrics:\")\n",
    "evolution.plot_metrics(results[\"evolution_metrics\"])"
   ]
  },
  {
   "cell_type": "code",
   "execution_count": null,
   "metadata": {},
   "outputs": [],
   "source": [
    "fig, axs = plt.subplots(1, 2, figsize=(12, 5))\n",
    "tsp.plot_cities(cities, axes=axs[0])\n",
    "tsp.plot_cities(results[\"best\"], axes=axs[1])"
   ]
  },
  {
   "cell_type": "markdown",
   "metadata": {},
   "source": [
    "TODO añadir ejemplos de usar solo una mutación o modificar el average mutation rate (o quitar elitismo)."
   ]
  },
  {
   "cell_type": "markdown",
   "metadata": {},
   "source": [
    "### Random 150 cities"
   ]
  },
  {
   "cell_type": "markdown",
   "metadata": {},
   "source": [
    "TODO añadir comentario sobre las decisiones que se han hecho"
   ]
  },
  {
   "cell_type": "code",
   "execution_count": null,
   "metadata": {},
   "outputs": [],
   "source": [
    "from examples import tsp\n",
    "from src.evolutive import PermutationEvolutive\n",
    "\n",
    "rng_cities = tsp.random_cities(150, 2)\n",
    "tsp.plot_cities(rng_cities)"
   ]
  },
  {
   "cell_type": "code",
   "execution_count": null,
   "metadata": {},
   "outputs": [],
   "source": [
    "evolution = PermutationEvolutive(\n",
    "    alphabet=rng_cities,\n",
    "    n_individuals=100,\n",
    "    mutation=[\"to-opt\", \"insert-gene\", \"swap-gene\"],\n",
    "    crossover= \"half-fixed\",\n",
    "\tT_selection=10,\n",
    "\tp_crossover=0.7,\n",
    "\taverage_mutation_rate=1.25,\n",
    "\telitism=True\n",
    ")\n",
    "results = evolution.evolve(fit=tsp.fit_cities, n_generations=2000, obtain_metrics=True, trace=100)\n",
    "\n",
    "print(\"Evolution Metrics:\")\n",
    "evolution.plot_metrics(results[\"evolution_metrics\"])"
   ]
  },
  {
   "cell_type": "code",
   "execution_count": null,
   "metadata": {},
   "outputs": [],
   "source": [
    "fig, axs = plt.subplots(1, 2, figsize=(12, 5))\n",
    "tsp.plot_cities(rng_cities, axes=axs[0])\n",
    "tsp.plot_cities(results[\"best\"], axes=axs[1])"
   ]
  },
  {
   "cell_type": "markdown",
   "metadata": {},
   "source": [
    "## 3D Cities"
   ]
  },
  {
   "cell_type": "code",
   "execution_count": null,
   "metadata": {},
   "outputs": [],
   "source": [
    "from examples import tsp\n",
    "from src.evolutive import PermutationEvolutive\n",
    "\n",
    "rng_cities = tsp.random_cities(100, 3)\n",
    "anim = tsp.plot_3dcities(rng_cities)\n",
    "HTML(anim.to_jshtml())\n",
    "# anim.save(\"cities_animation.mp4\", writer=\"ffmpeg\")"
   ]
  },
  {
   "cell_type": "code",
   "execution_count": null,
   "metadata": {},
   "outputs": [],
   "source": [
    "evolution = PermutationEvolutive(\n",
    "    alphabet=rng_cities,\n",
    "    n_individuals=100,\n",
    "    mutation=[\"to-opt\", \"insert-gene\", \"swap-gene\"],\n",
    "    crossover= \"half-fixed\",\n",
    "\tT_selection=10,\n",
    "\tp_crossover=0.7,\n",
    "\taverage_mutation_rate=1.25,\n",
    "\telitism=True\n",
    ")\n",
    "results = evolution.evolve(fit=tsp.fit_npcities, n_generations=1500, obtain_metrics=True, trace=100)\n",
    "\n",
    "print(\"Evolution Metrics:\")\n",
    "evolution.plot_metrics(results[\"evolution_metrics\"])"
   ]
  },
  {
   "cell_type": "code",
   "execution_count": null,
   "metadata": {},
   "outputs": [],
   "source": [
    "anim = tsp.plot_3dcities(results[\"best\"])\n",
    "HTML(anim.to_jshtml())"
   ]
  },
  {
   "cell_type": "markdown",
   "metadata": {},
   "source": [
    "## Mathematical Function Optimization"
   ]
  },
  {
   "cell_type": "code",
   "execution_count": null,
   "metadata": {},
   "outputs": [],
   "source": [
    "import examples.mathfuncs as mexp\n",
    "from src.evolutive import RealEvolutive\n",
    "import matplotlib.pyplot as plt"
   ]
  },
  {
   "cell_type": "markdown",
   "metadata": {},
   "source": [
    "### Himmelblau"
   ]
  },
  {
   "cell_type": "code",
   "execution_count": null,
   "metadata": {},
   "outputs": [],
   "source": [
    "evolutive = RealEvolutive(\n",
    "    n_individuals=100,\n",
    "    value_range=(-5, 5),\n",
    "    cromolength=2,\n",
    "    average_mutation_rate=0.5,\n",
    "    mutation=[\"random-range\", \"random-local\"],\n",
    "    crossover=\"blx\",\n",
    "    mutation_eps=0.01,\n",
    "    normalize=True,\n",
    "    T_selection=4\n",
    ")\n",
    "\n",
    "results = evolutive.evolve(\n",
    "    fit=mexp.get_fit_function(mexp.himmelblau),\n",
    "    n_generations=1500,\n",
    "    target=0.9999,\n",
    "    obtain_metrics=True,\n",
    "    trace=100\n",
    ")\n",
    "print(f\"Best: {results['best']}\")\n",
    "print(\"Evolution Metrics:\")\n",
    "evolutive.plot_metrics(results[\"evolution_metrics\"])"
   ]
  },
  {
   "cell_type": "code",
   "execution_count": null,
   "metadata": {},
   "outputs": [],
   "source": [
    "mexp.plot_contour(\n",
    "    function=mexp.himmelblau,\n",
    "    value_range=(-5, 5),\n",
    "    points=400,\n",
    "    marked_point=results[\"best\"]\n",
    ")\n",
    "plt.title(\"Himmelblau Function\")"
   ]
  },
  {
   "cell_type": "code",
   "execution_count": null,
   "metadata": {},
   "outputs": [],
   "source": [
    "mexp.plot_contour_3d(\n",
    "    function=mexp.himmelblau,\n",
    "    value_range=(-5, 5),\n",
    "    points=400,\n",
    "    marked_point=results[\"best\"],\n",
    "    title = \"3D Himmelblau Function\"\n",
    ")"
   ]
  },
  {
   "cell_type": "markdown",
   "metadata": {},
   "source": [
    "### Himmelblau OnlyOne"
   ]
  },
  {
   "cell_type": "code",
   "execution_count": null,
   "metadata": {},
   "outputs": [],
   "source": [
    "himmelblau = lambda ch: mexp.himmelblau(ch, onlyone=True)\n",
    "evolutive = RealEvolutive(\n",
    "    n_individuals=100,\n",
    "    value_range=(-5, 5),\n",
    "    cromolength=2,\n",
    "    average_mutation_rate=0.5,\n",
    "    mutation=[\"random-range\", \"random-local\"],\n",
    "    crossover=\"blx\",\n",
    "    mutation_eps=0.01,\n",
    "    normalize=True,\n",
    "    T_selection=4\n",
    ")\n",
    "\n",
    "results = evolutive.evolve(\n",
    "    fit=mexp.get_fit_function(himmelblau),\n",
    "    n_generations=1500,\n",
    "    target=0.9999,\n",
    "    obtain_metrics=True,\n",
    "    trace=100\n",
    ")\n",
    "print(f\"Best: {results['best']}\")\n",
    "print(\"Evolution Metrics:\")\n",
    "evolutive.plot_metrics(results[\"evolution_metrics\"])"
   ]
  },
  {
   "cell_type": "code",
   "execution_count": null,
   "metadata": {},
   "outputs": [],
   "source": [
    "mexp.plot_contour(\n",
    "    function=himmelblau,\n",
    "    value_range=(-5, 5),\n",
    "    points=400,\n",
    "    marked_point=results[\"best\"]\n",
    ")\n",
    "plt.title(\"Himmelblau OnlyOne Function\")"
   ]
  },
  {
   "cell_type": "code",
   "execution_count": null,
   "metadata": {},
   "outputs": [],
   "source": [
    "mexp.plot_contour_3d(\n",
    "    function=himmelblau,\n",
    "    value_range=(-5, 5),\n",
    "    points=400,\n",
    "    marked_point=results[\"best\"],\n",
    "    title = \"3D Himmelblau OnlyOne Function\"\n",
    ")"
   ]
  },
  {
   "cell_type": "markdown",
   "metadata": {},
   "source": [
    "### Ackley"
   ]
  },
  {
   "cell_type": "code",
   "execution_count": null,
   "metadata": {},
   "outputs": [],
   "source": [
    "evolutive = RealEvolutive(\n",
    "    n_individuals=100,\n",
    "    value_range=(-5, 5),\n",
    "    cromolength=2,\n",
    "    average_mutation_rate=0.5,\n",
    "    mutation=[\"random-range\", \"random-local\"],\n",
    "    crossover=\"blx\",\n",
    "    mutation_eps=0.01,\n",
    "    normalize=True,\n",
    "    T_selection=4\n",
    ")\n",
    "\n",
    "results = evolutive.evolve(\n",
    "    fit=mexp.get_fit_function(mexp.ackley),\n",
    "    n_generations=1500,\n",
    "    target=0.9999,\n",
    "    obtain_metrics=True,\n",
    "    trace=100\n",
    ")\n",
    "print(f\"Best: {results['best']}\")\n",
    "print(\"Evolution Metrics:\")\n",
    "evolutive.plot_metrics(results[\"evolution_metrics\"])\n"
   ]
  },
  {
   "cell_type": "code",
   "execution_count": null,
   "metadata": {},
   "outputs": [],
   "source": [
    "mexp.plot_contour(\n",
    "    function=mexp.ackley,\n",
    "    value_range=(-5, 5),\n",
    "    points=400,\n",
    "    marked_point=results[\"best\"]\n",
    ")\n",
    "plt.title(\"Ackley Function\")"
   ]
  },
  {
   "cell_type": "code",
   "execution_count": null,
   "metadata": {},
   "outputs": [],
   "source": [
    "mexp.plot_contour_3d(\n",
    "    function=mexp.ackley,\n",
    "    value_range=(-32.768, 32.768),\n",
    "    points=200,\n",
    "    marked_point=results[\"best\"],\n",
    "    title = \"3D Ackley Function\"\n",
    ")"
   ]
  },
  {
   "cell_type": "markdown",
   "metadata": {},
   "source": [
    "### Beale"
   ]
  },
  {
   "cell_type": "code",
   "execution_count": null,
   "metadata": {},
   "outputs": [],
   "source": [
    "evolutive = RealEvolutive(\n",
    "    n_individuals=100,\n",
    "    value_range=(-5, 5),\n",
    "    cromolength=2,\n",
    "    average_mutation_rate=0.3,\n",
    "    mutation=[\"random-range\", \"random-local\"],\n",
    "    crossover=\"blx\",\n",
    "    mutation_eps=0.01,\n",
    "    normalize=True,\n",
    "    T_selection=4\n",
    ")\n",
    "\n",
    "results = evolutive.evolve(\n",
    "    fit=mexp.get_fit_function(mexp.beale),\n",
    "    n_generations=1000,\n",
    "    obtain_metrics=True,\n",
    "    trace=50\n",
    ")\n",
    "\n",
    "print(f\"Best: {results['best']}\")\n",
    "print(\"Evolution Metrics:\")\n",
    "evolutive.plot_metrics(results[\"evolution_metrics\"])"
   ]
  },
  {
   "cell_type": "code",
   "execution_count": null,
   "metadata": {},
   "outputs": [],
   "source": [
    "mexp.plot_contour(\n",
    "    function=mexp.beale,\n",
    "    value_range=(-4.5, 4.5),\n",
    "    points=400,\n",
    "    marked_point=results[\"best\"]\n",
    ")\n",
    "plt.title(\"Beale Function\")"
   ]
  },
  {
   "cell_type": "code",
   "execution_count": null,
   "metadata": {},
   "outputs": [],
   "source": [
    "mexp.plot_contour_3d(\n",
    "    function=mexp.beale,\n",
    "    value_range=(-4.5, 4.5),\n",
    "    points=400,\n",
    "    marked_point=results[\"best\"],\n",
    "    title = \"3D Beale Function\"\n",
    ")"
   ]
  },
  {
   "cell_type": "markdown",
   "metadata": {},
   "source": [
    "### Easom"
   ]
  },
  {
   "cell_type": "code",
   "execution_count": null,
   "metadata": {},
   "outputs": [],
   "source": [
    "evolutive = RealEvolutive(\n",
    "    n_individuals=200,\n",
    "    value_range=(-10, 10),\n",
    "    cromolength=2,\n",
    "    average_mutation_rate=0.3,\n",
    "    mutation=[\"random-range\", \"random-local\"],\n",
    "    crossover=\"blx\",\n",
    "    mutation_eps=0.01,\n",
    "    normalize=True,\n",
    "    T_selection=4\n",
    ")\n",
    "\n",
    "results = evolutive.evolve(\n",
    "    fit=mexp.get_fit_function(mexp.easom, non_zero_divisor=True),\n",
    "    n_generations=1500,\n",
    "    target=None,\n",
    "    obtain_metrics=True,\n",
    "    trace=100\n",
    ")\n",
    "print(f\"Best: {results['best']}\")\n",
    "print(\"Evolution Metrics:\")\n",
    "evolutive.plot_metrics(results[\"evolution_metrics\"])"
   ]
  },
  {
   "cell_type": "code",
   "execution_count": null,
   "metadata": {},
   "outputs": [],
   "source": [
    "mexp.plot_contour(\n",
    "    function=mexp.easom,\n",
    "    value_range=(-10, 10),\n",
    "    points=400,\n",
    "    marked_point=results[\"best\"]\n",
    ")\n",
    "plt.title(\"Easom Function\")"
   ]
  },
  {
   "cell_type": "code",
   "execution_count": null,
   "metadata": {},
   "outputs": [],
   "source": [
    "mexp.plot_contour_3d(\n",
    "    function=mexp.easom,\n",
    "    value_range=(-10, 10),\n",
    "    points=400,\n",
    "    marked_point=results[\"best\"],\n",
    "    title = \"3D Easom Function\"\n",
    ")"
   ]
  },
  {
   "cell_type": "markdown",
   "metadata": {},
   "source": [
    "### Goldstein-Price"
   ]
  },
  {
   "cell_type": "code",
   "execution_count": null,
   "metadata": {},
   "outputs": [],
   "source": [
    "evolutive = RealEvolutive(\n",
    "    n_individuals=100,\n",
    "    value_range=(-2, 2),\n",
    "    cromolength=2,\n",
    "    average_mutation_rate=0.5,\n",
    "    mutation=[\"random-range\", \"random-local\"],\n",
    "    crossover=\"blx\",\n",
    "    mutation_eps=0.01,\n",
    "    normalize=True,\n",
    "    T_selection=4\n",
    ")\n",
    "\n",
    "results = evolutive.evolve(\n",
    "    fit=mexp.get_fit_function(mexp.goldstein_price_function),\n",
    "    n_generations=1500,\n",
    "    target=0.9999,\n",
    "    obtain_metrics=True,\n",
    "    trace=100\n",
    ")\n",
    "print(f\"Best: {results['best']}\")\n",
    "print(\"Evolution Metrics:\")\n",
    "evolutive.plot_metrics(results[\"evolution_metrics\"])"
   ]
  },
  {
   "cell_type": "code",
   "execution_count": null,
   "metadata": {},
   "outputs": [],
   "source": [
    "mexp.plot_contour(\n",
    "    function=mexp.goldstein_price_function,\n",
    "    value_range=(-2, 2),\n",
    "    points=400,\n",
    "    marked_point=results[\"best\"]\n",
    ")"
   ]
  },
  {
   "cell_type": "code",
   "execution_count": null,
   "metadata": {},
   "outputs": [],
   "source": [
    "mexp.plot_contour_3d(\n",
    "    function=mexp.goldstein_price_function,\n",
    "    value_range=(-2, 2),\n",
    "    points=400,\n",
    "    marked_point=results[\"best\"],\n",
    "    title = \"3D Goldstein Price Function\"\n",
    ")"
   ]
  },
  {
   "cell_type": "markdown",
   "metadata": {
    "notebookRunGroups": {
     "groupValue": "1"
    }
   },
   "source": [
    "### Rosenbrock "
   ]
  },
  {
   "cell_type": "code",
   "execution_count": null,
   "metadata": {},
   "outputs": [],
   "source": [
    "evolutive = RealEvolutive(\n",
    "    n_individuals=100,\n",
    "    value_range=(-2, 2),\n",
    "    cromolength=2,\n",
    "    average_mutation_rate=0.5,\n",
    "    mutation=[\"random-range\", \"random-local\"],\n",
    "    crossover=\"blx\",\n",
    "    mutation_eps=0.01,\n",
    "    normalize=True,\n",
    "    T_selection=4\n",
    ")\n",
    "\n",
    "results = evolutive.evolve(\n",
    "    fit=mexp.get_fit_function(mexp.rosenbrock),\n",
    "    n_generations=2500,\n",
    "    target=0.99999,\n",
    "    obtain_metrics=True,\n",
    "    trace=100\n",
    ")\n",
    "\n",
    "print(f\"Best: {results['best']}\")\n",
    "print(\"Evolution Metrics:\")\n",
    "evolutive.plot_metrics(results[\"evolution_metrics\"])"
   ]
  },
  {
   "cell_type": "code",
   "execution_count": null,
   "metadata": {},
   "outputs": [],
   "source": [
    "mexp.plot_contour(\n",
    "    function=mexp.rosenbrock,\n",
    "    value_range=(-5, 10),\n",
    "    points=400,\n",
    "    marked_point=results[\"best\"]\n",
    ")"
   ]
  },
  {
   "cell_type": "code",
   "execution_count": null,
   "metadata": {},
   "outputs": [],
   "source": [
    "mexp.plot_contour_3d(\n",
    "    function=mexp.rosenbrock,\n",
    "    value_range=(-5, 10),\n",
    "    points=400,\n",
    "    marked_point=results[\"best\"],\n",
    "    title = \"3D Rosenbrock Function\"\n",
    ")"
   ]
  },
  {
   "cell_type": "markdown",
   "metadata": {},
   "source": [
    "### Rosenbrock NDimensional"
   ]
  },
  {
   "cell_type": "code",
   "execution_count": null,
   "metadata": {},
   "outputs": [],
   "source": [
    "evolutive = RealEvolutive(\n",
    "    n_individuals=100,\n",
    "    value_range=(-5, 10),\n",
    "    cromolength=2,\n",
    "    average_mutation_rate=0.5,\n",
    "    mutation=[\"random-range\", \"random-local\"],\n",
    "    crossover=\"blx\",\n",
    "    mutation_eps=0.01,\n",
    "    normalize=True,\n",
    "    T_selection=4\n",
    ")\n",
    "\n",
    "results = evolutive.evolve(\n",
    "    fit=mexp.get_fit_function(mexp.rosenbrock_ndim),\n",
    "    n_generations=2500,\n",
    "    target=0.99999,\n",
    "    obtain_metrics=True,\n",
    "    trace=100\n",
    ")\n",
    "\n",
    "print(f\"Best: {results['best']}\")\n",
    "print(\"Evolution Metrics:\")\n",
    "evolutive.plot_metrics(results[\"evolution_metrics\"])"
   ]
  },
  {
   "cell_type": "code",
   "execution_count": null,
   "metadata": {},
   "outputs": [],
   "source": [
    "mexp.plot_contour(\n",
    "    function=mexp.rosenbrock_ndim,\n",
    "    value_range=(-5, 10),\n",
    "    points=400,\n",
    "    marked_point=results[\"best\"]\n",
    ")"
   ]
  },
  {
   "cell_type": "code",
   "execution_count": null,
   "metadata": {},
   "outputs": [],
   "source": [
    "mexp.plot_contour_3d(\n",
    "    function=mexp.rosenbrock_ndim,\n",
    "    value_range=(-5, 10),\n",
    "    points=400,\n",
    "    marked_point=results[\"best\"],\n",
    "    title = \"3D Rosenbrock N-Dimensional Function\"\n",
    ")"
   ]
  },
  {
   "cell_type": "markdown",
   "metadata": {},
   "source": [
    "## Magic Squares"
   ]
  },
  {
   "cell_type": "code",
   "execution_count": null,
   "metadata": {},
   "outputs": [],
   "source": [
    "import examples.magicsquares as msq\n",
    "from src.evolutive import AlphabetEvolutive\n",
    "import numpy as np\n",
    "\n",
    "N = 8\n",
    "evolutive = AlphabetEvolutive(\n",
    "    n_individuals=100,\n",
    "    alphabet=np.arange(1, N*N),\n",
    "    cromolength=N*N,\n",
    "    phenotype=lambda cromosome: msq.to_msquare(cromosome, N),\n",
    "    mutation=[\"random-gene\", \"random-local\"],\n",
    "    crossover=\"split-merge\",\n",
    "    average_mutation_rate=1.25,\n",
    "    T_selection=4,\n",
    "    elitism=True,\n",
    "    maximize=False\n",
    ")\n",
    "results = evolutive.evolve(\n",
    "    fit=lambda square: msq.fit_square(square, max_repetitions=0.4),\n",
    "    n_generations=1500,\n",
    "    target=0.1,\n",
    "    obtain_metrics=True,\n",
    "    trace=100\n",
    ")\n",
    "print(f\"Best:\\n{results['best']}\")\n",
    "print(\"Evolution Metrics:\")\n",
    "evolutive.plot_metrics(results[\"evolution_metrics\"])"
   ]
  },
  {
   "cell_type": "markdown",
   "metadata": {},
   "source": [
    "## N Queens"
   ]
  },
  {
   "cell_type": "code",
   "execution_count": 4,
   "metadata": {},
   "outputs": [],
   "source": [
    "import examples.n_queens as nq\n",
    "from src.evolutive import PermutationEvolutive\n",
    "import numpy as np"
   ]
  },
  {
   "cell_type": "code",
   "execution_count": 5,
   "metadata": {},
   "outputs": [
    {
     "name": "stdout",
     "output_type": "stream",
     "text": [
      "Generation        0 | Best Fit: 20.0000 | Mean Fit: 43.6100\n",
      "Generation       59 | Best Fit: 0.0000 | Mean Fit: 11.9600\n",
      "\n",
      "Evolution Metrics:\n"
     ]
    },
    {
     "data": {
      "image/png": "[encoded data removed]",
      "text/plain": [
       "<Figure size 1200x500 with 2 Axes>"
      ]
     },
     "metadata": {},
     "output_type": "display_data"
    }
   ],
   "source": [
    "N = 34\n",
    "evolution = PermutationEvolutive(\n",
    "    alphabet=np.arange(N),\n",
    "    n_individuals=200,\n",
    "    mutation=[\"to-opt\", \"insert-gene\", \"swap-gene\"],\n",
    "    crossover=\"half-fixed\",\n",
    "    T_selection=12,\n",
    "    p_crossover=0.8,\n",
    "    average_mutation_rate=1.2,\n",
    "    elitism=True,\n",
    "    maximize=False\n",
    ")\n",
    "\n",
    "results = evolution.evolve(\n",
    "    fit=nq.fit_queen,\n",
    "    n_generations=1500,\n",
    "    obtain_metrics=True,\n",
    "    target=0.,\n",
    "    trace=100 \n",
    ")\n",
    "\n",
    "print(\"\\nEvolution Metrics:\")\n",
    "evolution.plot_metrics(results[\"evolution_metrics\"])"
   ]
  },
  {
   "cell_type": "code",
   "execution_count": 6,
   "metadata": {},
   "outputs": [
    {
     "name": "stdout",
     "output_type": "stream",
     "text": [
      "Best Solution:\n"
     ]
    },
    {
     "data": {
      "image/png": "[encoded data removed]",
      "text/plain": [
       "<Figure size 800x600 with 1 Axes>"
      ]
     },
     "metadata": {},
     "output_type": "display_data"
    }
   ],
   "source": [
    "print(\"Best Solution:\")\n",
    "nq.visualize_queens_board(results[\"best\"])"
   ]
  }
 ],
 "metadata": {
  "kernelspec": {
   "display_name": "Python 3",
   "language": "python",
   "name": "python3"
  },
  "language_info": {
   "codemirror_mode": {
    "name": "ipython",
    "version": 3
   },
   "file_extension": ".py",
   "mimetype": "text/x-python",
   "name": "python",
   "nbconvert_exporter": "python",
   "pygments_lexer": "ipython3",
   "version": "3.11.9"
  }
 },
 "nbformat": 4,
 "nbformat_minor": 2
}
